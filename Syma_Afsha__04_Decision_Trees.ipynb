{
  "cells": [
    {
      "cell_type": "markdown",
      "metadata": {
        "id": "view-in-github",
        "colab_type": "text"
      },
      "source": [
        "<a href=\"https://colab.research.google.com/github/syma-afsha/Machine_Learning/blob/main/Syma_Afsha__04_Decision_Trees.ipynb\" target=\"_parent\"><img src=\"https://colab.research.google.com/assets/colab-badge.svg\" alt=\"Open In Colab\"/></a>"
      ]
    },
    {
      "cell_type": "markdown",
      "metadata": {
        "id": "F9rUlX1GxEPn"
      },
      "source": [
        "# **DECISION TREES**"
      ]
    },
    {
      "cell_type": "markdown",
      "metadata": {
        "id": "p32urdsx9Dpr"
      },
      "source": [
        "Decision Trees (DTs) are a non-parametric supervised learning method used for classification and regression. The goal is to create a model that predicts the value of a target variable by learning simple decision rules inferred from the data features. A tree can be seen as a piecewise constant approximation."
      ]
    },
    {
      "cell_type": "markdown",
      "metadata": {
        "id": "ZFI3QWUW9FjQ"
      },
      "source": [
        "\n",
        "\n",
        "---\n",
        "\n"
      ]
    },
    {
      "cell_type": "markdown",
      "metadata": {
        "id": "hEYpuM1N1AoO"
      },
      "source": [
        "In this Notebook we are going to see how this algorithm works with a simple example, using the Python library \"scikit-learn\", especifically the [\"Tree\" module](https://scikit-learn.org/stable/modules/tree.html).\n",
        "\n",
        "First, we are going to import some libraries and functions that we will use:\n",
        "\n",
        "\n",
        "*   **Numpy**, that allows us to work with arrays\n",
        "*   The **\"Scikit-learn\"** library that provides a group of functions related to Decision Trees and dataset splitting\n",
        "*   **Graphviz**, that will allow us to plot the Decision Trees\n",
        "* **io**, that allows us to navigate files\n",
        "*  **Pandas**, that allows us to work with dataframes"
      ]
    },
    {
      "cell_type": "code",
      "execution_count": null,
      "metadata": {
        "id": "wCTZwCGQw-Ok"
      },
      "outputs": [],
      "source": [
        "import numpy as np\n",
        "from sklearn import tree\n",
        "from sklearn.model_selection import train_test_split\n",
        "import graphviz\n",
        "import io\n",
        "import pandas as pd"
      ]
    },
    {
      "cell_type": "markdown",
      "metadata": {
        "id": "RSJsHtNC_7FY"
      },
      "source": [
        "## **DATA DEFINITION**"
      ]
    },
    {
      "cell_type": "markdown",
      "metadata": {
        "id": "yFzm5QxcADNI"
      },
      "source": [
        "In this activity we have a dataset of medical diagnoses based on having some of these five different symptoms, in order:\n",
        "\n",
        "\n",
        "*   Temperature\n",
        "*   Sore throat\n",
        "*   Cough\n",
        "*   Headache\n",
        "*   Muscle pain\n",
        "\n",
        "The possible diagnoses are:\n",
        "\n",
        "\n",
        "*   Covid\n",
        "*   Flu\n",
        "*   Cold\n",
        "*   Other\n",
        "\n",
        "Here we have a set of parameters ***(XTrain)*** consisting of five different values (one for each symptom presented previously) where 0 is not having the symptom and 1 is having it. For each set of parameters we have a diagnose ***(yTrain)*** of the previously listed diagnoses. Here we can see a table containing this data:\n",
        "\n",
        "![image.png](data:image/png;base64,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)\n",
        "\n",
        "\n"
      ]
    },
    {
      "cell_type": "code",
      "execution_count": null,
      "metadata": {
        "id": "TX84f64A0c27"
      },
      "outputs": [],
      "source": [
        "# Parameters of training data\n",
        "XTrain = np.array([[1, 0, 1, 0, 0], [1, 0, 1, 0, 1], [1, 0, 1, 1, 0],\\\n",
        "                   [1, 1, 0, 1, 1], [1, 0, 1, 1, 1], [1, 0, 1, 1, 1],\\\n",
        "                   [0, 1, 1, 0, 0], [0, 1, 1, 1, 0], [0, 1, 1, 0, 0],\\\n",
        "                   [0, 0, 0, 1, 1], [1, 1, 0, 0, 0], [0, 1, 0, 1, 0]])\n",
        "\n",
        "# Ground truth of training data\n",
        "yTrain = np.array([\"Covid\", \"Covid\", \"Covid\", \"Flu\", \"Flu\", \"Flu\", \"Cold\", \"Cold\", \"Cold\", \"Other\", \"Other\", \"Other\"])"
      ]
    },
    {
      "cell_type": "markdown",
      "metadata": {
        "id": "OmSN4_gVE9lj"
      },
      "source": [
        "To start, we have an example of how to create a basic DT using the [\"Tree\" module](https://scikit-learn.org/stable/modules/tree.html), specifically the **\"DecisionTreeClassifier\"**. Next, the DT is exported as text and displayed. ***Try changing the criterion to get the information gain (entropy).***"
      ]
    },
    {
      "cell_type": "code",
      "execution_count": null,
      "metadata": {
        "colab": {
          "base_uri": "https://localhost:8080/"
        },
        "id": "yGGX9F0zzsfP",
        "outputId": "9928a8e8-626f-4f99-de02-6f149a319817"
      },
      "outputs": [
        {
          "output_type": "stream",
          "name": "stdout",
          "text": [
            "|--- Temperature <= 0.50\n",
            "|   |--- Cough <= 0.50\n",
            "|   |   |--- class: Other\n",
            "|   |--- Cough >  0.50\n",
            "|   |   |--- class: Cold\n",
            "|--- Temperature >  0.50\n",
            "|   |--- Muscle pain <= 0.50\n",
            "|   |   |--- Sore throat <= 0.50\n",
            "|   |   |   |--- class: Covid\n",
            "|   |   |--- Sore throat >  0.50\n",
            "|   |   |   |--- class: Other\n",
            "|   |--- Muscle pain >  0.50\n",
            "|   |   |--- Headache <= 0.50\n",
            "|   |   |   |--- class: Covid\n",
            "|   |   |--- Headache >  0.50\n",
            "|   |   |   |--- class: Flu\n",
            "\n"
          ]
        }
      ],
      "source": [
        "# Fit the classifier\n",
        "# TO DO: Change the criterion to information gain\n",
        "clf = tree.DecisionTreeClassifier(criterion='entropy') #_________TO DO__________\n",
        "clf = clf.fit(XTrain, yTrain)\n",
        "\n",
        "# Export and print the DT\n",
        "r = tree.export_text(clf, feature_names=[\"Temperature\", \"Sore throat\", \"Cough\", \"Headache\", \"Muscle pain\"])\n",
        "print(r)"
      ]
    },
    {
      "cell_type": "markdown",
      "metadata": {
        "id": "6lXhC5QOFyp6"
      },
      "source": [
        "The [\"Tree\" module](https://scikit-learn.org/stable/modules/tree.html) allows us to plot the tree, as follows:"
      ]
    },
    {
      "cell_type": "code",
      "execution_count": null,
      "metadata": {
        "colab": {
          "base_uri": "https://localhost:8080/",
          "height": 597
        },
        "id": "9HkfHrcq28VB",
        "outputId": "80916c7b-2389-4eb3-caed-03df184f0ff5"
      },
      "outputs": [
        {
          "output_type": "execute_result",
          "data": {
            "text/plain": [
              "[Text(0.4090909090909091, 0.875, 'x[0] <= 0.5\\nentropy = 2.0\\nsamples = 12\\nvalue = [3, 3, 3, 3]'),\n",
              " Text(0.18181818181818182, 0.625, 'x[2] <= 0.5\\nentropy = 0.971\\nsamples = 5\\nvalue = [3, 0, 0, 2]'),\n",
              " Text(0.09090909090909091, 0.375, 'entropy = 0.0\\nsamples = 2\\nvalue = [0, 0, 0, 2]'),\n",
              " Text(0.2727272727272727, 0.375, 'entropy = 0.0\\nsamples = 3\\nvalue = [3, 0, 0, 0]'),\n",
              " Text(0.6363636363636364, 0.625, 'x[4] <= 0.5\\nentropy = 1.449\\nsamples = 7\\nvalue = [0, 3, 3, 1]'),\n",
              " Text(0.45454545454545453, 0.375, 'x[1] <= 0.5\\nentropy = 0.918\\nsamples = 3\\nvalue = [0, 2, 0, 1]'),\n",
              " Text(0.36363636363636365, 0.125, 'entropy = 0.0\\nsamples = 2\\nvalue = [0, 2, 0, 0]'),\n",
              " Text(0.5454545454545454, 0.125, 'entropy = 0.0\\nsamples = 1\\nvalue = [0, 0, 0, 1]'),\n",
              " Text(0.8181818181818182, 0.375, 'x[3] <= 0.5\\nentropy = 0.811\\nsamples = 4\\nvalue = [0, 1, 3, 0]'),\n",
              " Text(0.7272727272727273, 0.125, 'entropy = 0.0\\nsamples = 1\\nvalue = [0, 1, 0, 0]'),\n",
              " Text(0.9090909090909091, 0.125, 'entropy = 0.0\\nsamples = 3\\nvalue = [0, 0, 3, 0]')]"
            ]
          },
          "metadata": {},
          "execution_count": 98
        },
        {
          "output_type": "display_data",
          "data": {
            "text/plain": [
              "<Figure size 640x480 with 1 Axes>"
            ],
            "image/png": "[encoded data removed]"
          },
          "metadata": {}
        }
      ],
      "source": [
        "# Plot the decision tree\n",
        "tree.plot_tree(clf)"
      ]
    },
    {
      "cell_type": "markdown",
      "metadata": {
        "id": "0VfLQPDVGDIa"
      },
      "source": [
        "The previous plot of the decision tree isn't very easy to understand, so we are going to use the [**\"graphviz\"** library](https://www.graphviz.org) to plot the DT, as it allows to plot the parameters and the class names. Also it supports a variety of aesthetic options, including coloring nodes by their class (or value for regression) and using explicit variable and class names if desired. **Search and apply the parameter that defines how to paint the nodes to indicate majority class for classification (different color for each class).**"
      ]
    },
    {
      "cell_type": "code",
      "execution_count": null,
      "metadata": {
        "colab": {
          "base_uri": "https://localhost:8080/"
        },
        "id": "NCuvtRuMRSay",
        "outputId": "23680113-910c-4a3f-e91b-bac6b1f5b9cc"
      },
      "outputs": [
        {
          "output_type": "execute_result",
          "data": {
            "text/plain": [
              "array(['Cold', 'Covid', 'Flu', 'Other'], dtype='<U5')"
            ]
          },
          "metadata": {},
          "execution_count": 99
        }
      ],
      "source": [
        "clf.classes_\n"
      ]
    },
    {
      "cell_type": "code",
      "execution_count": null,
      "metadata": {
        "id": "QvkYBoIaRhPB"
      },
      "outputs": [],
      "source": [
        "class_names=[str(class_label) for class_label in clf.classes_]"
      ]
    },
    {
      "cell_type": "code",
      "execution_count": null,
      "metadata": {
        "colab": {
          "base_uri": "https://localhost:8080/"
        },
        "id": "JPapNGGYRxXG",
        "outputId": "48385be5-ee6f-46ca-e43c-d2981d45587b"
      },
      "outputs": [
        {
          "output_type": "execute_result",
          "data": {
            "text/plain": [
              "['Cold', 'Covid', 'Flu', 'Other']"
            ]
          },
          "metadata": {},
          "execution_count": 101
        }
      ],
      "source": [
        "class_names"
      ]
    },
    {
      "cell_type": "code",
      "execution_count": null,
      "metadata": {
        "colab": {
          "base_uri": "https://localhost:8080/",
          "height": 894
        },
        "id": "JomEBp1g2NpG",
        "outputId": "dafae181-bbaa-4e2b-9d3b-8b298b8f078f"
      },
      "outputs": [
        {
          "output_type": "stream",
          "name": "stdout",
          "text": [
            "|--- Temperature <= 0.50\n",
            "|   |--- Cough <= 0.50\n",
            "|   |   |--- class: Other\n",
            "|   |--- Cough >  0.50\n",
            "|   |   |--- class: Cold\n",
            "|--- Temperature >  0.50\n",
            "|   |--- Muscle pain <= 0.50\n",
            "|   |   |--- Sore throat <= 0.50\n",
            "|   |   |   |--- class: Covid\n",
            "|   |   |--- Sore throat >  0.50\n",
            "|   |   |   |--- class: Other\n",
            "|   |--- Muscle pain >  0.50\n",
            "|   |   |--- Headache <= 0.50\n",
            "|   |   |   |--- class: Covid\n",
            "|   |   |--- Headache >  0.50\n",
            "|   |   |   |--- class: Flu\n",
            "\n"
          ]
        },
        {
          "output_type": "execute_result",
          "data": {
            "image/svg+xml": "<?xml version=\"1.0\" encoding=\"UTF-8\" standalone=\"no\"?>\n<!DOCTYPE svg PUBLIC \"-//W3C//DTD SVG 1.1//EN\"\n \"http://www.w3.org/Graphics/SVG/1.1/DTD/svg11.dtd\">\n<!-- Generated by graphviz version 2.43.0 (0)\n -->\n<!-- Title: Tree Pages: 1 -->\n<svg width=\"705pt\" height=\"433pt\"\n viewBox=\"0.00 0.00 705.00 433.00\" xmlns=\"http://www.w3.org/2000/svg\" xmlns:xlink=\"http://www.w3.org/1999/xlink\">\n<g id=\"graph0\" class=\"graph\" transform=\"scale(1 1) rotate(0) translate(4 429)\">\n<title>Tree</title>\n<polygon fill=\"white\" stroke=\"transparent\" points=\"-4,4 -4,-429 701,-429 701,4 -4,4\"/>\n<!-- 0 -->\n<g id=\"node1\" class=\"node\">\n<title>0</title>\n<path fill=\"#ffffff\" stroke=\"black\" d=\"M328,-425C328,-425 225,-425 225,-425 219,-425 213,-419 213,-413 213,-413 213,-354 213,-354 213,-348 219,-342 225,-342 225,-342 328,-342 328,-342 334,-342 340,-348 340,-354 340,-354 340,-413 340,-413 340,-419 334,-425 328,-425\"/>\n<text text-anchor=\"start\" x=\"221\" y=\"-409.8\" font-family=\"Helvetica,sans-Serif\" font-size=\"14.00\">Temperature ≤ 0.5</text>\n<text text-anchor=\"start\" x=\"236.5\" y=\"-394.8\" font-family=\"Helvetica,sans-Serif\" font-size=\"14.00\">entropy = 2.0</text>\n<text text-anchor=\"start\" x=\"235.5\" y=\"-379.8\" font-family=\"Helvetica,sans-Serif\" font-size=\"14.00\">samples = 12</text>\n<text text-anchor=\"start\" x=\"222\" y=\"-364.8\" font-family=\"Helvetica,sans-Serif\" font-size=\"14.00\">value = [3, 3, 3, 3]</text>\n<text text-anchor=\"start\" x=\"239\" y=\"-349.8\" font-family=\"Helvetica,sans-Serif\" font-size=\"14.00\">class = Cold</text>\n</g>\n<!-- 1 -->\n<g id=\"node2\" class=\"node\">\n<title>1</title>\n<path fill=\"#f6d5bd\" stroke=\"black\" d=\"M256,-306C256,-306 155,-306 155,-306 149,-306 143,-300 143,-294 143,-294 143,-235 143,-235 143,-229 149,-223 155,-223 155,-223 256,-223 256,-223 262,-223 268,-229 268,-235 268,-235 268,-294 268,-294 268,-300 262,-306 256,-306\"/>\n<text text-anchor=\"start\" x=\"168.5\" y=\"-290.8\" font-family=\"Helvetica,sans-Serif\" font-size=\"14.00\">Cough ≤ 0.5</text>\n<text text-anchor=\"start\" x=\"158\" y=\"-275.8\" font-family=\"Helvetica,sans-Serif\" font-size=\"14.00\">entropy = 0.971</text>\n<text text-anchor=\"start\" x=\"168\" y=\"-260.8\" font-family=\"Helvetica,sans-Serif\" font-size=\"14.00\">samples = 5</text>\n<text text-anchor=\"start\" x=\"151\" y=\"-245.8\" font-family=\"Helvetica,sans-Serif\" font-size=\"14.00\">value = [3, 0, 0, 2]</text>\n<text text-anchor=\"start\" x=\"168\" y=\"-230.8\" font-family=\"Helvetica,sans-Serif\" font-size=\"14.00\">class = Cold</text>\n</g>\n<!-- 0&#45;&gt;1 -->\n<g id=\"edge1\" class=\"edge\">\n<title>0&#45;&gt;1</title>\n<path fill=\"none\" stroke=\"black\" d=\"M251.87,-341.91C246.53,-333.1 240.82,-323.7 235.3,-314.61\"/>\n<polygon fill=\"black\" stroke=\"black\" points=\"238.27,-312.75 230.09,-306.02 232.29,-316.39 238.27,-312.75\"/>\n<text text-anchor=\"middle\" x=\"224.15\" y=\"-326.6\" font-family=\"Helvetica,sans-Serif\" font-size=\"14.00\">True</text>\n</g>\n<!-- 4 -->\n<g id=\"node5\" class=\"node\">\n<title>4</title>\n<path fill=\"#ffffff\" stroke=\"black\" d=\"M399,-306C399,-306 298,-306 298,-306 292,-306 286,-300 286,-294 286,-294 286,-235 286,-235 286,-229 292,-223 298,-223 298,-223 399,-223 399,-223 405,-223 411,-229 411,-235 411,-235 411,-294 411,-294 411,-300 405,-306 399,-306\"/>\n<text text-anchor=\"start\" x=\"295\" y=\"-290.8\" font-family=\"Helvetica,sans-Serif\" font-size=\"14.00\">Muscle pain ≤ 0.5</text>\n<text text-anchor=\"start\" x=\"301\" y=\"-275.8\" font-family=\"Helvetica,sans-Serif\" font-size=\"14.00\">entropy = 1.449</text>\n<text text-anchor=\"start\" x=\"311\" y=\"-260.8\" font-family=\"Helvetica,sans-Serif\" font-size=\"14.00\">samples = 7</text>\n<text text-anchor=\"start\" x=\"294\" y=\"-245.8\" font-family=\"Helvetica,sans-Serif\" font-size=\"14.00\">value = [0, 3, 3, 1]</text>\n<text text-anchor=\"start\" x=\"307.5\" y=\"-230.8\" font-family=\"Helvetica,sans-Serif\" font-size=\"14.00\">class = Covid</text>\n</g>\n<!-- 0&#45;&gt;4 -->\n<g id=\"edge4\" class=\"edge\">\n<title>0&#45;&gt;4</title>\n<path fill=\"none\" stroke=\"black\" d=\"M301.48,-341.91C306.9,-333.1 312.68,-323.7 318.28,-314.61\"/>\n<polygon fill=\"black\" stroke=\"black\" points=\"321.3,-316.37 323.56,-306.02 315.34,-312.7 321.3,-316.37\"/>\n<text text-anchor=\"middle\" x=\"329.35\" y=\"-326.64\" font-family=\"Helvetica,sans-Serif\" font-size=\"14.00\">False</text>\n</g>\n<!-- 2 -->\n<g id=\"node3\" class=\"node\">\n<title>2</title>\n<path fill=\"#d739e5\" stroke=\"black\" d=\"M113,-179.5C113,-179.5 12,-179.5 12,-179.5 6,-179.5 0,-173.5 0,-167.5 0,-167.5 0,-123.5 0,-123.5 0,-117.5 6,-111.5 12,-111.5 12,-111.5 113,-111.5 113,-111.5 119,-111.5 125,-117.5 125,-123.5 125,-123.5 125,-167.5 125,-167.5 125,-173.5 119,-179.5 113,-179.5\"/>\n<text text-anchor=\"start\" x=\"22.5\" y=\"-164.3\" font-family=\"Helvetica,sans-Serif\" font-size=\"14.00\">entropy = 0.0</text>\n<text text-anchor=\"start\" x=\"25\" y=\"-149.3\" font-family=\"Helvetica,sans-Serif\" font-size=\"14.00\">samples = 2</text>\n<text text-anchor=\"start\" x=\"8\" y=\"-134.3\" font-family=\"Helvetica,sans-Serif\" font-size=\"14.00\">value = [0, 0, 0, 2]</text>\n<text text-anchor=\"start\" x=\"21.5\" y=\"-119.3\" font-family=\"Helvetica,sans-Serif\" font-size=\"14.00\">class = Other</text>\n</g>\n<!-- 1&#45;&gt;2 -->\n<g id=\"edge2\" class=\"edge\">\n<title>1&#45;&gt;2</title>\n<path fill=\"none\" stroke=\"black\" d=\"M155.89,-222.91C141.32,-210.99 125.41,-197.98 110.92,-186.12\"/>\n<polygon fill=\"black\" stroke=\"black\" points=\"112.99,-183.29 103.04,-179.67 108.56,-188.71 112.99,-183.29\"/>\n</g>\n<!-- 3 -->\n<g id=\"node4\" class=\"node\">\n<title>3</title>\n<path fill=\"#e58139\" stroke=\"black\" d=\"M256,-179.5C256,-179.5 155,-179.5 155,-179.5 149,-179.5 143,-173.5 143,-167.5 143,-167.5 143,-123.5 143,-123.5 143,-117.5 149,-111.5 155,-111.5 155,-111.5 256,-111.5 256,-111.5 262,-111.5 268,-117.5 268,-123.5 268,-123.5 268,-167.5 268,-167.5 268,-173.5 262,-179.5 256,-179.5\"/>\n<text text-anchor=\"start\" x=\"165.5\" y=\"-164.3\" font-family=\"Helvetica,sans-Serif\" font-size=\"14.00\">entropy = 0.0</text>\n<text text-anchor=\"start\" x=\"168\" y=\"-149.3\" font-family=\"Helvetica,sans-Serif\" font-size=\"14.00\">samples = 3</text>\n<text text-anchor=\"start\" x=\"151\" y=\"-134.3\" font-family=\"Helvetica,sans-Serif\" font-size=\"14.00\">value = [3, 0, 0, 0]</text>\n<text text-anchor=\"start\" x=\"168\" y=\"-119.3\" font-family=\"Helvetica,sans-Serif\" font-size=\"14.00\">class = Cold</text>\n</g>\n<!-- 1&#45;&gt;3 -->\n<g id=\"edge3\" class=\"edge\">\n<title>1&#45;&gt;3</title>\n<path fill=\"none\" stroke=\"black\" d=\"M205.5,-222.91C205.5,-212.2 205.5,-200.62 205.5,-189.78\"/>\n<polygon fill=\"black\" stroke=\"black\" points=\"209,-189.67 205.5,-179.67 202,-189.67 209,-189.67\"/>\n</g>\n<!-- 5 -->\n<g id=\"node6\" class=\"node\">\n<title>5</title>\n<path fill=\"#a3f29c\" stroke=\"black\" d=\"M399,-187C399,-187 298,-187 298,-187 292,-187 286,-181 286,-175 286,-175 286,-116 286,-116 286,-110 292,-104 298,-104 298,-104 399,-104 399,-104 405,-104 411,-110 411,-116 411,-116 411,-175 411,-175 411,-181 405,-187 399,-187\"/>\n<text text-anchor=\"start\" x=\"298\" y=\"-171.8\" font-family=\"Helvetica,sans-Serif\" font-size=\"14.00\">Sore throat ≤ 0.5</text>\n<text text-anchor=\"start\" x=\"301\" y=\"-156.8\" font-family=\"Helvetica,sans-Serif\" font-size=\"14.00\">entropy = 0.918</text>\n<text text-anchor=\"start\" x=\"311\" y=\"-141.8\" font-family=\"Helvetica,sans-Serif\" font-size=\"14.00\">samples = 3</text>\n<text text-anchor=\"start\" x=\"294\" y=\"-126.8\" font-family=\"Helvetica,sans-Serif\" font-size=\"14.00\">value = [0, 2, 0, 1]</text>\n<text text-anchor=\"start\" x=\"307.5\" y=\"-111.8\" font-family=\"Helvetica,sans-Serif\" font-size=\"14.00\">class = Covid</text>\n</g>\n<!-- 4&#45;&gt;5 -->\n<g id=\"edge5\" class=\"edge\">\n<title>4&#45;&gt;5</title>\n<path fill=\"none\" stroke=\"black\" d=\"M348.5,-222.91C348.5,-214.65 348.5,-205.86 348.5,-197.3\"/>\n<polygon fill=\"black\" stroke=\"black\" points=\"352,-197.02 348.5,-187.02 345,-197.02 352,-197.02\"/>\n</g>\n<!-- 8 -->\n<g id=\"node9\" class=\"node\">\n<title>8</title>\n<path fill=\"#7bbeee\" stroke=\"black\" d=\"M542,-187C542,-187 441,-187 441,-187 435,-187 429,-181 429,-175 429,-175 429,-116 429,-116 429,-110 435,-104 441,-104 441,-104 542,-104 542,-104 548,-104 554,-110 554,-116 554,-116 554,-175 554,-175 554,-181 548,-187 542,-187\"/>\n<text text-anchor=\"start\" x=\"443.5\" y=\"-171.8\" font-family=\"Helvetica,sans-Serif\" font-size=\"14.00\">Headache ≤ 0.5</text>\n<text text-anchor=\"start\" x=\"444\" y=\"-156.8\" font-family=\"Helvetica,sans-Serif\" font-size=\"14.00\">entropy = 0.811</text>\n<text text-anchor=\"start\" x=\"454\" y=\"-141.8\" font-family=\"Helvetica,sans-Serif\" font-size=\"14.00\">samples = 4</text>\n<text text-anchor=\"start\" x=\"437\" y=\"-126.8\" font-family=\"Helvetica,sans-Serif\" font-size=\"14.00\">value = [0, 1, 3, 0]</text>\n<text text-anchor=\"start\" x=\"458.5\" y=\"-111.8\" font-family=\"Helvetica,sans-Serif\" font-size=\"14.00\">class = Flu</text>\n</g>\n<!-- 4&#45;&gt;8 -->\n<g id=\"edge8\" class=\"edge\">\n<title>4&#45;&gt;8</title>\n<path fill=\"none\" stroke=\"black\" d=\"M398.11,-222.91C409.76,-213.38 422.26,-203.15 434.21,-193.37\"/>\n<polygon fill=\"black\" stroke=\"black\" points=\"436.45,-196.06 441.97,-187.02 432.02,-190.64 436.45,-196.06\"/>\n</g>\n<!-- 6 -->\n<g id=\"node7\" class=\"node\">\n<title>6</title>\n<path fill=\"#47e539\" stroke=\"black\" d=\"M256,-68C256,-68 155,-68 155,-68 149,-68 143,-62 143,-56 143,-56 143,-12 143,-12 143,-6 149,0 155,0 155,0 256,0 256,0 262,0 268,-6 268,-12 268,-12 268,-56 268,-56 268,-62 262,-68 256,-68\"/>\n<text text-anchor=\"start\" x=\"165.5\" y=\"-52.8\" font-family=\"Helvetica,sans-Serif\" font-size=\"14.00\">entropy = 0.0</text>\n<text text-anchor=\"start\" x=\"168\" y=\"-37.8\" font-family=\"Helvetica,sans-Serif\" font-size=\"14.00\">samples = 2</text>\n<text text-anchor=\"start\" x=\"151\" y=\"-22.8\" font-family=\"Helvetica,sans-Serif\" font-size=\"14.00\">value = [0, 2, 0, 0]</text>\n<text text-anchor=\"start\" x=\"164.5\" y=\"-7.8\" font-family=\"Helvetica,sans-Serif\" font-size=\"14.00\">class = Covid</text>\n</g>\n<!-- 5&#45;&gt;6 -->\n<g id=\"edge6\" class=\"edge\">\n<title>5&#45;&gt;6</title>\n<path fill=\"none\" stroke=\"black\" d=\"M295.25,-103.73C282.75,-94.15 269.44,-83.96 257.01,-74.44\"/>\n<polygon fill=\"black\" stroke=\"black\" points=\"259.05,-71.6 248.99,-68.3 254.8,-77.16 259.05,-71.6\"/>\n</g>\n<!-- 7 -->\n<g id=\"node8\" class=\"node\">\n<title>7</title>\n<path fill=\"#d739e5\" stroke=\"black\" d=\"M399,-68C399,-68 298,-68 298,-68 292,-68 286,-62 286,-56 286,-56 286,-12 286,-12 286,-6 292,0 298,0 298,0 399,0 399,0 405,0 411,-6 411,-12 411,-12 411,-56 411,-56 411,-62 405,-68 399,-68\"/>\n<text text-anchor=\"start\" x=\"308.5\" y=\"-52.8\" font-family=\"Helvetica,sans-Serif\" font-size=\"14.00\">entropy = 0.0</text>\n<text text-anchor=\"start\" x=\"311\" y=\"-37.8\" font-family=\"Helvetica,sans-Serif\" font-size=\"14.00\">samples = 1</text>\n<text text-anchor=\"start\" x=\"294\" y=\"-22.8\" font-family=\"Helvetica,sans-Serif\" font-size=\"14.00\">value = [0, 0, 0, 1]</text>\n<text text-anchor=\"start\" x=\"307.5\" y=\"-7.8\" font-family=\"Helvetica,sans-Serif\" font-size=\"14.00\">class = Other</text>\n</g>\n<!-- 5&#45;&gt;7 -->\n<g id=\"edge7\" class=\"edge\">\n<title>5&#45;&gt;7</title>\n<path fill=\"none\" stroke=\"black\" d=\"M348.5,-103.73C348.5,-95.52 348.5,-86.86 348.5,-78.56\"/>\n<polygon fill=\"black\" stroke=\"black\" points=\"352,-78.3 348.5,-68.3 345,-78.3 352,-78.3\"/>\n</g>\n<!-- 9 -->\n<g id=\"node10\" class=\"node\">\n<title>9</title>\n<path fill=\"#47e539\" stroke=\"black\" d=\"M542,-68C542,-68 441,-68 441,-68 435,-68 429,-62 429,-56 429,-56 429,-12 429,-12 429,-6 435,0 441,0 441,0 542,0 542,0 548,0 554,-6 554,-12 554,-12 554,-56 554,-56 554,-62 548,-68 542,-68\"/>\n<text text-anchor=\"start\" x=\"451.5\" y=\"-52.8\" font-family=\"Helvetica,sans-Serif\" font-size=\"14.00\">entropy = 0.0</text>\n<text text-anchor=\"start\" x=\"454\" y=\"-37.8\" font-family=\"Helvetica,sans-Serif\" font-size=\"14.00\">samples = 1</text>\n<text text-anchor=\"start\" x=\"437\" y=\"-22.8\" font-family=\"Helvetica,sans-Serif\" font-size=\"14.00\">value = [0, 1, 0, 0]</text>\n<text text-anchor=\"start\" x=\"450.5\" y=\"-7.8\" font-family=\"Helvetica,sans-Serif\" font-size=\"14.00\">class = Covid</text>\n</g>\n<!-- 8&#45;&gt;9 -->\n<g id=\"edge9\" class=\"edge\">\n<title>8&#45;&gt;9</title>\n<path fill=\"none\" stroke=\"black\" d=\"M491.5,-103.73C491.5,-95.52 491.5,-86.86 491.5,-78.56\"/>\n<polygon fill=\"black\" stroke=\"black\" points=\"495,-78.3 491.5,-68.3 488,-78.3 495,-78.3\"/>\n</g>\n<!-- 10 -->\n<g id=\"node11\" class=\"node\">\n<title>10</title>\n<path fill=\"#399de5\" stroke=\"black\" d=\"M685,-68C685,-68 584,-68 584,-68 578,-68 572,-62 572,-56 572,-56 572,-12 572,-12 572,-6 578,0 584,0 584,0 685,0 685,0 691,0 697,-6 697,-12 697,-12 697,-56 697,-56 697,-62 691,-68 685,-68\"/>\n<text text-anchor=\"start\" x=\"594.5\" y=\"-52.8\" font-family=\"Helvetica,sans-Serif\" font-size=\"14.00\">entropy = 0.0</text>\n<text text-anchor=\"start\" x=\"597\" y=\"-37.8\" font-family=\"Helvetica,sans-Serif\" font-size=\"14.00\">samples = 3</text>\n<text text-anchor=\"start\" x=\"580\" y=\"-22.8\" font-family=\"Helvetica,sans-Serif\" font-size=\"14.00\">value = [0, 0, 3, 0]</text>\n<text text-anchor=\"start\" x=\"601.5\" y=\"-7.8\" font-family=\"Helvetica,sans-Serif\" font-size=\"14.00\">class = Flu</text>\n</g>\n<!-- 8&#45;&gt;10 -->\n<g id=\"edge10\" class=\"edge\">\n<title>8&#45;&gt;10</title>\n<path fill=\"none\" stroke=\"black\" d=\"M544.75,-103.73C557.25,-94.15 570.56,-83.96 582.99,-74.44\"/>\n<polygon fill=\"black\" stroke=\"black\" points=\"585.2,-77.16 591.01,-68.3 580.95,-71.6 585.2,-77.16\"/>\n</g>\n</g>\n</svg>\n",
            "text/plain": [
              "<graphviz.sources.Source at 0x794f601bff70>"
            ]
          },
          "metadata": {},
          "execution_count": 102
        }
      ],
      "source": [
        "# Export the tree data\n",
        "r = tree.export_text(clf, feature_names=[\"Temperature\", \"Sore throat\", \"Cough\", \"Headache\", \"Muscle pain\"])\n",
        "print(r)\n",
        "# TO DO: Apply the parameter that defines how to paint the nodes to indicate majority class for classification\n",
        "dot_data = tree.export_graphviz(clf, out_file=None,\n",
        "                     feature_names=[\"Temperature\", \"Sore throat\", \"Cough\", \"Headache\", \"Muscle pain\"],\n",
        "                     class_names=clf.classes_, rounded=True,\n",
        "                     special_characters=True, filled= True)  #________TO DO__________\n",
        "# Create the graphviz graph\n",
        "graph = graphviz.Source(dot_data)\n",
        "# Display the DT graph\n",
        "graph"
      ]
    },
    {
      "cell_type": "markdown",
      "metadata": {
        "id": "3qMPAmpK7oGw"
      },
      "source": [
        "Observe the decision tree generated and answer the following questions:\n",
        "\n",
        "\n",
        "*   What is the most likely diagnose if the patient only has a temperature, a headache and muscle pain?\n",
        "*   What is the most likely diagnose if the patient only has a temperature and coughs?\n",
        "*   What is the most likely diagnose if the patient only coughs and has a sore throat?\n",
        "*   What is the most likely diagnose if the patient only has a temperature?\n"
      ]
    },
    {
      "cell_type": "markdown",
      "metadata": {
        "id": "gSbwbcA2IfSA"
      },
      "source": [
        "After you answer, use the DT classifier defined to answer these questions again and check if you were correct."
      ]
    },
    {
      "cell_type": "markdown",
      "metadata": {
        "id": "r0qrBGyZT4Ph"
      },
      "source": [
        "\n",
        "\n",
        "<font color=\"red\">\n",
        "\n",
        "1.   Flu  is the most likely diagnose if the patient only has a temperature, a headache and muscle pain.\n",
        "2. Covid is the most likely diagnose if the patient only has a temperature and coughs.\n",
        "3. Cold is the most likely diagnose if the patient only coughs and has a sore throat.\n",
        "<font color=\"red\">\n",
        "4.Covid is the most likely diagnose if the patient only has a temperature.\n",
        "\n",
        "Using the DT classifier, the output is same as my answers.\n",
        "</font>\n",
        "\n",
        "\n",
        "\n",
        "\n",
        "\n"
      ]
    },
    {
      "cell_type": "code",
      "execution_count": null,
      "metadata": {
        "colab": {
          "base_uri": "https://localhost:8080/"
        },
        "id": "qOj5UI88I7XW",
        "outputId": "4de1b988-6a49-40fd-a214-4d6e0890f2e1"
      },
      "outputs": [
        {
          "output_type": "execute_result",
          "data": {
            "text/plain": [
              "array(['Flu', 'Covid', 'Cold', 'Covid'], dtype='<U5')"
            ]
          },
          "metadata": {},
          "execution_count": 103
        }
      ],
      "source": [
        "# TO DO: Define the parameters for each prediction\n",
        "XTest = [[1, 0, 0, 1, 1], [1, 0, 1, 0, 0], [0, 1, 1, 0, 0], [1, 0, 0, 0, 0]]# ________TO DO_________\n",
        "\n",
        "# TO DO: Predict the diagnoses\n",
        "clf.predict(XTest)"
      ]
    },
    {
      "cell_type": "markdown",
      "metadata": {
        "id": "0HZPkxOmODrD"
      },
      "source": [
        "Now try to create the same DT but using the actual temperature of each patient. ***Do you get the same DT? Are the answers to the previous questions the same?***"
      ]
    },
    {
      "cell_type": "markdown",
      "metadata": {
        "id": "ZEzomwff00bj"
      },
      "source": [
        "# <font color=\"red\">\n",
        "After creating the same DT and using the actual temperature of each ptient, I have got the same DT. Yes, the answers are the same.\n",
        "</font>"
      ]
    },
    {
      "cell_type": "code",
      "execution_count": null,
      "metadata": {
        "colab": {
          "base_uri": "https://localhost:8080/",
          "height": 894
        },
        "id": "pk0OlO50OeGD",
        "outputId": "4cde0423-f2c2-4e99-e6f3-eb48e961ffb9"
      },
      "outputs": [
        {
          "output_type": "stream",
          "name": "stdout",
          "text": [
            "|--- Temperature <= 36.90\n",
            "|   |--- Cough <= 0.50\n",
            "|   |   |--- class: Other\n",
            "|   |--- Cough >  0.50\n",
            "|   |   |--- class: Cold\n",
            "|--- Temperature >  36.90\n",
            "|   |--- Muscle pain <= 0.50\n",
            "|   |   |--- Sore throat <= 0.50\n",
            "|   |   |   |--- class: Covid\n",
            "|   |   |--- Sore throat >  0.50\n",
            "|   |   |   |--- class: Other\n",
            "|   |--- Muscle pain >  0.50\n",
            "|   |   |--- Headache <= 0.50\n",
            "|   |   |   |--- class: Covid\n",
            "|   |   |--- Headache >  0.50\n",
            "|   |   |   |--- class: Flu\n",
            "\n"
          ]
        },
        {
          "output_type": "execute_result",
          "data": {
            "image/svg+xml": "<?xml version=\"1.0\" encoding=\"UTF-8\" standalone=\"no\"?>\n<!DOCTYPE svg PUBLIC \"-//W3C//DTD SVG 1.1//EN\"\n \"http://www.w3.org/Graphics/SVG/1.1/DTD/svg11.dtd\">\n<!-- Generated by graphviz version 2.43.0 (0)\n -->\n<!-- Title: Tree Pages: 1 -->\n<svg width=\"705pt\" height=\"433pt\"\n viewBox=\"0.00 0.00 705.00 433.00\" xmlns=\"http://www.w3.org/2000/svg\" xmlns:xlink=\"http://www.w3.org/1999/xlink\">\n<g id=\"graph0\" class=\"graph\" transform=\"scale(1 1) rotate(0) translate(4 429)\">\n<title>Tree</title>\n<polygon fill=\"white\" stroke=\"transparent\" points=\"-4,4 -4,-429 701,-429 701,4 -4,4\"/>\n<!-- 0 -->\n<g id=\"node1\" class=\"node\">\n<title>0</title>\n<path fill=\"#ffffff\" stroke=\"black\" d=\"M331.5,-425C331.5,-425 221.5,-425 221.5,-425 215.5,-425 209.5,-419 209.5,-413 209.5,-413 209.5,-354 209.5,-354 209.5,-348 215.5,-342 221.5,-342 221.5,-342 331.5,-342 331.5,-342 337.5,-342 343.5,-348 343.5,-354 343.5,-354 343.5,-413 343.5,-413 343.5,-419 337.5,-425 331.5,-425\"/>\n<text text-anchor=\"start\" x=\"217.5\" y=\"-409.8\" font-family=\"Helvetica,sans-Serif\" font-size=\"14.00\">Temperature ≤ 36.9</text>\n<text text-anchor=\"start\" x=\"236.5\" y=\"-394.8\" font-family=\"Helvetica,sans-Serif\" font-size=\"14.00\">entropy = 2.0</text>\n<text text-anchor=\"start\" x=\"235.5\" y=\"-379.8\" font-family=\"Helvetica,sans-Serif\" font-size=\"14.00\">samples = 12</text>\n<text text-anchor=\"start\" x=\"222\" y=\"-364.8\" font-family=\"Helvetica,sans-Serif\" font-size=\"14.00\">value = [3, 3, 3, 3]</text>\n<text text-anchor=\"start\" x=\"239\" y=\"-349.8\" font-family=\"Helvetica,sans-Serif\" font-size=\"14.00\">class = Cold</text>\n</g>\n<!-- 1 -->\n<g id=\"node2\" class=\"node\">\n<title>1</title>\n<path fill=\"#f6d5bd\" stroke=\"black\" d=\"M256,-306C256,-306 155,-306 155,-306 149,-306 143,-300 143,-294 143,-294 143,-235 143,-235 143,-229 149,-223 155,-223 155,-223 256,-223 256,-223 262,-223 268,-229 268,-235 268,-235 268,-294 268,-294 268,-300 262,-306 256,-306\"/>\n<text text-anchor=\"start\" x=\"168.5\" y=\"-290.8\" font-family=\"Helvetica,sans-Serif\" font-size=\"14.00\">Cough ≤ 0.5</text>\n<text text-anchor=\"start\" x=\"158\" y=\"-275.8\" font-family=\"Helvetica,sans-Serif\" font-size=\"14.00\">entropy = 0.971</text>\n<text text-anchor=\"start\" x=\"168\" y=\"-260.8\" font-family=\"Helvetica,sans-Serif\" font-size=\"14.00\">samples = 5</text>\n<text text-anchor=\"start\" x=\"151\" y=\"-245.8\" font-family=\"Helvetica,sans-Serif\" font-size=\"14.00\">value = [3, 0, 0, 2]</text>\n<text text-anchor=\"start\" x=\"168\" y=\"-230.8\" font-family=\"Helvetica,sans-Serif\" font-size=\"14.00\">class = Cold</text>\n</g>\n<!-- 0&#45;&gt;1 -->\n<g id=\"edge1\" class=\"edge\">\n<title>0&#45;&gt;1</title>\n<path fill=\"none\" stroke=\"black\" d=\"M251.87,-341.91C246.53,-333.1 240.82,-323.7 235.3,-314.61\"/>\n<polygon fill=\"black\" stroke=\"black\" points=\"238.27,-312.75 230.09,-306.02 232.29,-316.39 238.27,-312.75\"/>\n<text text-anchor=\"middle\" x=\"224.15\" y=\"-326.6\" font-family=\"Helvetica,sans-Serif\" font-size=\"14.00\">True</text>\n</g>\n<!-- 4 -->\n<g id=\"node5\" class=\"node\">\n<title>4</title>\n<path fill=\"#ffffff\" stroke=\"black\" d=\"M399,-306C399,-306 298,-306 298,-306 292,-306 286,-300 286,-294 286,-294 286,-235 286,-235 286,-229 292,-223 298,-223 298,-223 399,-223 399,-223 405,-223 411,-229 411,-235 411,-235 411,-294 411,-294 411,-300 405,-306 399,-306\"/>\n<text text-anchor=\"start\" x=\"295\" y=\"-290.8\" font-family=\"Helvetica,sans-Serif\" font-size=\"14.00\">Muscle pain ≤ 0.5</text>\n<text text-anchor=\"start\" x=\"301\" y=\"-275.8\" font-family=\"Helvetica,sans-Serif\" font-size=\"14.00\">entropy = 1.449</text>\n<text text-anchor=\"start\" x=\"311\" y=\"-260.8\" font-family=\"Helvetica,sans-Serif\" font-size=\"14.00\">samples = 7</text>\n<text text-anchor=\"start\" x=\"294\" y=\"-245.8\" font-family=\"Helvetica,sans-Serif\" font-size=\"14.00\">value = [0, 3, 3, 1]</text>\n<text text-anchor=\"start\" x=\"307.5\" y=\"-230.8\" font-family=\"Helvetica,sans-Serif\" font-size=\"14.00\">class = Covid</text>\n</g>\n<!-- 0&#45;&gt;4 -->\n<g id=\"edge4\" class=\"edge\">\n<title>0&#45;&gt;4</title>\n<path fill=\"none\" stroke=\"black\" d=\"M301.48,-341.91C306.9,-333.1 312.68,-323.7 318.28,-314.61\"/>\n<polygon fill=\"black\" stroke=\"black\" points=\"321.3,-316.37 323.56,-306.02 315.34,-312.7 321.3,-316.37\"/>\n<text text-anchor=\"middle\" x=\"329.35\" y=\"-326.64\" font-family=\"Helvetica,sans-Serif\" font-size=\"14.00\">False</text>\n</g>\n<!-- 2 -->\n<g id=\"node3\" class=\"node\">\n<title>2</title>\n<path fill=\"#d739e5\" stroke=\"black\" d=\"M113,-179.5C113,-179.5 12,-179.5 12,-179.5 6,-179.5 0,-173.5 0,-167.5 0,-167.5 0,-123.5 0,-123.5 0,-117.5 6,-111.5 12,-111.5 12,-111.5 113,-111.5 113,-111.5 119,-111.5 125,-117.5 125,-123.5 125,-123.5 125,-167.5 125,-167.5 125,-173.5 119,-179.5 113,-179.5\"/>\n<text text-anchor=\"start\" x=\"22.5\" y=\"-164.3\" font-family=\"Helvetica,sans-Serif\" font-size=\"14.00\">entropy = 0.0</text>\n<text text-anchor=\"start\" x=\"25\" y=\"-149.3\" font-family=\"Helvetica,sans-Serif\" font-size=\"14.00\">samples = 2</text>\n<text text-anchor=\"start\" x=\"8\" y=\"-134.3\" font-family=\"Helvetica,sans-Serif\" font-size=\"14.00\">value = [0, 0, 0, 2]</text>\n<text text-anchor=\"start\" x=\"21.5\" y=\"-119.3\" font-family=\"Helvetica,sans-Serif\" font-size=\"14.00\">class = Other</text>\n</g>\n<!-- 1&#45;&gt;2 -->\n<g id=\"edge2\" class=\"edge\">\n<title>1&#45;&gt;2</title>\n<path fill=\"none\" stroke=\"black\" d=\"M155.89,-222.91C141.32,-210.99 125.41,-197.98 110.92,-186.12\"/>\n<polygon fill=\"black\" stroke=\"black\" points=\"112.99,-183.29 103.04,-179.67 108.56,-188.71 112.99,-183.29\"/>\n</g>\n<!-- 3 -->\n<g id=\"node4\" class=\"node\">\n<title>3</title>\n<path fill=\"#e58139\" stroke=\"black\" d=\"M256,-179.5C256,-179.5 155,-179.5 155,-179.5 149,-179.5 143,-173.5 143,-167.5 143,-167.5 143,-123.5 143,-123.5 143,-117.5 149,-111.5 155,-111.5 155,-111.5 256,-111.5 256,-111.5 262,-111.5 268,-117.5 268,-123.5 268,-123.5 268,-167.5 268,-167.5 268,-173.5 262,-179.5 256,-179.5\"/>\n<text text-anchor=\"start\" x=\"165.5\" y=\"-164.3\" font-family=\"Helvetica,sans-Serif\" font-size=\"14.00\">entropy = 0.0</text>\n<text text-anchor=\"start\" x=\"168\" y=\"-149.3\" font-family=\"Helvetica,sans-Serif\" font-size=\"14.00\">samples = 3</text>\n<text text-anchor=\"start\" x=\"151\" y=\"-134.3\" font-family=\"Helvetica,sans-Serif\" font-size=\"14.00\">value = [3, 0, 0, 0]</text>\n<text text-anchor=\"start\" x=\"168\" y=\"-119.3\" font-family=\"Helvetica,sans-Serif\" font-size=\"14.00\">class = Cold</text>\n</g>\n<!-- 1&#45;&gt;3 -->\n<g id=\"edge3\" class=\"edge\">\n<title>1&#45;&gt;3</title>\n<path fill=\"none\" stroke=\"black\" d=\"M205.5,-222.91C205.5,-212.2 205.5,-200.62 205.5,-189.78\"/>\n<polygon fill=\"black\" stroke=\"black\" points=\"209,-189.67 205.5,-179.67 202,-189.67 209,-189.67\"/>\n</g>\n<!-- 5 -->\n<g id=\"node6\" class=\"node\">\n<title>5</title>\n<path fill=\"#a3f29c\" stroke=\"black\" d=\"M399,-187C399,-187 298,-187 298,-187 292,-187 286,-181 286,-175 286,-175 286,-116 286,-116 286,-110 292,-104 298,-104 298,-104 399,-104 399,-104 405,-104 411,-110 411,-116 411,-116 411,-175 411,-175 411,-181 405,-187 399,-187\"/>\n<text text-anchor=\"start\" x=\"298\" y=\"-171.8\" font-family=\"Helvetica,sans-Serif\" font-size=\"14.00\">Sore throat ≤ 0.5</text>\n<text text-anchor=\"start\" x=\"301\" y=\"-156.8\" font-family=\"Helvetica,sans-Serif\" font-size=\"14.00\">entropy = 0.918</text>\n<text text-anchor=\"start\" x=\"311\" y=\"-141.8\" font-family=\"Helvetica,sans-Serif\" font-size=\"14.00\">samples = 3</text>\n<text text-anchor=\"start\" x=\"294\" y=\"-126.8\" font-family=\"Helvetica,sans-Serif\" font-size=\"14.00\">value = [0, 2, 0, 1]</text>\n<text text-anchor=\"start\" x=\"307.5\" y=\"-111.8\" font-family=\"Helvetica,sans-Serif\" font-size=\"14.00\">class = Covid</text>\n</g>\n<!-- 4&#45;&gt;5 -->\n<g id=\"edge5\" class=\"edge\">\n<title>4&#45;&gt;5</title>\n<path fill=\"none\" stroke=\"black\" d=\"M348.5,-222.91C348.5,-214.65 348.5,-205.86 348.5,-197.3\"/>\n<polygon fill=\"black\" stroke=\"black\" points=\"352,-197.02 348.5,-187.02 345,-197.02 352,-197.02\"/>\n</g>\n<!-- 8 -->\n<g id=\"node9\" class=\"node\">\n<title>8</title>\n<path fill=\"#7bbeee\" stroke=\"black\" d=\"M542,-187C542,-187 441,-187 441,-187 435,-187 429,-181 429,-175 429,-175 429,-116 429,-116 429,-110 435,-104 441,-104 441,-104 542,-104 542,-104 548,-104 554,-110 554,-116 554,-116 554,-175 554,-175 554,-181 548,-187 542,-187\"/>\n<text text-anchor=\"start\" x=\"443.5\" y=\"-171.8\" font-family=\"Helvetica,sans-Serif\" font-size=\"14.00\">Headache ≤ 0.5</text>\n<text text-anchor=\"start\" x=\"444\" y=\"-156.8\" font-family=\"Helvetica,sans-Serif\" font-size=\"14.00\">entropy = 0.811</text>\n<text text-anchor=\"start\" x=\"454\" y=\"-141.8\" font-family=\"Helvetica,sans-Serif\" font-size=\"14.00\">samples = 4</text>\n<text text-anchor=\"start\" x=\"437\" y=\"-126.8\" font-family=\"Helvetica,sans-Serif\" font-size=\"14.00\">value = [0, 1, 3, 0]</text>\n<text text-anchor=\"start\" x=\"458.5\" y=\"-111.8\" font-family=\"Helvetica,sans-Serif\" font-size=\"14.00\">class = Flu</text>\n</g>\n<!-- 4&#45;&gt;8 -->\n<g id=\"edge8\" class=\"edge\">\n<title>4&#45;&gt;8</title>\n<path fill=\"none\" stroke=\"black\" d=\"M398.11,-222.91C409.76,-213.38 422.26,-203.15 434.21,-193.37\"/>\n<polygon fill=\"black\" stroke=\"black\" points=\"436.45,-196.06 441.97,-187.02 432.02,-190.64 436.45,-196.06\"/>\n</g>\n<!-- 6 -->\n<g id=\"node7\" class=\"node\">\n<title>6</title>\n<path fill=\"#47e539\" stroke=\"black\" d=\"M256,-68C256,-68 155,-68 155,-68 149,-68 143,-62 143,-56 143,-56 143,-12 143,-12 143,-6 149,0 155,0 155,0 256,0 256,0 262,0 268,-6 268,-12 268,-12 268,-56 268,-56 268,-62 262,-68 256,-68\"/>\n<text text-anchor=\"start\" x=\"165.5\" y=\"-52.8\" font-family=\"Helvetica,sans-Serif\" font-size=\"14.00\">entropy = 0.0</text>\n<text text-anchor=\"start\" x=\"168\" y=\"-37.8\" font-family=\"Helvetica,sans-Serif\" font-size=\"14.00\">samples = 2</text>\n<text text-anchor=\"start\" x=\"151\" y=\"-22.8\" font-family=\"Helvetica,sans-Serif\" font-size=\"14.00\">value = [0, 2, 0, 0]</text>\n<text text-anchor=\"start\" x=\"164.5\" y=\"-7.8\" font-family=\"Helvetica,sans-Serif\" font-size=\"14.00\">class = Covid</text>\n</g>\n<!-- 5&#45;&gt;6 -->\n<g id=\"edge6\" class=\"edge\">\n<title>5&#45;&gt;6</title>\n<path fill=\"none\" stroke=\"black\" d=\"M295.25,-103.73C282.75,-94.15 269.44,-83.96 257.01,-74.44\"/>\n<polygon fill=\"black\" stroke=\"black\" points=\"259.05,-71.6 248.99,-68.3 254.8,-77.16 259.05,-71.6\"/>\n</g>\n<!-- 7 -->\n<g id=\"node8\" class=\"node\">\n<title>7</title>\n<path fill=\"#d739e5\" stroke=\"black\" d=\"M399,-68C399,-68 298,-68 298,-68 292,-68 286,-62 286,-56 286,-56 286,-12 286,-12 286,-6 292,0 298,0 298,0 399,0 399,0 405,0 411,-6 411,-12 411,-12 411,-56 411,-56 411,-62 405,-68 399,-68\"/>\n<text text-anchor=\"start\" x=\"308.5\" y=\"-52.8\" font-family=\"Helvetica,sans-Serif\" font-size=\"14.00\">entropy = 0.0</text>\n<text text-anchor=\"start\" x=\"311\" y=\"-37.8\" font-family=\"Helvetica,sans-Serif\" font-size=\"14.00\">samples = 1</text>\n<text text-anchor=\"start\" x=\"294\" y=\"-22.8\" font-family=\"Helvetica,sans-Serif\" font-size=\"14.00\">value = [0, 0, 0, 1]</text>\n<text text-anchor=\"start\" x=\"307.5\" y=\"-7.8\" font-family=\"Helvetica,sans-Serif\" font-size=\"14.00\">class = Other</text>\n</g>\n<!-- 5&#45;&gt;7 -->\n<g id=\"edge7\" class=\"edge\">\n<title>5&#45;&gt;7</title>\n<path fill=\"none\" stroke=\"black\" d=\"M348.5,-103.73C348.5,-95.52 348.5,-86.86 348.5,-78.56\"/>\n<polygon fill=\"black\" stroke=\"black\" points=\"352,-78.3 348.5,-68.3 345,-78.3 352,-78.3\"/>\n</g>\n<!-- 9 -->\n<g id=\"node10\" class=\"node\">\n<title>9</title>\n<path fill=\"#47e539\" stroke=\"black\" d=\"M542,-68C542,-68 441,-68 441,-68 435,-68 429,-62 429,-56 429,-56 429,-12 429,-12 429,-6 435,0 441,0 441,0 542,0 542,0 548,0 554,-6 554,-12 554,-12 554,-56 554,-56 554,-62 548,-68 542,-68\"/>\n<text text-anchor=\"start\" x=\"451.5\" y=\"-52.8\" font-family=\"Helvetica,sans-Serif\" font-size=\"14.00\">entropy = 0.0</text>\n<text text-anchor=\"start\" x=\"454\" y=\"-37.8\" font-family=\"Helvetica,sans-Serif\" font-size=\"14.00\">samples = 1</text>\n<text text-anchor=\"start\" x=\"437\" y=\"-22.8\" font-family=\"Helvetica,sans-Serif\" font-size=\"14.00\">value = [0, 1, 0, 0]</text>\n<text text-anchor=\"start\" x=\"450.5\" y=\"-7.8\" font-family=\"Helvetica,sans-Serif\" font-size=\"14.00\">class = Covid</text>\n</g>\n<!-- 8&#45;&gt;9 -->\n<g id=\"edge9\" class=\"edge\">\n<title>8&#45;&gt;9</title>\n<path fill=\"none\" stroke=\"black\" d=\"M491.5,-103.73C491.5,-95.52 491.5,-86.86 491.5,-78.56\"/>\n<polygon fill=\"black\" stroke=\"black\" points=\"495,-78.3 491.5,-68.3 488,-78.3 495,-78.3\"/>\n</g>\n<!-- 10 -->\n<g id=\"node11\" class=\"node\">\n<title>10</title>\n<path fill=\"#399de5\" stroke=\"black\" d=\"M685,-68C685,-68 584,-68 584,-68 578,-68 572,-62 572,-56 572,-56 572,-12 572,-12 572,-6 578,0 584,0 584,0 685,0 685,0 691,0 697,-6 697,-12 697,-12 697,-56 697,-56 697,-62 691,-68 685,-68\"/>\n<text text-anchor=\"start\" x=\"594.5\" y=\"-52.8\" font-family=\"Helvetica,sans-Serif\" font-size=\"14.00\">entropy = 0.0</text>\n<text text-anchor=\"start\" x=\"597\" y=\"-37.8\" font-family=\"Helvetica,sans-Serif\" font-size=\"14.00\">samples = 3</text>\n<text text-anchor=\"start\" x=\"580\" y=\"-22.8\" font-family=\"Helvetica,sans-Serif\" font-size=\"14.00\">value = [0, 0, 3, 0]</text>\n<text text-anchor=\"start\" x=\"601.5\" y=\"-7.8\" font-family=\"Helvetica,sans-Serif\" font-size=\"14.00\">class = Flu</text>\n</g>\n<!-- 8&#45;&gt;10 -->\n<g id=\"edge10\" class=\"edge\">\n<title>8&#45;&gt;10</title>\n<path fill=\"none\" stroke=\"black\" d=\"M544.75,-103.73C557.25,-94.15 570.56,-83.96 582.99,-74.44\"/>\n<polygon fill=\"black\" stroke=\"black\" points=\"585.2,-77.16 591.01,-68.3 580.95,-71.6 585.2,-77.16\"/>\n</g>\n</g>\n</svg>\n",
            "text/plain": [
              "<graphviz.sources.Source at 0x794f601da680>"
            ]
          },
          "metadata": {},
          "execution_count": 106
        }
      ],
      "source": [
        "# Parameters of training data\n",
        "XTrain = np.array([[38.6, 0, 1, 0, 0], [37.9, 0, 1, 0, 1], [37.5, 0, 1, 1, 0],\\\n",
        "                   [39.0, 1, 0, 1, 1], [37.2, 0, 1, 1, 1], [38.4, 0, 1, 1, 1],\\\n",
        "                   [36.1, 1, 1, 0, 0], [35.8, 1, 1, 1, 0], [36.4, 1, 1, 0, 0],\\\n",
        "                   [36.6, 0, 0, 1, 1], [37.3, 1, 0, 0, 0], [35.7, 1, 0, 1, 0]])\n",
        "\n",
        "# Ground truth of training data\n",
        "yTrain = np.array([\"Covid\", \"Covid\", \"Covid\", \"Flu\", \"Flu\", \"Flu\", \"Cold\", \"Cold\", \"Cold\", \"Other\", \"Other\", \"Other\"])\n",
        "\n",
        "# TO DO: Create and fit the classifier\n",
        "clf = tree.DecisionTreeClassifier(criterion='entropy') #_________TO DO__________\n",
        "clf = clf.fit(XTrain, yTrain)\n",
        "# TO DO: Plot the resulting tree\n",
        "#________TO DO_________\n",
        "# Export the tree data\n",
        "r = tree.export_text(clf, feature_names=[\"Temperature\", \"Sore throat\", \"Cough\", \"Headache\", \"Muscle pain\"])\n",
        "print(r)\n",
        "# TO DO: Apply the parameter that defines how to paint the nodes to indicate majority class for classification\n",
        "dot_data = tree.export_graphviz(clf, out_file=None,\n",
        "                     feature_names=[\"Temperature\", \"Sore throat\", \"Cough\", \"Headache\", \"Muscle pain\"],\n",
        "                     class_names=[str(class_label) for class_label in clf.classes_], rounded=True,\n",
        "                     special_characters=True, filled= True)  #________TO DO__________\n",
        "# Create the graphviz graph\n",
        "graph = graphviz.Source(dot_data)\n",
        "# Display the DT graph\n",
        "graph"
      ]
    },
    {
      "cell_type": "markdown",
      "metadata": {
        "id": "VSZ6C3lsNwRf"
      },
      "source": [
        "Now test your classifier with these data. ***What results do you get?***"
      ]
    },
    {
      "cell_type": "markdown",
      "metadata": {
        "id": "x2Y7uXon3Qdt"
      },
      "source": [
        "# <font color=\"red\">\n",
        "Testing my classifier, I have got the same results as the previous one.\n",
        "output is : ['Flu', 'Covid', 'Cold', 'Covid']\n",
        "</font>"
      ]
    },
    {
      "cell_type": "code",
      "execution_count": null,
      "metadata": {
        "colab": {
          "base_uri": "https://localhost:8080/"
        },
        "id": "83n2roRmO6N6",
        "outputId": "6c305fa1-d486-4d4e-e10a-da321f5dec19"
      },
      "outputs": [
        {
          "output_type": "execute_result",
          "data": {
            "text/plain": [
              "array(['Flu', 'Covid', 'Cold', 'Covid'], dtype='<U5')"
            ]
          },
          "metadata": {},
          "execution_count": 107
        }
      ],
      "source": [
        "# Define the parameters for each prediction\n",
        "XTest = [[38.1, 0, 0, 1, 1], [37.8, 0, 1, 0, 0], [36.3, 1, 1, 0, 0], [37.9, 0, 0, 0, 0]]\n",
        "\n",
        "# TO DO: Predict the diagnoses\n",
        "clf.predict(XTest)"
      ]
    },
    {
      "cell_type": "markdown",
      "metadata": {
        "id": "dW_3oF_17Psd"
      },
      "source": [
        "\n",
        "\n",
        "---\n",
        "\n"
      ]
    },
    {
      "cell_type": "markdown",
      "metadata": {
        "id": "mi9iZrLbaDo4"
      },
      "source": [
        "Now we are going to work with a larger dataset. The dataset is a public dataset coming from Cleveland database that you can download from the subject platform in the Moodle.\n",
        "\n",
        "It contains 14 columns (one per attribute). The attributes are related to the patient health state. They are the following:\n",
        "\n",
        "\n",
        "1.\tage\n",
        "2.\tsex\n",
        "3.\tchest pain type (4 values)\n",
        "4.\tresting blood pressure\n",
        "5.\tserum cholestoral in mg/dl\n",
        "6.\tfasting blood sugar > 120 mg/dl\n",
        "7.\tresting electrocardiographic results (values 0,1,2)\n",
        "8.\tmaximum heart rate achieved\n",
        "9.\texercise induced angina\n",
        "10.\toldpeak = ST depression induced by exercise relative to rest\n",
        "11.\tthe slope of the peak exercise ST segment\n",
        "12.\tnumber of major vessels (0-3) colored by flourosopy\n",
        "13.\tthal: 3 = normal; 6 = fixed defect; 7 = reversable defect\n",
        "14.\ttarget ( 1=ill, 0=helathy)\n",
        "\n",
        "\n",
        "The dataset contains the information of 303 patients.\n",
        "\n",
        "First, run the following cell and load the \"heart.csv\" file from your disk.\n"
      ]
    },
    {
      "cell_type": "code",
      "execution_count": null,
      "metadata": {
        "colab": {
          "base_uri": "https://localhost:8080/",
          "height": 73
        },
        "id": "5I9uY64pV-tk",
        "outputId": "23870a1d-0615-4bf9-e7b4-10363511dc8d"
      },
      "outputs": [
        {
          "output_type": "display_data",
          "data": {
            "text/plain": [
              "<IPython.core.display.HTML object>"
            ],
            "text/html": [
              "\n",
              "     <input type=\"file\" id=\"files-b81c284b-3579-4b79-b17e-a23806e92393\" name=\"files[]\" multiple disabled\n",
              "        style=\"border:none\" />\n",
              "     <output id=\"result-b81c284b-3579-4b79-b17e-a23806e92393\">\n",
              "      Upload widget is only available when the cell has been executed in the\n",
              "      current browser session. Please rerun this cell to enable.\n",
              "      </output>\n",
              "      <script>// Copyright 2017 Google LLC\n",
              "//\n",
              "// Licensed under the Apache License, Version 2.0 (the \"License\");\n",
              "// you may not use this file except in compliance with the License.\n",
              "// You may obtain a copy of the License at\n",
              "//\n",
              "//      http://www.apache.org/licenses/LICENSE-2.0\n",
              "//\n",
              "// Unless required by applicable law or agreed to in writing, software\n",
              "// distributed under the License is distributed on an \"AS IS\" BASIS,\n",
              "// WITHOUT WARRANTIES OR CONDITIONS OF ANY KIND, either express or implied.\n",
              "// See the License for the specific language governing permissions and\n",
              "// limitations under the License.\n",
              "\n",
              "/**\n",
              " * @fileoverview Helpers for google.colab Python module.\n",
              " */\n",
              "(function(scope) {\n",
              "function span(text, styleAttributes = {}) {\n",
              "  const element = document.createElement('span');\n",
              "  element.textContent = text;\n",
              "  for (const key of Object.keys(styleAttributes)) {\n",
              "    element.style[key] = styleAttributes[key];\n",
              "  }\n",
              "  return element;\n",
              "}\n",
              "\n",
              "// Max number of bytes which will be uploaded at a time.\n",
              "const MAX_PAYLOAD_SIZE = 100 * 1024;\n",
              "\n",
              "function _uploadFiles(inputId, outputId) {\n",
              "  const steps = uploadFilesStep(inputId, outputId);\n",
              "  const outputElement = document.getElementById(outputId);\n",
              "  // Cache steps on the outputElement to make it available for the next call\n",
              "  // to uploadFilesContinue from Python.\n",
              "  outputElement.steps = steps;\n",
              "\n",
              "  return _uploadFilesContinue(outputId);\n",
              "}\n",
              "\n",
              "// This is roughly an async generator (not supported in the browser yet),\n",
              "// where there are multiple asynchronous steps and the Python side is going\n",
              "// to poll for completion of each step.\n",
              "// This uses a Promise to block the python side on completion of each step,\n",
              "// then passes the result of the previous step as the input to the next step.\n",
              "function _uploadFilesContinue(outputId) {\n",
              "  const outputElement = document.getElementById(outputId);\n",
              "  const steps = outputElement.steps;\n",
              "\n",
              "  const next = steps.next(outputElement.lastPromiseValue);\n",
              "  return Promise.resolve(next.value.promise).then((value) => {\n",
              "    // Cache the last promise value to make it available to the next\n",
              "    // step of the generator.\n",
              "    outputElement.lastPromiseValue = value;\n",
              "    return next.value.response;\n",
              "  });\n",
              "}\n",
              "\n",
              "/**\n",
              " * Generator function which is called between each async step of the upload\n",
              " * process.\n",
              " * @param {string} inputId Element ID of the input file picker element.\n",
              " * @param {string} outputId Element ID of the output display.\n",
              " * @return {!Iterable<!Object>} Iterable of next steps.\n",
              " */\n",
              "function* uploadFilesStep(inputId, outputId) {\n",
              "  const inputElement = document.getElementById(inputId);\n",
              "  inputElement.disabled = false;\n",
              "\n",
              "  const outputElement = document.getElementById(outputId);\n",
              "  outputElement.innerHTML = '';\n",
              "\n",
              "  const pickedPromise = new Promise((resolve) => {\n",
              "    inputElement.addEventListener('change', (e) => {\n",
              "      resolve(e.target.files);\n",
              "    });\n",
              "  });\n",
              "\n",
              "  const cancel = document.createElement('button');\n",
              "  inputElement.parentElement.appendChild(cancel);\n",
              "  cancel.textContent = 'Cancel upload';\n",
              "  const cancelPromise = new Promise((resolve) => {\n",
              "    cancel.onclick = () => {\n",
              "      resolve(null);\n",
              "    };\n",
              "  });\n",
              "\n",
              "  // Wait for the user to pick the files.\n",
              "  const files = yield {\n",
              "    promise: Promise.race([pickedPromise, cancelPromise]),\n",
              "    response: {\n",
              "      action: 'starting',\n",
              "    }\n",
              "  };\n",
              "\n",
              "  cancel.remove();\n",
              "\n",
              "  // Disable the input element since further picks are not allowed.\n",
              "  inputElement.disabled = true;\n",
              "\n",
              "  if (!files) {\n",
              "    return {\n",
              "      response: {\n",
              "        action: 'complete',\n",
              "      }\n",
              "    };\n",
              "  }\n",
              "\n",
              "  for (const file of files) {\n",
              "    const li = document.createElement('li');\n",
              "    li.append(span(file.name, {fontWeight: 'bold'}));\n",
              "    li.append(span(\n",
              "        `(${file.type || 'n/a'}) - ${file.size} bytes, ` +\n",
              "        `last modified: ${\n",
              "            file.lastModifiedDate ? file.lastModifiedDate.toLocaleDateString() :\n",
              "                                    'n/a'} - `));\n",
              "    const percent = span('0% done');\n",
              "    li.appendChild(percent);\n",
              "\n",
              "    outputElement.appendChild(li);\n",
              "\n",
              "    const fileDataPromise = new Promise((resolve) => {\n",
              "      const reader = new FileReader();\n",
              "      reader.onload = (e) => {\n",
              "        resolve(e.target.result);\n",
              "      };\n",
              "      reader.readAsArrayBuffer(file);\n",
              "    });\n",
              "    // Wait for the data to be ready.\n",
              "    let fileData = yield {\n",
              "      promise: fileDataPromise,\n",
              "      response: {\n",
              "        action: 'continue',\n",
              "      }\n",
              "    };\n",
              "\n",
              "    // Use a chunked sending to avoid message size limits. See b/62115660.\n",
              "    let position = 0;\n",
              "    do {\n",
              "      const length = Math.min(fileData.byteLength - position, MAX_PAYLOAD_SIZE);\n",
              "      const chunk = new Uint8Array(fileData, position, length);\n",
              "      position += length;\n",
              "\n",
              "      const base64 = btoa(String.fromCharCode.apply(null, chunk));\n",
              "      yield {\n",
              "        response: {\n",
              "          action: 'append',\n",
              "          file: file.name,\n",
              "          data: base64,\n",
              "        },\n",
              "      };\n",
              "\n",
              "      let percentDone = fileData.byteLength === 0 ?\n",
              "          100 :\n",
              "          Math.round((position / fileData.byteLength) * 100);\n",
              "      percent.textContent = `${percentDone}% done`;\n",
              "\n",
              "    } while (position < fileData.byteLength);\n",
              "  }\n",
              "\n",
              "  // All done.\n",
              "  yield {\n",
              "    response: {\n",
              "      action: 'complete',\n",
              "    }\n",
              "  };\n",
              "}\n",
              "\n",
              "scope.google = scope.google || {};\n",
              "scope.google.colab = scope.google.colab || {};\n",
              "scope.google.colab._files = {\n",
              "  _uploadFiles,\n",
              "  _uploadFilesContinue,\n",
              "};\n",
              "})(self);\n",
              "</script> "
            ]
          },
          "metadata": {}
        },
        {
          "output_type": "stream",
          "name": "stdout",
          "text": [
            "Saving heart.csv to heart.csv\n"
          ]
        }
      ],
      "source": [
        "# TO DO: load \"heart.csv\" file from disk\n",
        "from google.colab import files\n",
        "uploaded = files.upload()"
      ]
    },
    {
      "cell_type": "markdown",
      "metadata": {
        "id": "MTvRkq1bBtnp"
      },
      "source": [
        "Run this cell to load the data and generate a training and testing dataset that will be later used to generate the classsifier."
      ]
    },
    {
      "cell_type": "code",
      "execution_count": null,
      "metadata": {
        "id": "J9bVRc2mWDwr"
      },
      "outputs": [],
      "source": [
        "# Sort the dataset in a Pandas Dataframe\n",
        "df = pd.read_csv(io.BytesIO(uploaded['heart.csv']))\n",
        "\n",
        "# Divide the dataset in 70% training and 30% testing\n",
        "df_train, df_test = train_test_split(df, test_size=0.3)\n",
        "\n",
        "# Extract the names of the atributes of the dataset\n",
        "X_list = df_train.columns.values.tolist()\n",
        "# Extract the name of the ground truth atribute of the dataset\n",
        "y_list = X_list.pop()\n",
        "\n",
        "# Extract the parameters and ground truth of the training data\n",
        "XTrain = df_train[X_list]\n",
        "yTrain = df_train[y_list]\n",
        "# Extract the parameters and ground truth of the testing data\n",
        "XTest = df_test[X_list]\n",
        "yTest = df_test[y_list]"
      ]
    },
    {
      "cell_type": "markdown",
      "metadata": {
        "id": "qzCURF1uI1Bu"
      },
      "source": [
        "Now that we have the sorted data, create a new Decision Tree using entropy criterion for this data and answer the following questions.\n",
        "\n",
        "* **Which is the % of correct predictions for the training and testing data? Round the value to 2 decimals.**\n",
        "\n",
        "* **Which is the depth of the generated DT?**\n",
        "\n",
        "* **How many leaf nodes does it have?**"
      ]
    },
    {
      "cell_type": "markdown",
      "source": [
        "<font color=\"red\">% of correct predictions for the training datais 100.0 </font>\n",
        "\n",
        "<font color=\"red\">\n",
        "\n",
        "% of correct predictions for the testing data is 79.12 </font>\n",
        "<font color=\"red\">\n",
        "\n",
        "Depth of the Decision Tree: 10 </font>\n",
        "<font color=\"red\">\n",
        "\n",
        "Number of Leaf Nodes: 37</font>"
      ],
      "metadata": {
        "id": "Cqrs6clHSiDW"
      }
    },
    {
      "cell_type": "code",
      "execution_count": null,
      "metadata": {
        "id": "sWjAn3-2ZXyE",
        "colab": {
          "base_uri": "https://localhost:8080/"
        },
        "outputId": "6d7543b4-f2a2-4413-f40b-d5eacf811255"
      },
      "outputs": [
        {
          "output_type": "stream",
          "name": "stdout",
          "text": [
            "% of correct predictions with training data: 100.0\n",
            "% of correct predictions with testing data:79.12\n",
            "Depth of the Decision Tree: 10\n",
            "Number of Leaf Nodes: 37\n"
          ]
        }
      ],
      "source": [
        "# TO DO: Create and fit DT classifier\n",
        "#________TO DO__________\n",
        "clf = tree.DecisionTreeClassifier(criterion='entropy') #_________TO DO__________\n",
        "clf = clf.fit(XTrain, yTrain)\n",
        "\n",
        "# Check predictions for training and testing data\n",
        "#________TO DO__________\n",
        "# Check predictions for training data\n",
        "res = clf.predict(XTrain)\n",
        "res1= clf.predict(XTest)\n",
        "\n",
        "correct_predictions=(100/len(res)*np.count_nonzero(yTrain == res))\n",
        "print(f\"% of correct predictions with training data: {round(correct_predictions,2)}\")\n",
        "\n",
        "Correct_predictions=(100/len(res1)*np.count_nonzero(yTest==res1))#__________TO DO__________)\n",
        "print(f\"% of correct predictions with testing data:{round(Correct_predictions,2)}\")\n",
        "\n",
        "# Check depth and number of leaf nodes of generated DT\n",
        "#________TO DO__________\n",
        "\n",
        "tree_depth = clf.get_depth()\n",
        "num_leaf_nodes = clf.get_n_leaves()\n",
        "print(f\"Depth of the Decision Tree: {tree_depth}\")\n",
        "print(f\"Number of Leaf Nodes: {num_leaf_nodes}\")\n"
      ]
    },
    {
      "cell_type": "code",
      "source": [
        "accuracy = clf.score(XTest, yTest)\n",
        "accuracy"
      ],
      "metadata": {
        "colab": {
          "base_uri": "https://localhost:8080/"
        },
        "id": "27H_0-fxXH8Q",
        "outputId": "3bc52b9f-48fa-47ea-8af4-1a0ea2214fff"
      },
      "execution_count": null,
      "outputs": [
        {
          "output_type": "execute_result",
          "data": {
            "text/plain": [
              "0.7912087912087912"
            ]
          },
          "metadata": {},
          "execution_count": 153
        }
      ]
    },
    {
      "cell_type": "markdown",
      "metadata": {
        "id": "iGUYqJ6_JpwI"
      },
      "source": [
        "Plot the DT graph (colored) and analyze it."
      ]
    },
    {
      "cell_type": "markdown",
      "source": [
        "<font color=\"red\">This Decision Tree (DT) graph provides a visual representation of the model's decision-making process. While the leaf nodes display the predicted health state of a patient, every internal node, beginning at the root node, signifies a feature-based decision-making. The majority class is indicated by the color-filled nodes, and the depth of the tree dictates its complexity; thus, interpretability and accuracy must be balanced.</font>"
      ],
      "metadata": {
        "id": "mpOevTWRfrLG"
      }
    },
    {
      "cell_type": "code",
      "execution_count": null,
      "metadata": {
        "id": "rA6ZsAgbZwgL",
        "colab": {
          "base_uri": "https://localhost:8080/",
          "height": 1000
        },
        "outputId": "1071f7ba-8eb3-4c98-f981-68c7d92add06"
      },
      "outputs": [
        {
          "output_type": "execute_result",
          "data": {
            "image/svg+xml": "<?xml version=\"1.0\" encoding=\"UTF-8\" standalone=\"no\"?>\n<!DOCTYPE svg PUBLIC \"-//W3C//DTD SVG 1.1//EN\"\n \"http://www.w3.org/Graphics/SVG/1.1/DTD/svg11.dtd\">\n<!-- Generated by graphviz version 2.43.0 (0)\n -->\n<!-- Title: Tree Pages: 1 -->\n<svg width=\"2209pt\" height=\"1266pt\"\n viewBox=\"0.00 0.00 2209.00 1266.00\" xmlns=\"http://www.w3.org/2000/svg\" xmlns:xlink=\"http://www.w3.org/1999/xlink\">\n<g id=\"graph0\" class=\"graph\" transform=\"scale(1 1) rotate(0) translate(4 1262)\">\n<title>Tree</title>\n<polygon fill=\"white\" stroke=\"transparent\" points=\"-4,4 -4,-1262 2205,-1262 2205,4 -4,4\"/>\n<!-- 0 -->\n<g id=\"node1\" class=\"node\">\n<title>0</title>\n<path fill=\"#e0f0fb\" stroke=\"black\" d=\"M1206.5,-1258C1206.5,-1258 1113.5,-1258 1113.5,-1258 1107.5,-1258 1101.5,-1252 1101.5,-1246 1101.5,-1246 1101.5,-1187 1101.5,-1187 1101.5,-1181 1107.5,-1175 1113.5,-1175 1113.5,-1175 1206.5,-1175 1206.5,-1175 1212.5,-1175 1218.5,-1181 1218.5,-1187 1218.5,-1187 1218.5,-1246 1218.5,-1246 1218.5,-1252 1212.5,-1258 1206.5,-1258\"/>\n<text text-anchor=\"start\" x=\"1135.5\" y=\"-1242.8\" font-family=\"Helvetica,sans-Serif\" font-size=\"14.00\">cp ≤ 0.5</text>\n<text text-anchor=\"start\" x=\"1112.5\" y=\"-1227.8\" font-family=\"Helvetica,sans-Serif\" font-size=\"14.00\">entropy = 0.995</text>\n<text text-anchor=\"start\" x=\"1115\" y=\"-1212.8\" font-family=\"Helvetica,sans-Serif\" font-size=\"14.00\">samples = 212</text>\n<text text-anchor=\"start\" x=\"1109.5\" y=\"-1197.8\" font-family=\"Helvetica,sans-Serif\" font-size=\"14.00\">value = [97, 115]</text>\n<text text-anchor=\"start\" x=\"1132.5\" y=\"-1182.8\" font-family=\"Helvetica,sans-Serif\" font-size=\"14.00\">class = 1</text>\n</g>\n<!-- 1 -->\n<g id=\"node2\" class=\"node\">\n<title>1</title>\n<path fill=\"#eeae80\" stroke=\"black\" d=\"M1012.5,-1139C1012.5,-1139 925.5,-1139 925.5,-1139 919.5,-1139 913.5,-1133 913.5,-1127 913.5,-1127 913.5,-1068 913.5,-1068 913.5,-1062 919.5,-1056 925.5,-1056 925.5,-1056 1012.5,-1056 1012.5,-1056 1018.5,-1056 1024.5,-1062 1024.5,-1068 1024.5,-1068 1024.5,-1127 1024.5,-1127 1024.5,-1133 1018.5,-1139 1012.5,-1139\"/>\n<text text-anchor=\"start\" x=\"944.5\" y=\"-1123.8\" font-family=\"Helvetica,sans-Serif\" font-size=\"14.00\">ca ≤ 0.5</text>\n<text text-anchor=\"start\" x=\"921.5\" y=\"-1108.8\" font-family=\"Helvetica,sans-Serif\" font-size=\"14.00\">entropy = 0.831</text>\n<text text-anchor=\"start\" x=\"928\" y=\"-1093.8\" font-family=\"Helvetica,sans-Serif\" font-size=\"14.00\">samples = 99</text>\n<text text-anchor=\"start\" x=\"922\" y=\"-1078.8\" font-family=\"Helvetica,sans-Serif\" font-size=\"14.00\">value = [73, 26]</text>\n<text text-anchor=\"start\" x=\"941.5\" y=\"-1063.8\" font-family=\"Helvetica,sans-Serif\" font-size=\"14.00\">class = 0</text>\n</g>\n<!-- 0&#45;&gt;1 -->\n<g id=\"edge1\" class=\"edge\">\n<title>0&#45;&gt;1</title>\n<path fill=\"none\" stroke=\"black\" d=\"M1101.4,-1179.6C1079.81,-1166.38 1055.25,-1151.33 1033.19,-1137.82\"/>\n<polygon fill=\"black\" stroke=\"black\" points=\"1034.91,-1134.77 1024.55,-1132.53 1031.25,-1140.74 1034.91,-1134.77\"/>\n<text text-anchor=\"middle\" x=\"1030.39\" y=\"-1153.14\" font-family=\"Helvetica,sans-Serif\" font-size=\"14.00\">True</text>\n</g>\n<!-- 30 -->\n<g id=\"node31\" class=\"node\">\n<title>30</title>\n<path fill=\"#6eb7ec\" stroke=\"black\" d=\"M1418.5,-1139C1418.5,-1139 1331.5,-1139 1331.5,-1139 1325.5,-1139 1319.5,-1133 1319.5,-1127 1319.5,-1127 1319.5,-1068 1319.5,-1068 1319.5,-1062 1325.5,-1056 1331.5,-1056 1331.5,-1056 1418.5,-1056 1418.5,-1056 1424.5,-1056 1430.5,-1062 1430.5,-1068 1430.5,-1068 1430.5,-1127 1430.5,-1127 1430.5,-1133 1424.5,-1139 1418.5,-1139\"/>\n<text text-anchor=\"start\" x=\"1334\" y=\"-1123.8\" font-family=\"Helvetica,sans-Serif\" font-size=\"14.00\">oldpeak ≤ 1.7</text>\n<text text-anchor=\"start\" x=\"1327.5\" y=\"-1108.8\" font-family=\"Helvetica,sans-Serif\" font-size=\"14.00\">entropy = 0.746</text>\n<text text-anchor=\"start\" x=\"1330\" y=\"-1093.8\" font-family=\"Helvetica,sans-Serif\" font-size=\"14.00\">samples = 113</text>\n<text text-anchor=\"start\" x=\"1328\" y=\"-1078.8\" font-family=\"Helvetica,sans-Serif\" font-size=\"14.00\">value = [24, 89]</text>\n<text text-anchor=\"start\" x=\"1347.5\" y=\"-1063.8\" font-family=\"Helvetica,sans-Serif\" font-size=\"14.00\">class = 1</text>\n</g>\n<!-- 0&#45;&gt;30 -->\n<g id=\"edge30\" class=\"edge\">\n<title>0&#45;&gt;30</title>\n<path fill=\"none\" stroke=\"black\" d=\"M1218.75,-1183.53C1247.14,-1168.08 1281.29,-1149.49 1310.42,-1133.64\"/>\n<polygon fill=\"black\" stroke=\"black\" points=\"1312.17,-1136.67 1319.28,-1128.82 1308.83,-1130.53 1312.17,-1136.67\"/>\n<text text-anchor=\"middle\" x=\"1312.2\" y=\"-1149.1\" font-family=\"Helvetica,sans-Serif\" font-size=\"14.00\">False</text>\n</g>\n<!-- 2 -->\n<g id=\"node3\" class=\"node\">\n<title>2</title>\n<path fill=\"#ffffff\" stroke=\"black\" d=\"M660,-1020C660,-1020 574,-1020 574,-1020 568,-1020 562,-1014 562,-1008 562,-1008 562,-949 562,-949 562,-943 568,-937 574,-937 574,-937 660,-937 660,-937 666,-937 672,-943 672,-949 672,-949 672,-1008 672,-1008 672,-1014 666,-1020 660,-1020\"/>\n<text text-anchor=\"start\" x=\"589\" y=\"-1004.8\" font-family=\"Helvetica,sans-Serif\" font-size=\"14.00\">thal ≤ 2.5</text>\n<text text-anchor=\"start\" x=\"577\" y=\"-989.8\" font-family=\"Helvetica,sans-Serif\" font-size=\"14.00\">entropy = 1.0</text>\n<text text-anchor=\"start\" x=\"576\" y=\"-974.8\" font-family=\"Helvetica,sans-Serif\" font-size=\"14.00\">samples = 44</text>\n<text text-anchor=\"start\" x=\"570\" y=\"-959.8\" font-family=\"Helvetica,sans-Serif\" font-size=\"14.00\">value = [22, 22]</text>\n<text text-anchor=\"start\" x=\"589.5\" y=\"-944.8\" font-family=\"Helvetica,sans-Serif\" font-size=\"14.00\">class = 0</text>\n</g>\n<!-- 1&#45;&gt;2 -->\n<g id=\"edge2\" class=\"edge\">\n<title>1&#45;&gt;2</title>\n<path fill=\"none\" stroke=\"black\" d=\"M913.22,-1077.96C850.31,-1057.05 748.14,-1023.09 681.75,-1001.02\"/>\n<polygon fill=\"black\" stroke=\"black\" points=\"682.82,-997.69 672.22,-997.86 680.61,-1004.33 682.82,-997.69\"/>\n</g>\n<!-- 21 -->\n<g id=\"node22\" class=\"node\">\n<title>21</title>\n<path fill=\"#e78b49\" stroke=\"black\" d=\"M1012.5,-1020C1012.5,-1020 925.5,-1020 925.5,-1020 919.5,-1020 913.5,-1014 913.5,-1008 913.5,-1008 913.5,-949 913.5,-949 913.5,-943 919.5,-937 925.5,-937 925.5,-937 1012.5,-937 1012.5,-937 1018.5,-937 1024.5,-943 1024.5,-949 1024.5,-949 1024.5,-1008 1024.5,-1008 1024.5,-1014 1018.5,-1020 1012.5,-1020\"/>\n<text text-anchor=\"start\" x=\"933.5\" y=\"-1004.8\" font-family=\"Helvetica,sans-Serif\" font-size=\"14.00\">exang ≤ 0.5</text>\n<text text-anchor=\"start\" x=\"921.5\" y=\"-989.8\" font-family=\"Helvetica,sans-Serif\" font-size=\"14.00\">entropy = 0.376</text>\n<text text-anchor=\"start\" x=\"928\" y=\"-974.8\" font-family=\"Helvetica,sans-Serif\" font-size=\"14.00\">samples = 55</text>\n<text text-anchor=\"start\" x=\"926\" y=\"-959.8\" font-family=\"Helvetica,sans-Serif\" font-size=\"14.00\">value = [51, 4]</text>\n<text text-anchor=\"start\" x=\"941.5\" y=\"-944.8\" font-family=\"Helvetica,sans-Serif\" font-size=\"14.00\">class = 0</text>\n</g>\n<!-- 1&#45;&gt;21 -->\n<g id=\"edge21\" class=\"edge\">\n<title>1&#45;&gt;21</title>\n<path fill=\"none\" stroke=\"black\" d=\"M969,-1055.91C969,-1047.65 969,-1038.86 969,-1030.3\"/>\n<polygon fill=\"black\" stroke=\"black\" points=\"972.5,-1030.02 969,-1020.02 965.5,-1030.02 972.5,-1030.02\"/>\n</g>\n<!-- 3 -->\n<g id=\"node4\" class=\"node\">\n<title>3</title>\n<path fill=\"#86c3ef\" stroke=\"black\" d=\"M418.5,-901C418.5,-901 331.5,-901 331.5,-901 325.5,-901 319.5,-895 319.5,-889 319.5,-889 319.5,-830 319.5,-830 319.5,-824 325.5,-818 331.5,-818 331.5,-818 418.5,-818 418.5,-818 424.5,-818 430.5,-824 430.5,-830 430.5,-830 430.5,-889 430.5,-889 430.5,-895 424.5,-901 418.5,-901\"/>\n<text text-anchor=\"start\" x=\"339.5\" y=\"-885.8\" font-family=\"Helvetica,sans-Serif\" font-size=\"14.00\">exang ≤ 0.5</text>\n<text text-anchor=\"start\" x=\"327.5\" y=\"-870.8\" font-family=\"Helvetica,sans-Serif\" font-size=\"14.00\">entropy = 0.855</text>\n<text text-anchor=\"start\" x=\"334\" y=\"-855.8\" font-family=\"Helvetica,sans-Serif\" font-size=\"14.00\">samples = 25</text>\n<text text-anchor=\"start\" x=\"332\" y=\"-840.8\" font-family=\"Helvetica,sans-Serif\" font-size=\"14.00\">value = [7, 18]</text>\n<text text-anchor=\"start\" x=\"347.5\" y=\"-825.8\" font-family=\"Helvetica,sans-Serif\" font-size=\"14.00\">class = 1</text>\n</g>\n<!-- 2&#45;&gt;3 -->\n<g id=\"edge3\" class=\"edge\">\n<title>2&#45;&gt;3</title>\n<path fill=\"none\" stroke=\"black\" d=\"M561.78,-950.8C525.65,-933.33 478.26,-910.42 440.26,-892.05\"/>\n<polygon fill=\"black\" stroke=\"black\" points=\"441.34,-888.69 430.82,-887.49 438.3,-894.99 441.34,-888.69\"/>\n</g>\n<!-- 14 -->\n<g id=\"node15\" class=\"node\">\n<title>14</title>\n<path fill=\"#eca36e\" stroke=\"black\" d=\"M660.5,-901C660.5,-901 573.5,-901 573.5,-901 567.5,-901 561.5,-895 561.5,-889 561.5,-889 561.5,-830 561.5,-830 561.5,-824 567.5,-818 573.5,-818 573.5,-818 660.5,-818 660.5,-818 666.5,-818 672.5,-824 672.5,-830 672.5,-830 672.5,-889 672.5,-889 672.5,-895 666.5,-901 660.5,-901\"/>\n<text text-anchor=\"start\" x=\"572.5\" y=\"-885.8\" font-family=\"Helvetica,sans-Serif\" font-size=\"14.00\">oldpeak ≤ 0.45</text>\n<text text-anchor=\"start\" x=\"569.5\" y=\"-870.8\" font-family=\"Helvetica,sans-Serif\" font-size=\"14.00\">entropy = 0.742</text>\n<text text-anchor=\"start\" x=\"576\" y=\"-855.8\" font-family=\"Helvetica,sans-Serif\" font-size=\"14.00\">samples = 19</text>\n<text text-anchor=\"start\" x=\"574\" y=\"-840.8\" font-family=\"Helvetica,sans-Serif\" font-size=\"14.00\">value = [15, 4]</text>\n<text text-anchor=\"start\" x=\"589.5\" y=\"-825.8\" font-family=\"Helvetica,sans-Serif\" font-size=\"14.00\">class = 0</text>\n</g>\n<!-- 2&#45;&gt;14 -->\n<g id=\"edge14\" class=\"edge\">\n<title>2&#45;&gt;14</title>\n<path fill=\"none\" stroke=\"black\" d=\"M617,-936.91C617,-928.65 617,-919.86 617,-911.3\"/>\n<polygon fill=\"black\" stroke=\"black\" points=\"620.5,-911.02 617,-901.02 613.5,-911.02 620.5,-911.02\"/>\n</g>\n<!-- 4 -->\n<g id=\"node5\" class=\"node\">\n<title>4</title>\n<path fill=\"#47a4e7\" stroke=\"black\" d=\"M211.5,-782C211.5,-782 124.5,-782 124.5,-782 118.5,-782 112.5,-776 112.5,-770 112.5,-770 112.5,-711 112.5,-711 112.5,-705 118.5,-699 124.5,-699 124.5,-699 211.5,-699 211.5,-699 217.5,-699 223.5,-705 223.5,-711 223.5,-711 223.5,-770 223.5,-770 223.5,-776 217.5,-782 211.5,-782\"/>\n<text text-anchor=\"start\" x=\"131\" y=\"-766.8\" font-family=\"Helvetica,sans-Serif\" font-size=\"14.00\">chol ≤ 316.5</text>\n<text text-anchor=\"start\" x=\"120.5\" y=\"-751.8\" font-family=\"Helvetica,sans-Serif\" font-size=\"14.00\">entropy = 0.353</text>\n<text text-anchor=\"start\" x=\"127\" y=\"-736.8\" font-family=\"Helvetica,sans-Serif\" font-size=\"14.00\">samples = 15</text>\n<text text-anchor=\"start\" x=\"125\" y=\"-721.8\" font-family=\"Helvetica,sans-Serif\" font-size=\"14.00\">value = [1, 14]</text>\n<text text-anchor=\"start\" x=\"140.5\" y=\"-706.8\" font-family=\"Helvetica,sans-Serif\" font-size=\"14.00\">class = 1</text>\n</g>\n<!-- 3&#45;&gt;4 -->\n<g id=\"edge4\" class=\"edge\">\n<title>3&#45;&gt;4</title>\n<path fill=\"none\" stroke=\"black\" d=\"M319.26,-826.99C292.57,-811.91 260.45,-793.76 232.69,-778.06\"/>\n<polygon fill=\"black\" stroke=\"black\" points=\"234.27,-774.94 223.84,-773.06 230.83,-781.03 234.27,-774.94\"/>\n</g>\n<!-- 9 -->\n<g id=\"node10\" class=\"node\">\n<title>9</title>\n<path fill=\"#f6d5bd\" stroke=\"black\" d=\"M418.5,-782C418.5,-782 331.5,-782 331.5,-782 325.5,-782 319.5,-776 319.5,-770 319.5,-770 319.5,-711 319.5,-711 319.5,-705 325.5,-699 331.5,-699 331.5,-699 418.5,-699 418.5,-699 424.5,-699 430.5,-705 430.5,-711 430.5,-711 430.5,-770 430.5,-770 430.5,-776 424.5,-782 418.5,-782\"/>\n<text text-anchor=\"start\" x=\"335.5\" y=\"-766.8\" font-family=\"Helvetica,sans-Serif\" font-size=\"14.00\">restecg ≤ 0.5</text>\n<text text-anchor=\"start\" x=\"327.5\" y=\"-751.8\" font-family=\"Helvetica,sans-Serif\" font-size=\"14.00\">entropy = 0.971</text>\n<text text-anchor=\"start\" x=\"334\" y=\"-736.8\" font-family=\"Helvetica,sans-Serif\" font-size=\"14.00\">samples = 10</text>\n<text text-anchor=\"start\" x=\"335.5\" y=\"-721.8\" font-family=\"Helvetica,sans-Serif\" font-size=\"14.00\">value = [6, 4]</text>\n<text text-anchor=\"start\" x=\"347.5\" y=\"-706.8\" font-family=\"Helvetica,sans-Serif\" font-size=\"14.00\">class = 0</text>\n</g>\n<!-- 3&#45;&gt;9 -->\n<g id=\"edge9\" class=\"edge\">\n<title>3&#45;&gt;9</title>\n<path fill=\"none\" stroke=\"black\" d=\"M375,-817.91C375,-809.65 375,-800.86 375,-792.3\"/>\n<polygon fill=\"black\" stroke=\"black\" points=\"378.5,-792.02 375,-782.02 371.5,-792.02 378.5,-792.02\"/>\n</g>\n<!-- 5 -->\n<g id=\"node6\" class=\"node\">\n<title>5</title>\n<path fill=\"#399de5\" stroke=\"black\" d=\"M90,-655.5C90,-655.5 12,-655.5 12,-655.5 6,-655.5 0,-649.5 0,-643.5 0,-643.5 0,-599.5 0,-599.5 0,-593.5 6,-587.5 12,-587.5 12,-587.5 90,-587.5 90,-587.5 96,-587.5 102,-593.5 102,-599.5 102,-599.5 102,-643.5 102,-643.5 102,-649.5 96,-655.5 90,-655.5\"/>\n<text text-anchor=\"start\" x=\"11\" y=\"-640.3\" font-family=\"Helvetica,sans-Serif\" font-size=\"14.00\">entropy = 0.0</text>\n<text text-anchor=\"start\" x=\"10\" y=\"-625.3\" font-family=\"Helvetica,sans-Serif\" font-size=\"14.00\">samples = 13</text>\n<text text-anchor=\"start\" x=\"8\" y=\"-610.3\" font-family=\"Helvetica,sans-Serif\" font-size=\"14.00\">value = [0, 13]</text>\n<text text-anchor=\"start\" x=\"23.5\" y=\"-595.3\" font-family=\"Helvetica,sans-Serif\" font-size=\"14.00\">class = 1</text>\n</g>\n<!-- 4&#45;&gt;5 -->\n<g id=\"edge5\" class=\"edge\">\n<title>4&#45;&gt;5</title>\n<path fill=\"none\" stroke=\"black\" d=\"M127.41,-698.91C115.71,-687.21 102.96,-674.46 91.28,-662.78\"/>\n<polygon fill=\"black\" stroke=\"black\" points=\"93.71,-660.26 84.17,-655.67 88.76,-665.21 93.71,-660.26\"/>\n</g>\n<!-- 6 -->\n<g id=\"node7\" class=\"node\">\n<title>6</title>\n<path fill=\"#ffffff\" stroke=\"black\" d=\"M204,-663C204,-663 132,-663 132,-663 126,-663 120,-657 120,-651 120,-651 120,-592 120,-592 120,-586 126,-580 132,-580 132,-580 204,-580 204,-580 210,-580 216,-586 216,-592 216,-592 216,-651 216,-651 216,-657 210,-663 204,-663\"/>\n<text text-anchor=\"start\" x=\"131\" y=\"-647.8\" font-family=\"Helvetica,sans-Serif\" font-size=\"14.00\">chol ≤ 362.0</text>\n<text text-anchor=\"start\" x=\"128\" y=\"-632.8\" font-family=\"Helvetica,sans-Serif\" font-size=\"14.00\">entropy = 1.0</text>\n<text text-anchor=\"start\" x=\"130.5\" y=\"-617.8\" font-family=\"Helvetica,sans-Serif\" font-size=\"14.00\">samples = 2</text>\n<text text-anchor=\"start\" x=\"128.5\" y=\"-602.8\" font-family=\"Helvetica,sans-Serif\" font-size=\"14.00\">value = [1, 1]</text>\n<text text-anchor=\"start\" x=\"140.5\" y=\"-587.8\" font-family=\"Helvetica,sans-Serif\" font-size=\"14.00\">class = 0</text>\n</g>\n<!-- 4&#45;&gt;6 -->\n<g id=\"edge6\" class=\"edge\">\n<title>4&#45;&gt;6</title>\n<path fill=\"none\" stroke=\"black\" d=\"M168,-698.91C168,-690.65 168,-681.86 168,-673.3\"/>\n<polygon fill=\"black\" stroke=\"black\" points=\"171.5,-673.02 168,-663.02 164.5,-673.02 171.5,-673.02\"/>\n</g>\n<!-- 7 -->\n<g id=\"node8\" class=\"node\">\n<title>7</title>\n<path fill=\"#e58139\" stroke=\"black\" d=\"M147,-536.5C147,-536.5 75,-536.5 75,-536.5 69,-536.5 63,-530.5 63,-524.5 63,-524.5 63,-480.5 63,-480.5 63,-474.5 69,-468.5 75,-468.5 75,-468.5 147,-468.5 147,-468.5 153,-468.5 159,-474.5 159,-480.5 159,-480.5 159,-524.5 159,-524.5 159,-530.5 153,-536.5 147,-536.5\"/>\n<text text-anchor=\"start\" x=\"71\" y=\"-521.3\" font-family=\"Helvetica,sans-Serif\" font-size=\"14.00\">entropy = 0.0</text>\n<text text-anchor=\"start\" x=\"73.5\" y=\"-506.3\" font-family=\"Helvetica,sans-Serif\" font-size=\"14.00\">samples = 1</text>\n<text text-anchor=\"start\" x=\"71.5\" y=\"-491.3\" font-family=\"Helvetica,sans-Serif\" font-size=\"14.00\">value = [1, 0]</text>\n<text text-anchor=\"start\" x=\"83.5\" y=\"-476.3\" font-family=\"Helvetica,sans-Serif\" font-size=\"14.00\">class = 0</text>\n</g>\n<!-- 6&#45;&gt;7 -->\n<g id=\"edge7\" class=\"edge\">\n<title>6&#45;&gt;7</title>\n<path fill=\"none\" stroke=\"black\" d=\"M148.22,-579.91C142.85,-568.87 137.01,-556.9 131.59,-545.77\"/>\n<polygon fill=\"black\" stroke=\"black\" points=\"134.68,-544.12 127.16,-536.67 128.39,-547.19 134.68,-544.12\"/>\n</g>\n<!-- 8 -->\n<g id=\"node9\" class=\"node\">\n<title>8</title>\n<path fill=\"#399de5\" stroke=\"black\" d=\"M261,-536.5C261,-536.5 189,-536.5 189,-536.5 183,-536.5 177,-530.5 177,-524.5 177,-524.5 177,-480.5 177,-480.5 177,-474.5 183,-468.5 189,-468.5 189,-468.5 261,-468.5 261,-468.5 267,-468.5 273,-474.5 273,-480.5 273,-480.5 273,-524.5 273,-524.5 273,-530.5 267,-536.5 261,-536.5\"/>\n<text text-anchor=\"start\" x=\"185\" y=\"-521.3\" font-family=\"Helvetica,sans-Serif\" font-size=\"14.00\">entropy = 0.0</text>\n<text text-anchor=\"start\" x=\"187.5\" y=\"-506.3\" font-family=\"Helvetica,sans-Serif\" font-size=\"14.00\">samples = 1</text>\n<text text-anchor=\"start\" x=\"185.5\" y=\"-491.3\" font-family=\"Helvetica,sans-Serif\" font-size=\"14.00\">value = [0, 1]</text>\n<text text-anchor=\"start\" x=\"197.5\" y=\"-476.3\" font-family=\"Helvetica,sans-Serif\" font-size=\"14.00\">class = 1</text>\n</g>\n<!-- 6&#45;&gt;8 -->\n<g id=\"edge8\" class=\"edge\">\n<title>6&#45;&gt;8</title>\n<path fill=\"none\" stroke=\"black\" d=\"M187.78,-579.91C193.15,-568.87 198.99,-556.9 204.41,-545.77\"/>\n<polygon fill=\"black\" stroke=\"black\" points=\"207.61,-547.19 208.84,-536.67 201.32,-544.12 207.61,-547.19\"/>\n</g>\n<!-- 10 -->\n<g id=\"node11\" class=\"node\">\n<title>10</title>\n<path fill=\"#399de5\" stroke=\"black\" d=\"M318,-655.5C318,-655.5 246,-655.5 246,-655.5 240,-655.5 234,-649.5 234,-643.5 234,-643.5 234,-599.5 234,-599.5 234,-593.5 240,-587.5 246,-587.5 246,-587.5 318,-587.5 318,-587.5 324,-587.5 330,-593.5 330,-599.5 330,-599.5 330,-643.5 330,-643.5 330,-649.5 324,-655.5 318,-655.5\"/>\n<text text-anchor=\"start\" x=\"242\" y=\"-640.3\" font-family=\"Helvetica,sans-Serif\" font-size=\"14.00\">entropy = 0.0</text>\n<text text-anchor=\"start\" x=\"244.5\" y=\"-625.3\" font-family=\"Helvetica,sans-Serif\" font-size=\"14.00\">samples = 3</text>\n<text text-anchor=\"start\" x=\"242.5\" y=\"-610.3\" font-family=\"Helvetica,sans-Serif\" font-size=\"14.00\">value = [0, 3]</text>\n<text text-anchor=\"start\" x=\"254.5\" y=\"-595.3\" font-family=\"Helvetica,sans-Serif\" font-size=\"14.00\">class = 1</text>\n</g>\n<!-- 9&#45;&gt;10 -->\n<g id=\"edge10\" class=\"edge\">\n<title>9&#45;&gt;10</title>\n<path fill=\"none\" stroke=\"black\" d=\"M342.73,-698.91C333.7,-687.54 323.87,-675.18 314.81,-663.77\"/>\n<polygon fill=\"black\" stroke=\"black\" points=\"317.33,-661.32 308.36,-655.67 311.85,-665.67 317.33,-661.32\"/>\n</g>\n<!-- 11 -->\n<g id=\"node12\" class=\"node\">\n<title>11</title>\n<path fill=\"#e9965a\" stroke=\"black\" d=\"M447.5,-663C447.5,-663 360.5,-663 360.5,-663 354.5,-663 348.5,-657 348.5,-651 348.5,-651 348.5,-592 348.5,-592 348.5,-586 354.5,-580 360.5,-580 360.5,-580 447.5,-580 447.5,-580 453.5,-580 459.5,-586 459.5,-592 459.5,-592 459.5,-651 459.5,-651 459.5,-657 453.5,-663 447.5,-663\"/>\n<text text-anchor=\"start\" x=\"372\" y=\"-647.8\" font-family=\"Helvetica,sans-Serif\" font-size=\"14.00\">age ≤ 63.5</text>\n<text text-anchor=\"start\" x=\"356.5\" y=\"-632.8\" font-family=\"Helvetica,sans-Serif\" font-size=\"14.00\">entropy = 0.592</text>\n<text text-anchor=\"start\" x=\"366.5\" y=\"-617.8\" font-family=\"Helvetica,sans-Serif\" font-size=\"14.00\">samples = 7</text>\n<text text-anchor=\"start\" x=\"364.5\" y=\"-602.8\" font-family=\"Helvetica,sans-Serif\" font-size=\"14.00\">value = [6, 1]</text>\n<text text-anchor=\"start\" x=\"376.5\" y=\"-587.8\" font-family=\"Helvetica,sans-Serif\" font-size=\"14.00\">class = 0</text>\n</g>\n<!-- 9&#45;&gt;11 -->\n<g id=\"edge11\" class=\"edge\">\n<title>9&#45;&gt;11</title>\n<path fill=\"none\" stroke=\"black\" d=\"M385.06,-698.91C387.15,-690.47 389.38,-681.48 391.55,-672.74\"/>\n<polygon fill=\"black\" stroke=\"black\" points=\"394.95,-673.57 393.96,-663.02 388.15,-671.89 394.95,-673.57\"/>\n</g>\n<!-- 12 -->\n<g id=\"node13\" class=\"node\">\n<title>12</title>\n<path fill=\"#e58139\" stroke=\"black\" d=\"M436,-536.5C436,-536.5 364,-536.5 364,-536.5 358,-536.5 352,-530.5 352,-524.5 352,-524.5 352,-480.5 352,-480.5 352,-474.5 358,-468.5 364,-468.5 364,-468.5 436,-468.5 436,-468.5 442,-468.5 448,-474.5 448,-480.5 448,-480.5 448,-524.5 448,-524.5 448,-530.5 442,-536.5 436,-536.5\"/>\n<text text-anchor=\"start\" x=\"360\" y=\"-521.3\" font-family=\"Helvetica,sans-Serif\" font-size=\"14.00\">entropy = 0.0</text>\n<text text-anchor=\"start\" x=\"362.5\" y=\"-506.3\" font-family=\"Helvetica,sans-Serif\" font-size=\"14.00\">samples = 6</text>\n<text text-anchor=\"start\" x=\"360.5\" y=\"-491.3\" font-family=\"Helvetica,sans-Serif\" font-size=\"14.00\">value = [6, 0]</text>\n<text text-anchor=\"start\" x=\"372.5\" y=\"-476.3\" font-family=\"Helvetica,sans-Serif\" font-size=\"14.00\">class = 0</text>\n</g>\n<!-- 11&#45;&gt;12 -->\n<g id=\"edge12\" class=\"edge\">\n<title>11&#45;&gt;12</title>\n<path fill=\"none\" stroke=\"black\" d=\"M402.61,-579.91C402.25,-569.2 401.85,-557.62 401.48,-546.78\"/>\n<polygon fill=\"black\" stroke=\"black\" points=\"404.97,-546.54 401.13,-536.67 397.98,-546.78 404.97,-546.54\"/>\n</g>\n<!-- 13 -->\n<g id=\"node14\" class=\"node\">\n<title>13</title>\n<path fill=\"#399de5\" stroke=\"black\" d=\"M550,-536.5C550,-536.5 478,-536.5 478,-536.5 472,-536.5 466,-530.5 466,-524.5 466,-524.5 466,-480.5 466,-480.5 466,-474.5 472,-468.5 478,-468.5 478,-468.5 550,-468.5 550,-468.5 556,-468.5 562,-474.5 562,-480.5 562,-480.5 562,-524.5 562,-524.5 562,-530.5 556,-536.5 550,-536.5\"/>\n<text text-anchor=\"start\" x=\"474\" y=\"-521.3\" font-family=\"Helvetica,sans-Serif\" font-size=\"14.00\">entropy = 0.0</text>\n<text text-anchor=\"start\" x=\"476.5\" y=\"-506.3\" font-family=\"Helvetica,sans-Serif\" font-size=\"14.00\">samples = 1</text>\n<text text-anchor=\"start\" x=\"474.5\" y=\"-491.3\" font-family=\"Helvetica,sans-Serif\" font-size=\"14.00\">value = [0, 1]</text>\n<text text-anchor=\"start\" x=\"486.5\" y=\"-476.3\" font-family=\"Helvetica,sans-Serif\" font-size=\"14.00\">class = 1</text>\n</g>\n<!-- 11&#45;&gt;13 -->\n<g id=\"edge13\" class=\"edge\">\n<title>11&#45;&gt;13</title>\n<path fill=\"none\" stroke=\"black\" d=\"M442.16,-579.91C453.06,-568.32 464.93,-555.7 475.82,-544.11\"/>\n<polygon fill=\"black\" stroke=\"black\" points=\"478.52,-546.35 482.82,-536.67 473.42,-541.56 478.52,-546.35\"/>\n</g>\n<!-- 15 -->\n<g id=\"node16\" class=\"node\">\n<title>15</title>\n<path fill=\"#cee6f8\" stroke=\"black\" d=\"M597.5,-782C597.5,-782 510.5,-782 510.5,-782 504.5,-782 498.5,-776 498.5,-770 498.5,-770 498.5,-711 498.5,-711 498.5,-705 504.5,-699 510.5,-699 510.5,-699 597.5,-699 597.5,-699 603.5,-699 609.5,-705 609.5,-711 609.5,-711 609.5,-770 609.5,-770 609.5,-776 603.5,-782 597.5,-782\"/>\n<text text-anchor=\"start\" x=\"522\" y=\"-766.8\" font-family=\"Helvetica,sans-Serif\" font-size=\"14.00\">age ≤ 42.0</text>\n<text text-anchor=\"start\" x=\"506.5\" y=\"-751.8\" font-family=\"Helvetica,sans-Serif\" font-size=\"14.00\">entropy = 0.985</text>\n<text text-anchor=\"start\" x=\"516.5\" y=\"-736.8\" font-family=\"Helvetica,sans-Serif\" font-size=\"14.00\">samples = 7</text>\n<text text-anchor=\"start\" x=\"514.5\" y=\"-721.8\" font-family=\"Helvetica,sans-Serif\" font-size=\"14.00\">value = [3, 4]</text>\n<text text-anchor=\"start\" x=\"526.5\" y=\"-706.8\" font-family=\"Helvetica,sans-Serif\" font-size=\"14.00\">class = 1</text>\n</g>\n<!-- 14&#45;&gt;15 -->\n<g id=\"edge15\" class=\"edge\">\n<title>14&#45;&gt;15</title>\n<path fill=\"none\" stroke=\"black\" d=\"M595.14,-817.91C590.45,-809.2 585.44,-799.9 580.6,-790.89\"/>\n<polygon fill=\"black\" stroke=\"black\" points=\"583.64,-789.17 575.82,-782.02 577.48,-792.48 583.64,-789.17\"/>\n</g>\n<!-- 20 -->\n<g id=\"node21\" class=\"node\">\n<title>20</title>\n<path fill=\"#e58139\" stroke=\"black\" d=\"M718,-774.5C718,-774.5 640,-774.5 640,-774.5 634,-774.5 628,-768.5 628,-762.5 628,-762.5 628,-718.5 628,-718.5 628,-712.5 634,-706.5 640,-706.5 640,-706.5 718,-706.5 718,-706.5 724,-706.5 730,-712.5 730,-718.5 730,-718.5 730,-762.5 730,-762.5 730,-768.5 724,-774.5 718,-774.5\"/>\n<text text-anchor=\"start\" x=\"639\" y=\"-759.3\" font-family=\"Helvetica,sans-Serif\" font-size=\"14.00\">entropy = 0.0</text>\n<text text-anchor=\"start\" x=\"638\" y=\"-744.3\" font-family=\"Helvetica,sans-Serif\" font-size=\"14.00\">samples = 12</text>\n<text text-anchor=\"start\" x=\"636\" y=\"-729.3\" font-family=\"Helvetica,sans-Serif\" font-size=\"14.00\">value = [12, 0]</text>\n<text text-anchor=\"start\" x=\"651.5\" y=\"-714.3\" font-family=\"Helvetica,sans-Serif\" font-size=\"14.00\">class = 0</text>\n</g>\n<!-- 14&#45;&gt;20 -->\n<g id=\"edge20\" class=\"edge\">\n<title>14&#45;&gt;20</title>\n<path fill=\"none\" stroke=\"black\" d=\"M638.51,-817.91C644.36,-806.87 650.7,-794.9 656.6,-783.77\"/>\n<polygon fill=\"black\" stroke=\"black\" points=\"659.83,-785.14 661.42,-774.67 653.65,-781.86 659.83,-785.14\"/>\n</g>\n<!-- 16 -->\n<g id=\"node17\" class=\"node\">\n<title>16</title>\n<path fill=\"#e58139\" stroke=\"black\" d=\"M562,-655.5C562,-655.5 490,-655.5 490,-655.5 484,-655.5 478,-649.5 478,-643.5 478,-643.5 478,-599.5 478,-599.5 478,-593.5 484,-587.5 490,-587.5 490,-587.5 562,-587.5 562,-587.5 568,-587.5 574,-593.5 574,-599.5 574,-599.5 574,-643.5 574,-643.5 574,-649.5 568,-655.5 562,-655.5\"/>\n<text text-anchor=\"start\" x=\"486\" y=\"-640.3\" font-family=\"Helvetica,sans-Serif\" font-size=\"14.00\">entropy = 0.0</text>\n<text text-anchor=\"start\" x=\"488.5\" y=\"-625.3\" font-family=\"Helvetica,sans-Serif\" font-size=\"14.00\">samples = 2</text>\n<text text-anchor=\"start\" x=\"486.5\" y=\"-610.3\" font-family=\"Helvetica,sans-Serif\" font-size=\"14.00\">value = [2, 0]</text>\n<text text-anchor=\"start\" x=\"498.5\" y=\"-595.3\" font-family=\"Helvetica,sans-Serif\" font-size=\"14.00\">class = 0</text>\n</g>\n<!-- 15&#45;&gt;16 -->\n<g id=\"edge16\" class=\"edge\">\n<title>15&#45;&gt;16</title>\n<path fill=\"none\" stroke=\"black\" d=\"M544.29,-698.91C541.7,-688.09 538.89,-676.38 536.28,-665.44\"/>\n<polygon fill=\"black\" stroke=\"black\" points=\"539.67,-664.58 533.94,-655.67 532.86,-666.21 539.67,-664.58\"/>\n</g>\n<!-- 17 -->\n<g id=\"node18\" class=\"node\">\n<title>17</title>\n<path fill=\"#6ab6ec\" stroke=\"black\" d=\"M691.5,-663C691.5,-663 604.5,-663 604.5,-663 598.5,-663 592.5,-657 592.5,-651 592.5,-651 592.5,-592 592.5,-592 592.5,-586 598.5,-580 604.5,-580 604.5,-580 691.5,-580 691.5,-580 697.5,-580 703.5,-586 703.5,-592 703.5,-592 703.5,-651 703.5,-651 703.5,-657 697.5,-663 691.5,-663\"/>\n<text text-anchor=\"start\" x=\"620.5\" y=\"-647.8\" font-family=\"Helvetica,sans-Serif\" font-size=\"14.00\">sex ≤ 0.5</text>\n<text text-anchor=\"start\" x=\"600.5\" y=\"-632.8\" font-family=\"Helvetica,sans-Serif\" font-size=\"14.00\">entropy = 0.722</text>\n<text text-anchor=\"start\" x=\"610.5\" y=\"-617.8\" font-family=\"Helvetica,sans-Serif\" font-size=\"14.00\">samples = 5</text>\n<text text-anchor=\"start\" x=\"608.5\" y=\"-602.8\" font-family=\"Helvetica,sans-Serif\" font-size=\"14.00\">value = [1, 4]</text>\n<text text-anchor=\"start\" x=\"620.5\" y=\"-587.8\" font-family=\"Helvetica,sans-Serif\" font-size=\"14.00\">class = 1</text>\n</g>\n<!-- 15&#45;&gt;17 -->\n<g id=\"edge17\" class=\"edge\">\n<title>15&#45;&gt;17</title>\n<path fill=\"none\" stroke=\"black\" d=\"M586.61,-698.91C593.83,-689.92 601.55,-680.32 608.99,-671.05\"/>\n<polygon fill=\"black\" stroke=\"black\" points=\"611.91,-673.01 615.44,-663.02 606.45,-668.62 611.91,-673.01\"/>\n</g>\n<!-- 18 -->\n<g id=\"node19\" class=\"node\">\n<title>18</title>\n<path fill=\"#e58139\" stroke=\"black\" d=\"M674,-536.5C674,-536.5 602,-536.5 602,-536.5 596,-536.5 590,-530.5 590,-524.5 590,-524.5 590,-480.5 590,-480.5 590,-474.5 596,-468.5 602,-468.5 602,-468.5 674,-468.5 674,-468.5 680,-468.5 686,-474.5 686,-480.5 686,-480.5 686,-524.5 686,-524.5 686,-530.5 680,-536.5 674,-536.5\"/>\n<text text-anchor=\"start\" x=\"598\" y=\"-521.3\" font-family=\"Helvetica,sans-Serif\" font-size=\"14.00\">entropy = 0.0</text>\n<text text-anchor=\"start\" x=\"600.5\" y=\"-506.3\" font-family=\"Helvetica,sans-Serif\" font-size=\"14.00\">samples = 1</text>\n<text text-anchor=\"start\" x=\"598.5\" y=\"-491.3\" font-family=\"Helvetica,sans-Serif\" font-size=\"14.00\">value = [1, 0]</text>\n<text text-anchor=\"start\" x=\"610.5\" y=\"-476.3\" font-family=\"Helvetica,sans-Serif\" font-size=\"14.00\">class = 0</text>\n</g>\n<!-- 17&#45;&gt;18 -->\n<g id=\"edge18\" class=\"edge\">\n<title>17&#45;&gt;18</title>\n<path fill=\"none\" stroke=\"black\" d=\"M644.53,-579.91C643.62,-569.2 642.63,-557.62 641.7,-546.78\"/>\n<polygon fill=\"black\" stroke=\"black\" points=\"645.17,-546.33 640.83,-536.67 638.2,-546.93 645.17,-546.33\"/>\n</g>\n<!-- 19 -->\n<g id=\"node20\" class=\"node\">\n<title>19</title>\n<path fill=\"#399de5\" stroke=\"black\" d=\"M788,-536.5C788,-536.5 716,-536.5 716,-536.5 710,-536.5 704,-530.5 704,-524.5 704,-524.5 704,-480.5 704,-480.5 704,-474.5 710,-468.5 716,-468.5 716,-468.5 788,-468.5 788,-468.5 794,-468.5 800,-474.5 800,-480.5 800,-480.5 800,-524.5 800,-524.5 800,-530.5 794,-536.5 788,-536.5\"/>\n<text text-anchor=\"start\" x=\"712\" y=\"-521.3\" font-family=\"Helvetica,sans-Serif\" font-size=\"14.00\">entropy = 0.0</text>\n<text text-anchor=\"start\" x=\"714.5\" y=\"-506.3\" font-family=\"Helvetica,sans-Serif\" font-size=\"14.00\">samples = 4</text>\n<text text-anchor=\"start\" x=\"712.5\" y=\"-491.3\" font-family=\"Helvetica,sans-Serif\" font-size=\"14.00\">value = [0, 4]</text>\n<text text-anchor=\"start\" x=\"724.5\" y=\"-476.3\" font-family=\"Helvetica,sans-Serif\" font-size=\"14.00\">class = 1</text>\n</g>\n<!-- 17&#45;&gt;19 -->\n<g id=\"edge19\" class=\"edge\">\n<title>17&#45;&gt;19</title>\n<path fill=\"none\" stroke=\"black\" d=\"M684.08,-579.91C694.28,-568.43 705.39,-555.94 715.61,-544.44\"/>\n<polygon fill=\"black\" stroke=\"black\" points=\"718.49,-546.47 722.52,-536.67 713.26,-541.82 718.49,-546.47\"/>\n</g>\n<!-- 22 -->\n<g id=\"node23\" class=\"node\">\n<title>22</title>\n<path fill=\"#eca06a\" stroke=\"black\" d=\"M950.5,-901C950.5,-901 861.5,-901 861.5,-901 855.5,-901 849.5,-895 849.5,-889 849.5,-889 849.5,-830 849.5,-830 849.5,-824 855.5,-818 861.5,-818 861.5,-818 950.5,-818 950.5,-818 956.5,-818 962.5,-824 962.5,-830 962.5,-830 962.5,-889 962.5,-889 962.5,-895 956.5,-901 950.5,-901\"/>\n<text text-anchor=\"start\" x=\"857.5\" y=\"-885.8\" font-family=\"Helvetica,sans-Serif\" font-size=\"14.00\">trestbps ≤ 134.0</text>\n<text text-anchor=\"start\" x=\"858.5\" y=\"-870.8\" font-family=\"Helvetica,sans-Serif\" font-size=\"14.00\">entropy = 0.722</text>\n<text text-anchor=\"start\" x=\"865\" y=\"-855.8\" font-family=\"Helvetica,sans-Serif\" font-size=\"14.00\">samples = 20</text>\n<text text-anchor=\"start\" x=\"863\" y=\"-840.8\" font-family=\"Helvetica,sans-Serif\" font-size=\"14.00\">value = [16, 4]</text>\n<text text-anchor=\"start\" x=\"878.5\" y=\"-825.8\" font-family=\"Helvetica,sans-Serif\" font-size=\"14.00\">class = 0</text>\n</g>\n<!-- 21&#45;&gt;22 -->\n<g id=\"edge22\" class=\"edge\">\n<title>21&#45;&gt;22</title>\n<path fill=\"none\" stroke=\"black\" d=\"M947.14,-936.91C942.45,-928.2 937.44,-918.9 932.6,-909.89\"/>\n<polygon fill=\"black\" stroke=\"black\" points=\"935.64,-908.17 927.82,-901.02 929.48,-911.48 935.64,-908.17\"/>\n</g>\n<!-- 29 -->\n<g id=\"node30\" class=\"node\">\n<title>29</title>\n<path fill=\"#e58139\" stroke=\"black\" d=\"M1071,-893.5C1071,-893.5 993,-893.5 993,-893.5 987,-893.5 981,-887.5 981,-881.5 981,-881.5 981,-837.5 981,-837.5 981,-831.5 987,-825.5 993,-825.5 993,-825.5 1071,-825.5 1071,-825.5 1077,-825.5 1083,-831.5 1083,-837.5 1083,-837.5 1083,-881.5 1083,-881.5 1083,-887.5 1077,-893.5 1071,-893.5\"/>\n<text text-anchor=\"start\" x=\"992\" y=\"-878.3\" font-family=\"Helvetica,sans-Serif\" font-size=\"14.00\">entropy = 0.0</text>\n<text text-anchor=\"start\" x=\"991\" y=\"-863.3\" font-family=\"Helvetica,sans-Serif\" font-size=\"14.00\">samples = 35</text>\n<text text-anchor=\"start\" x=\"989\" y=\"-848.3\" font-family=\"Helvetica,sans-Serif\" font-size=\"14.00\">value = [35, 0]</text>\n<text text-anchor=\"start\" x=\"1004.5\" y=\"-833.3\" font-family=\"Helvetica,sans-Serif\" font-size=\"14.00\">class = 0</text>\n</g>\n<!-- 21&#45;&gt;29 -->\n<g id=\"edge29\" class=\"edge\">\n<title>21&#45;&gt;29</title>\n<path fill=\"none\" stroke=\"black\" d=\"M990.86,-936.91C996.8,-925.87 1003.25,-913.9 1009.24,-902.77\"/>\n<polygon fill=\"black\" stroke=\"black\" points=\"1012.48,-904.13 1014.14,-893.67 1006.32,-900.81 1012.48,-904.13\"/>\n</g>\n<!-- 23 -->\n<g id=\"node24\" class=\"node\">\n<title>23</title>\n<path fill=\"#f6d5bd\" stroke=\"black\" d=\"M886.5,-782C886.5,-782 799.5,-782 799.5,-782 793.5,-782 787.5,-776 787.5,-770 787.5,-770 787.5,-711 787.5,-711 787.5,-705 793.5,-699 799.5,-699 799.5,-699 886.5,-699 886.5,-699 892.5,-699 898.5,-705 898.5,-711 898.5,-711 898.5,-770 898.5,-770 898.5,-776 892.5,-782 886.5,-782\"/>\n<text text-anchor=\"start\" x=\"815.5\" y=\"-766.8\" font-family=\"Helvetica,sans-Serif\" font-size=\"14.00\">sex ≤ 0.5</text>\n<text text-anchor=\"start\" x=\"795.5\" y=\"-751.8\" font-family=\"Helvetica,sans-Serif\" font-size=\"14.00\">entropy = 0.971</text>\n<text text-anchor=\"start\" x=\"802\" y=\"-736.8\" font-family=\"Helvetica,sans-Serif\" font-size=\"14.00\">samples = 10</text>\n<text text-anchor=\"start\" x=\"803.5\" y=\"-721.8\" font-family=\"Helvetica,sans-Serif\" font-size=\"14.00\">value = [6, 4]</text>\n<text text-anchor=\"start\" x=\"815.5\" y=\"-706.8\" font-family=\"Helvetica,sans-Serif\" font-size=\"14.00\">class = 0</text>\n</g>\n<!-- 22&#45;&gt;23 -->\n<g id=\"edge23\" class=\"edge\">\n<title>22&#45;&gt;23</title>\n<path fill=\"none\" stroke=\"black\" d=\"M884.14,-817.91C879.45,-809.2 874.44,-799.9 869.6,-790.89\"/>\n<polygon fill=\"black\" stroke=\"black\" points=\"872.64,-789.17 864.82,-782.02 866.48,-792.48 872.64,-789.17\"/>\n</g>\n<!-- 28 -->\n<g id=\"node29\" class=\"node\">\n<title>28</title>\n<path fill=\"#e58139\" stroke=\"black\" d=\"M1007,-774.5C1007,-774.5 929,-774.5 929,-774.5 923,-774.5 917,-768.5 917,-762.5 917,-762.5 917,-718.5 917,-718.5 917,-712.5 923,-706.5 929,-706.5 929,-706.5 1007,-706.5 1007,-706.5 1013,-706.5 1019,-712.5 1019,-718.5 1019,-718.5 1019,-762.5 1019,-762.5 1019,-768.5 1013,-774.5 1007,-774.5\"/>\n<text text-anchor=\"start\" x=\"928\" y=\"-759.3\" font-family=\"Helvetica,sans-Serif\" font-size=\"14.00\">entropy = 0.0</text>\n<text text-anchor=\"start\" x=\"927\" y=\"-744.3\" font-family=\"Helvetica,sans-Serif\" font-size=\"14.00\">samples = 10</text>\n<text text-anchor=\"start\" x=\"925\" y=\"-729.3\" font-family=\"Helvetica,sans-Serif\" font-size=\"14.00\">value = [10, 0]</text>\n<text text-anchor=\"start\" x=\"940.5\" y=\"-714.3\" font-family=\"Helvetica,sans-Serif\" font-size=\"14.00\">class = 0</text>\n</g>\n<!-- 22&#45;&gt;28 -->\n<g id=\"edge28\" class=\"edge\">\n<title>22&#45;&gt;28</title>\n<path fill=\"none\" stroke=\"black\" d=\"M927.51,-817.91C933.36,-806.87 939.7,-794.9 945.6,-783.77\"/>\n<polygon fill=\"black\" stroke=\"black\" points=\"948.83,-785.14 950.42,-774.67 942.65,-781.86 948.83,-785.14\"/>\n</g>\n<!-- 24 -->\n<g id=\"node25\" class=\"node\">\n<title>24</title>\n<path fill=\"#399de5\" stroke=\"black\" d=\"M806,-655.5C806,-655.5 734,-655.5 734,-655.5 728,-655.5 722,-649.5 722,-643.5 722,-643.5 722,-599.5 722,-599.5 722,-593.5 728,-587.5 734,-587.5 734,-587.5 806,-587.5 806,-587.5 812,-587.5 818,-593.5 818,-599.5 818,-599.5 818,-643.5 818,-643.5 818,-649.5 812,-655.5 806,-655.5\"/>\n<text text-anchor=\"start\" x=\"730\" y=\"-640.3\" font-family=\"Helvetica,sans-Serif\" font-size=\"14.00\">entropy = 0.0</text>\n<text text-anchor=\"start\" x=\"732.5\" y=\"-625.3\" font-family=\"Helvetica,sans-Serif\" font-size=\"14.00\">samples = 3</text>\n<text text-anchor=\"start\" x=\"730.5\" y=\"-610.3\" font-family=\"Helvetica,sans-Serif\" font-size=\"14.00\">value = [0, 3]</text>\n<text text-anchor=\"start\" x=\"742.5\" y=\"-595.3\" font-family=\"Helvetica,sans-Serif\" font-size=\"14.00\">class = 1</text>\n</g>\n<!-- 23&#45;&gt;24 -->\n<g id=\"edge24\" class=\"edge\">\n<title>23&#45;&gt;24</title>\n<path fill=\"none\" stroke=\"black\" d=\"M817.67,-698.91C810.72,-687.76 803.17,-675.66 796.17,-664.44\"/>\n<polygon fill=\"black\" stroke=\"black\" points=\"798.96,-662.3 790.69,-655.67 793.02,-666 798.96,-662.3\"/>\n</g>\n<!-- 25 -->\n<g id=\"node26\" class=\"node\">\n<title>25</title>\n<path fill=\"#e9965a\" stroke=\"black\" d=\"M935.5,-663C935.5,-663 848.5,-663 848.5,-663 842.5,-663 836.5,-657 836.5,-651 836.5,-651 836.5,-592 836.5,-592 836.5,-586 842.5,-580 848.5,-580 848.5,-580 935.5,-580 935.5,-580 941.5,-580 947.5,-586 947.5,-592 947.5,-592 947.5,-651 947.5,-651 947.5,-657 941.5,-663 935.5,-663\"/>\n<text text-anchor=\"start\" x=\"866\" y=\"-647.8\" font-family=\"Helvetica,sans-Serif\" font-size=\"14.00\">fbs ≤ 0.5</text>\n<text text-anchor=\"start\" x=\"844.5\" y=\"-632.8\" font-family=\"Helvetica,sans-Serif\" font-size=\"14.00\">entropy = 0.592</text>\n<text text-anchor=\"start\" x=\"854.5\" y=\"-617.8\" font-family=\"Helvetica,sans-Serif\" font-size=\"14.00\">samples = 7</text>\n<text text-anchor=\"start\" x=\"852.5\" y=\"-602.8\" font-family=\"Helvetica,sans-Serif\" font-size=\"14.00\">value = [6, 1]</text>\n<text text-anchor=\"start\" x=\"864.5\" y=\"-587.8\" font-family=\"Helvetica,sans-Serif\" font-size=\"14.00\">class = 0</text>\n</g>\n<!-- 23&#45;&gt;25 -->\n<g id=\"edge25\" class=\"edge\">\n<title>23&#45;&gt;25</title>\n<path fill=\"none\" stroke=\"black\" d=\"M860,-698.91C863.57,-690.38 867.38,-681.28 871.08,-672.46\"/>\n<polygon fill=\"black\" stroke=\"black\" points=\"874.4,-673.6 875.03,-663.02 867.94,-670.89 874.4,-673.6\"/>\n</g>\n<!-- 26 -->\n<g id=\"node27\" class=\"node\">\n<title>26</title>\n<path fill=\"#e58139\" stroke=\"black\" d=\"M915,-536.5C915,-536.5 843,-536.5 843,-536.5 837,-536.5 831,-530.5 831,-524.5 831,-524.5 831,-480.5 831,-480.5 831,-474.5 837,-468.5 843,-468.5 843,-468.5 915,-468.5 915,-468.5 921,-468.5 927,-474.5 927,-480.5 927,-480.5 927,-524.5 927,-524.5 927,-530.5 921,-536.5 915,-536.5\"/>\n<text text-anchor=\"start\" x=\"839\" y=\"-521.3\" font-family=\"Helvetica,sans-Serif\" font-size=\"14.00\">entropy = 0.0</text>\n<text text-anchor=\"start\" x=\"841.5\" y=\"-506.3\" font-family=\"Helvetica,sans-Serif\" font-size=\"14.00\">samples = 6</text>\n<text text-anchor=\"start\" x=\"839.5\" y=\"-491.3\" font-family=\"Helvetica,sans-Serif\" font-size=\"14.00\">value = [6, 0]</text>\n<text text-anchor=\"start\" x=\"851.5\" y=\"-476.3\" font-family=\"Helvetica,sans-Serif\" font-size=\"14.00\">class = 0</text>\n</g>\n<!-- 25&#45;&gt;26 -->\n<g id=\"edge26\" class=\"edge\">\n<title>25&#45;&gt;26</title>\n<path fill=\"none\" stroke=\"black\" d=\"M887.49,-579.91C886.3,-569.2 885.01,-557.62 883.81,-546.78\"/>\n<polygon fill=\"black\" stroke=\"black\" points=\"887.27,-546.22 882.69,-536.67 880.31,-546.99 887.27,-546.22\"/>\n</g>\n<!-- 27 -->\n<g id=\"node28\" class=\"node\">\n<title>27</title>\n<path fill=\"#399de5\" stroke=\"black\" d=\"M1029,-536.5C1029,-536.5 957,-536.5 957,-536.5 951,-536.5 945,-530.5 945,-524.5 945,-524.5 945,-480.5 945,-480.5 945,-474.5 951,-468.5 957,-468.5 957,-468.5 1029,-468.5 1029,-468.5 1035,-468.5 1041,-474.5 1041,-480.5 1041,-480.5 1041,-524.5 1041,-524.5 1041,-530.5 1035,-536.5 1029,-536.5\"/>\n<text text-anchor=\"start\" x=\"953\" y=\"-521.3\" font-family=\"Helvetica,sans-Serif\" font-size=\"14.00\">entropy = 0.0</text>\n<text text-anchor=\"start\" x=\"955.5\" y=\"-506.3\" font-family=\"Helvetica,sans-Serif\" font-size=\"14.00\">samples = 1</text>\n<text text-anchor=\"start\" x=\"953.5\" y=\"-491.3\" font-family=\"Helvetica,sans-Serif\" font-size=\"14.00\">value = [0, 1]</text>\n<text text-anchor=\"start\" x=\"965.5\" y=\"-476.3\" font-family=\"Helvetica,sans-Serif\" font-size=\"14.00\">class = 1</text>\n</g>\n<!-- 25&#45;&gt;27 -->\n<g id=\"edge27\" class=\"edge\">\n<title>25&#45;&gt;27</title>\n<path fill=\"none\" stroke=\"black\" d=\"M927.04,-579.91C936.95,-568.43 947.73,-555.94 957.66,-544.44\"/>\n<polygon fill=\"black\" stroke=\"black\" points=\"960.48,-546.52 964.37,-536.67 955.18,-541.95 960.48,-546.52\"/>\n</g>\n<!-- 31 -->\n<g id=\"node32\" class=\"node\">\n<title>31</title>\n<path fill=\"#59ade9\" stroke=\"black\" d=\"M1418,-1020C1418,-1020 1332,-1020 1332,-1020 1326,-1020 1320,-1014 1320,-1008 1320,-1008 1320,-949 1320,-949 1320,-943 1326,-937 1332,-937 1332,-937 1418,-937 1418,-937 1424,-937 1430,-943 1430,-949 1430,-949 1430,-1008 1430,-1008 1430,-1014 1424,-1020 1418,-1020\"/>\n<text text-anchor=\"start\" x=\"1328.5\" y=\"-1004.8\" font-family=\"Helvetica,sans-Serif\" font-size=\"14.00\">thalach ≤ 152.5</text>\n<text text-anchor=\"start\" x=\"1331\" y=\"-989.8\" font-family=\"Helvetica,sans-Serif\" font-size=\"14.00\">entropy = 0.58</text>\n<text text-anchor=\"start\" x=\"1334\" y=\"-974.8\" font-family=\"Helvetica,sans-Serif\" font-size=\"14.00\">samples = 94</text>\n<text text-anchor=\"start\" x=\"1328\" y=\"-959.8\" font-family=\"Helvetica,sans-Serif\" font-size=\"14.00\">value = [13, 81]</text>\n<text text-anchor=\"start\" x=\"1347.5\" y=\"-944.8\" font-family=\"Helvetica,sans-Serif\" font-size=\"14.00\">class = 1</text>\n</g>\n<!-- 30&#45;&gt;31 -->\n<g id=\"edge31\" class=\"edge\">\n<title>30&#45;&gt;31</title>\n<path fill=\"none\" stroke=\"black\" d=\"M1375,-1055.91C1375,-1047.65 1375,-1038.86 1375,-1030.3\"/>\n<polygon fill=\"black\" stroke=\"black\" points=\"1378.5,-1030.02 1375,-1020.02 1371.5,-1030.02 1378.5,-1030.02\"/>\n</g>\n<!-- 62 -->\n<g id=\"node63\" class=\"node\">\n<title>62</title>\n<path fill=\"#f8ddc9\" stroke=\"black\" d=\"M1775.5,-1020C1775.5,-1020 1688.5,-1020 1688.5,-1020 1682.5,-1020 1676.5,-1014 1676.5,-1008 1676.5,-1008 1676.5,-949 1676.5,-949 1676.5,-943 1682.5,-937 1688.5,-937 1688.5,-937 1775.5,-937 1775.5,-937 1781.5,-937 1787.5,-943 1787.5,-949 1787.5,-949 1787.5,-1008 1787.5,-1008 1787.5,-1014 1781.5,-1020 1775.5,-1020\"/>\n<text text-anchor=\"start\" x=\"1698.5\" y=\"-1004.8\" font-family=\"Helvetica,sans-Serif\" font-size=\"14.00\">slope ≤ 0.5</text>\n<text text-anchor=\"start\" x=\"1684.5\" y=\"-989.8\" font-family=\"Helvetica,sans-Serif\" font-size=\"14.00\">entropy = 0.982</text>\n<text text-anchor=\"start\" x=\"1691\" y=\"-974.8\" font-family=\"Helvetica,sans-Serif\" font-size=\"14.00\">samples = 19</text>\n<text text-anchor=\"start\" x=\"1689\" y=\"-959.8\" font-family=\"Helvetica,sans-Serif\" font-size=\"14.00\">value = [11, 8]</text>\n<text text-anchor=\"start\" x=\"1704.5\" y=\"-944.8\" font-family=\"Helvetica,sans-Serif\" font-size=\"14.00\">class = 0</text>\n</g>\n<!-- 30&#45;&gt;62 -->\n<g id=\"edge62\" class=\"edge\">\n<title>30&#45;&gt;62</title>\n<path fill=\"none\" stroke=\"black\" d=\"M1430.78,-1078.22C1494.61,-1057.3 1599.02,-1023.08 1666.62,-1000.93\"/>\n<polygon fill=\"black\" stroke=\"black\" points=\"1667.9,-1004.19 1676.32,-997.75 1665.72,-997.54 1667.9,-1004.19\"/>\n</g>\n<!-- 32 -->\n<g id=\"node33\" class=\"node\">\n<title>32</title>\n<path fill=\"#92c9f1\" stroke=\"black\" d=\"M1328.5,-901C1328.5,-901 1241.5,-901 1241.5,-901 1235.5,-901 1229.5,-895 1229.5,-889 1229.5,-889 1229.5,-830 1229.5,-830 1229.5,-824 1235.5,-818 1241.5,-818 1241.5,-818 1328.5,-818 1328.5,-818 1334.5,-818 1340.5,-824 1340.5,-830 1340.5,-830 1340.5,-889 1340.5,-889 1340.5,-895 1334.5,-901 1328.5,-901\"/>\n<text text-anchor=\"start\" x=\"1257.5\" y=\"-885.8\" font-family=\"Helvetica,sans-Serif\" font-size=\"14.00\">sex ≤ 0.5</text>\n<text text-anchor=\"start\" x=\"1237.5\" y=\"-870.8\" font-family=\"Helvetica,sans-Serif\" font-size=\"14.00\">entropy = 0.894</text>\n<text text-anchor=\"start\" x=\"1244\" y=\"-855.8\" font-family=\"Helvetica,sans-Serif\" font-size=\"14.00\">samples = 29</text>\n<text text-anchor=\"start\" x=\"1242\" y=\"-840.8\" font-family=\"Helvetica,sans-Serif\" font-size=\"14.00\">value = [9, 20]</text>\n<text text-anchor=\"start\" x=\"1257.5\" y=\"-825.8\" font-family=\"Helvetica,sans-Serif\" font-size=\"14.00\">class = 1</text>\n</g>\n<!-- 31&#45;&gt;32 -->\n<g id=\"edge32\" class=\"edge\">\n<title>31&#45;&gt;32</title>\n<path fill=\"none\" stroke=\"black\" d=\"M1343.77,-936.91C1336.86,-927.92 1329.47,-918.32 1322.35,-909.05\"/>\n<polygon fill=\"black\" stroke=\"black\" points=\"1325.04,-906.81 1316.17,-901.02 1319.49,-911.08 1325.04,-906.81\"/>\n</g>\n<!-- 49 -->\n<g id=\"node50\" class=\"node\">\n<title>49</title>\n<path fill=\"#46a3e7\" stroke=\"black\" d=\"M1507.5,-901C1507.5,-901 1420.5,-901 1420.5,-901 1414.5,-901 1408.5,-895 1408.5,-889 1408.5,-889 1408.5,-830 1408.5,-830 1408.5,-824 1414.5,-818 1420.5,-818 1420.5,-818 1507.5,-818 1507.5,-818 1513.5,-818 1519.5,-824 1519.5,-830 1519.5,-830 1519.5,-889 1519.5,-889 1519.5,-895 1513.5,-901 1507.5,-901\"/>\n<text text-anchor=\"start\" x=\"1432\" y=\"-885.8\" font-family=\"Helvetica,sans-Serif\" font-size=\"14.00\">age ≤ 56.5</text>\n<text text-anchor=\"start\" x=\"1416.5\" y=\"-870.8\" font-family=\"Helvetica,sans-Serif\" font-size=\"14.00\">entropy = 0.334</text>\n<text text-anchor=\"start\" x=\"1423\" y=\"-855.8\" font-family=\"Helvetica,sans-Serif\" font-size=\"14.00\">samples = 65</text>\n<text text-anchor=\"start\" x=\"1421\" y=\"-840.8\" font-family=\"Helvetica,sans-Serif\" font-size=\"14.00\">value = [4, 61]</text>\n<text text-anchor=\"start\" x=\"1436.5\" y=\"-825.8\" font-family=\"Helvetica,sans-Serif\" font-size=\"14.00\">class = 1</text>\n</g>\n<!-- 31&#45;&gt;49 -->\n<g id=\"edge49\" class=\"edge\">\n<title>31&#45;&gt;49</title>\n<path fill=\"none\" stroke=\"black\" d=\"M1405.88,-936.91C1412.71,-927.92 1420.02,-918.32 1427.07,-909.05\"/>\n<polygon fill=\"black\" stroke=\"black\" points=\"1429.91,-911.1 1433.18,-901.02 1424.34,-906.86 1429.91,-911.1\"/>\n</g>\n<!-- 33 -->\n<g id=\"node34\" class=\"node\">\n<title>33</title>\n<path fill=\"#4da7e8\" stroke=\"black\" d=\"M1174.5,-782C1174.5,-782 1087.5,-782 1087.5,-782 1081.5,-782 1075.5,-776 1075.5,-770 1075.5,-770 1075.5,-711 1075.5,-711 1075.5,-705 1081.5,-699 1087.5,-699 1087.5,-699 1174.5,-699 1174.5,-699 1180.5,-699 1186.5,-705 1186.5,-711 1186.5,-711 1186.5,-770 1186.5,-770 1186.5,-776 1180.5,-782 1174.5,-782\"/>\n<text text-anchor=\"start\" x=\"1084.5\" y=\"-766.8\" font-family=\"Helvetica,sans-Serif\" font-size=\"14.00\">thalach ≤ 106.0</text>\n<text text-anchor=\"start\" x=\"1083.5\" y=\"-751.8\" font-family=\"Helvetica,sans-Serif\" font-size=\"14.00\">entropy = 0.439</text>\n<text text-anchor=\"start\" x=\"1090\" y=\"-736.8\" font-family=\"Helvetica,sans-Serif\" font-size=\"14.00\">samples = 11</text>\n<text text-anchor=\"start\" x=\"1088\" y=\"-721.8\" font-family=\"Helvetica,sans-Serif\" font-size=\"14.00\">value = [1, 10]</text>\n<text text-anchor=\"start\" x=\"1103.5\" y=\"-706.8\" font-family=\"Helvetica,sans-Serif\" font-size=\"14.00\">class = 1</text>\n</g>\n<!-- 32&#45;&gt;33 -->\n<g id=\"edge33\" class=\"edge\">\n<title>32&#45;&gt;33</title>\n<path fill=\"none\" stroke=\"black\" d=\"M1231.57,-817.91C1218.91,-808.29 1205.31,-797.95 1192.32,-788.09\"/>\n<polygon fill=\"black\" stroke=\"black\" points=\"1194.42,-785.28 1184.34,-782.02 1190.18,-790.86 1194.42,-785.28\"/>\n</g>\n<!-- 36 -->\n<g id=\"node37\" class=\"node\">\n<title>36</title>\n<path fill=\"#d7ebfa\" stroke=\"black\" d=\"M1328.5,-782C1328.5,-782 1241.5,-782 1241.5,-782 1235.5,-782 1229.5,-776 1229.5,-770 1229.5,-770 1229.5,-711 1229.5,-711 1229.5,-705 1235.5,-699 1241.5,-699 1241.5,-699 1328.5,-699 1328.5,-699 1334.5,-699 1340.5,-705 1340.5,-711 1340.5,-711 1340.5,-770 1340.5,-770 1340.5,-776 1334.5,-782 1328.5,-782\"/>\n<text text-anchor=\"start\" x=\"1238.5\" y=\"-766.8\" font-family=\"Helvetica,sans-Serif\" font-size=\"14.00\">thalach ≤ 128.5</text>\n<text text-anchor=\"start\" x=\"1237.5\" y=\"-751.8\" font-family=\"Helvetica,sans-Serif\" font-size=\"14.00\">entropy = 0.991</text>\n<text text-anchor=\"start\" x=\"1244\" y=\"-736.8\" font-family=\"Helvetica,sans-Serif\" font-size=\"14.00\">samples = 18</text>\n<text text-anchor=\"start\" x=\"1242\" y=\"-721.8\" font-family=\"Helvetica,sans-Serif\" font-size=\"14.00\">value = [8, 10]</text>\n<text text-anchor=\"start\" x=\"1257.5\" y=\"-706.8\" font-family=\"Helvetica,sans-Serif\" font-size=\"14.00\">class = 1</text>\n</g>\n<!-- 32&#45;&gt;36 -->\n<g id=\"edge36\" class=\"edge\">\n<title>32&#45;&gt;36</title>\n<path fill=\"none\" stroke=\"black\" d=\"M1285,-817.91C1285,-809.65 1285,-800.86 1285,-792.3\"/>\n<polygon fill=\"black\" stroke=\"black\" points=\"1288.5,-792.02 1285,-782.02 1281.5,-792.02 1288.5,-792.02\"/>\n</g>\n<!-- 34 -->\n<g id=\"node35\" class=\"node\">\n<title>34</title>\n<path fill=\"#e58139\" stroke=\"black\" d=\"M1050,-655.5C1050,-655.5 978,-655.5 978,-655.5 972,-655.5 966,-649.5 966,-643.5 966,-643.5 966,-599.5 966,-599.5 966,-593.5 972,-587.5 978,-587.5 978,-587.5 1050,-587.5 1050,-587.5 1056,-587.5 1062,-593.5 1062,-599.5 1062,-599.5 1062,-643.5 1062,-643.5 1062,-649.5 1056,-655.5 1050,-655.5\"/>\n<text text-anchor=\"start\" x=\"974\" y=\"-640.3\" font-family=\"Helvetica,sans-Serif\" font-size=\"14.00\">entropy = 0.0</text>\n<text text-anchor=\"start\" x=\"976.5\" y=\"-625.3\" font-family=\"Helvetica,sans-Serif\" font-size=\"14.00\">samples = 1</text>\n<text text-anchor=\"start\" x=\"974.5\" y=\"-610.3\" font-family=\"Helvetica,sans-Serif\" font-size=\"14.00\">value = [1, 0]</text>\n<text text-anchor=\"start\" x=\"986.5\" y=\"-595.3\" font-family=\"Helvetica,sans-Serif\" font-size=\"14.00\">class = 0</text>\n</g>\n<!-- 33&#45;&gt;34 -->\n<g id=\"edge34\" class=\"edge\">\n<title>33&#45;&gt;34</title>\n<path fill=\"none\" stroke=\"black\" d=\"M1090.41,-698.91C1078.71,-687.21 1065.96,-674.46 1054.28,-662.78\"/>\n<polygon fill=\"black\" stroke=\"black\" points=\"1056.71,-660.26 1047.17,-655.67 1051.76,-665.21 1056.71,-660.26\"/>\n</g>\n<!-- 35 -->\n<g id=\"node36\" class=\"node\">\n<title>35</title>\n<path fill=\"#399de5\" stroke=\"black\" d=\"M1170,-655.5C1170,-655.5 1092,-655.5 1092,-655.5 1086,-655.5 1080,-649.5 1080,-643.5 1080,-643.5 1080,-599.5 1080,-599.5 1080,-593.5 1086,-587.5 1092,-587.5 1092,-587.5 1170,-587.5 1170,-587.5 1176,-587.5 1182,-593.5 1182,-599.5 1182,-599.5 1182,-643.5 1182,-643.5 1182,-649.5 1176,-655.5 1170,-655.5\"/>\n<text text-anchor=\"start\" x=\"1091\" y=\"-640.3\" font-family=\"Helvetica,sans-Serif\" font-size=\"14.00\">entropy = 0.0</text>\n<text text-anchor=\"start\" x=\"1090\" y=\"-625.3\" font-family=\"Helvetica,sans-Serif\" font-size=\"14.00\">samples = 10</text>\n<text text-anchor=\"start\" x=\"1088\" y=\"-610.3\" font-family=\"Helvetica,sans-Serif\" font-size=\"14.00\">value = [0, 10]</text>\n<text text-anchor=\"start\" x=\"1103.5\" y=\"-595.3\" font-family=\"Helvetica,sans-Serif\" font-size=\"14.00\">class = 1</text>\n</g>\n<!-- 33&#45;&gt;35 -->\n<g id=\"edge35\" class=\"edge\">\n<title>33&#45;&gt;35</title>\n<path fill=\"none\" stroke=\"black\" d=\"M1131,-698.91C1131,-688.2 1131,-676.62 1131,-665.78\"/>\n<polygon fill=\"black\" stroke=\"black\" points=\"1134.5,-665.67 1131,-655.67 1127.5,-665.67 1134.5,-665.67\"/>\n</g>\n<!-- 37 -->\n<g id=\"node38\" class=\"node\">\n<title>37</title>\n<path fill=\"#e58139\" stroke=\"black\" d=\"M1284,-655.5C1284,-655.5 1212,-655.5 1212,-655.5 1206,-655.5 1200,-649.5 1200,-643.5 1200,-643.5 1200,-599.5 1200,-599.5 1200,-593.5 1206,-587.5 1212,-587.5 1212,-587.5 1284,-587.5 1284,-587.5 1290,-587.5 1296,-593.5 1296,-599.5 1296,-599.5 1296,-643.5 1296,-643.5 1296,-649.5 1290,-655.5 1284,-655.5\"/>\n<text text-anchor=\"start\" x=\"1208\" y=\"-640.3\" font-family=\"Helvetica,sans-Serif\" font-size=\"14.00\">entropy = 0.0</text>\n<text text-anchor=\"start\" x=\"1210.5\" y=\"-625.3\" font-family=\"Helvetica,sans-Serif\" font-size=\"14.00\">samples = 3</text>\n<text text-anchor=\"start\" x=\"1208.5\" y=\"-610.3\" font-family=\"Helvetica,sans-Serif\" font-size=\"14.00\">value = [3, 0]</text>\n<text text-anchor=\"start\" x=\"1220.5\" y=\"-595.3\" font-family=\"Helvetica,sans-Serif\" font-size=\"14.00\">class = 0</text>\n</g>\n<!-- 36&#45;&gt;37 -->\n<g id=\"edge37\" class=\"edge\">\n<title>36&#45;&gt;37</title>\n<path fill=\"none\" stroke=\"black\" d=\"M1272.16,-698.91C1268.74,-688.09 1265.04,-676.38 1261.58,-665.44\"/>\n<polygon fill=\"black\" stroke=\"black\" points=\"1264.84,-664.15 1258.49,-655.67 1258.17,-666.26 1264.84,-664.15\"/>\n</g>\n<!-- 38 -->\n<g id=\"node39\" class=\"node\">\n<title>38</title>\n<path fill=\"#9ccef2\" stroke=\"black\" d=\"M1413.5,-663C1413.5,-663 1326.5,-663 1326.5,-663 1320.5,-663 1314.5,-657 1314.5,-651 1314.5,-651 1314.5,-592 1314.5,-592 1314.5,-586 1320.5,-580 1326.5,-580 1326.5,-580 1413.5,-580 1413.5,-580 1419.5,-580 1425.5,-586 1425.5,-592 1425.5,-592 1425.5,-651 1425.5,-651 1425.5,-657 1419.5,-663 1413.5,-663\"/>\n<text text-anchor=\"start\" x=\"1345.5\" y=\"-647.8\" font-family=\"Helvetica,sans-Serif\" font-size=\"14.00\">cp ≤ 1.5</text>\n<text text-anchor=\"start\" x=\"1322.5\" y=\"-632.8\" font-family=\"Helvetica,sans-Serif\" font-size=\"14.00\">entropy = 0.918</text>\n<text text-anchor=\"start\" x=\"1329\" y=\"-617.8\" font-family=\"Helvetica,sans-Serif\" font-size=\"14.00\">samples = 15</text>\n<text text-anchor=\"start\" x=\"1327\" y=\"-602.8\" font-family=\"Helvetica,sans-Serif\" font-size=\"14.00\">value = [5, 10]</text>\n<text text-anchor=\"start\" x=\"1342.5\" y=\"-587.8\" font-family=\"Helvetica,sans-Serif\" font-size=\"14.00\">class = 1</text>\n</g>\n<!-- 36&#45;&gt;38 -->\n<g id=\"edge38\" class=\"edge\">\n<title>36&#45;&gt;38</title>\n<path fill=\"none\" stroke=\"black\" d=\"M1314.49,-698.91C1320.95,-690.01 1327.86,-680.51 1334.52,-671.33\"/>\n<polygon fill=\"black\" stroke=\"black\" points=\"1337.52,-673.17 1340.56,-663.02 1331.85,-669.05 1337.52,-673.17\"/>\n</g>\n<!-- 39 -->\n<g id=\"node40\" class=\"node\">\n<title>39</title>\n<path fill=\"#399de5\" stroke=\"black\" d=\"M1277,-536.5C1277,-536.5 1205,-536.5 1205,-536.5 1199,-536.5 1193,-530.5 1193,-524.5 1193,-524.5 1193,-480.5 1193,-480.5 1193,-474.5 1199,-468.5 1205,-468.5 1205,-468.5 1277,-468.5 1277,-468.5 1283,-468.5 1289,-474.5 1289,-480.5 1289,-480.5 1289,-524.5 1289,-524.5 1289,-530.5 1283,-536.5 1277,-536.5\"/>\n<text text-anchor=\"start\" x=\"1201\" y=\"-521.3\" font-family=\"Helvetica,sans-Serif\" font-size=\"14.00\">entropy = 0.0</text>\n<text text-anchor=\"start\" x=\"1203.5\" y=\"-506.3\" font-family=\"Helvetica,sans-Serif\" font-size=\"14.00\">samples = 4</text>\n<text text-anchor=\"start\" x=\"1201.5\" y=\"-491.3\" font-family=\"Helvetica,sans-Serif\" font-size=\"14.00\">value = [0, 4]</text>\n<text text-anchor=\"start\" x=\"1213.5\" y=\"-476.3\" font-family=\"Helvetica,sans-Serif\" font-size=\"14.00\">class = 1</text>\n</g>\n<!-- 38&#45;&gt;39 -->\n<g id=\"edge39\" class=\"edge\">\n<title>38&#45;&gt;39</title>\n<path fill=\"none\" stroke=\"black\" d=\"M1325.24,-579.91C1312.23,-568.1 1298.02,-555.22 1285.05,-543.45\"/>\n<polygon fill=\"black\" stroke=\"black\" points=\"1287.33,-540.79 1277.57,-536.67 1282.62,-545.98 1287.33,-540.79\"/>\n</g>\n<!-- 40 -->\n<g id=\"node41\" class=\"node\">\n<title>40</title>\n<path fill=\"#deeffb\" stroke=\"black\" d=\"M1406.5,-544C1406.5,-544 1319.5,-544 1319.5,-544 1313.5,-544 1307.5,-538 1307.5,-532 1307.5,-532 1307.5,-473 1307.5,-473 1307.5,-467 1313.5,-461 1319.5,-461 1319.5,-461 1406.5,-461 1406.5,-461 1412.5,-461 1418.5,-467 1418.5,-473 1418.5,-473 1418.5,-532 1418.5,-532 1418.5,-538 1412.5,-544 1406.5,-544\"/>\n<text text-anchor=\"start\" x=\"1326\" y=\"-528.8\" font-family=\"Helvetica,sans-Serif\" font-size=\"14.00\">chol ≤ 204.5</text>\n<text text-anchor=\"start\" x=\"1315.5\" y=\"-513.8\" font-family=\"Helvetica,sans-Serif\" font-size=\"14.00\">entropy = 0.994</text>\n<text text-anchor=\"start\" x=\"1322\" y=\"-498.8\" font-family=\"Helvetica,sans-Serif\" font-size=\"14.00\">samples = 11</text>\n<text text-anchor=\"start\" x=\"1323.5\" y=\"-483.8\" font-family=\"Helvetica,sans-Serif\" font-size=\"14.00\">value = [5, 6]</text>\n<text text-anchor=\"start\" x=\"1335.5\" y=\"-468.8\" font-family=\"Helvetica,sans-Serif\" font-size=\"14.00\">class = 1</text>\n</g>\n<!-- 38&#45;&gt;40 -->\n<g id=\"edge40\" class=\"edge\">\n<title>38&#45;&gt;40</title>\n<path fill=\"none\" stroke=\"black\" d=\"M1367.57,-579.91C1367.07,-571.56 1366.54,-562.67 1366.02,-554.02\"/>\n<polygon fill=\"black\" stroke=\"black\" points=\"1369.52,-553.79 1365.42,-544.02 1362.53,-554.21 1369.52,-553.79\"/>\n</g>\n<!-- 41 -->\n<g id=\"node42\" class=\"node\">\n<title>41</title>\n<path fill=\"#399de5\" stroke=\"black\" d=\"M1281,-417.5C1281,-417.5 1209,-417.5 1209,-417.5 1203,-417.5 1197,-411.5 1197,-405.5 1197,-405.5 1197,-361.5 1197,-361.5 1197,-355.5 1203,-349.5 1209,-349.5 1209,-349.5 1281,-349.5 1281,-349.5 1287,-349.5 1293,-355.5 1293,-361.5 1293,-361.5 1293,-405.5 1293,-405.5 1293,-411.5 1287,-417.5 1281,-417.5\"/>\n<text text-anchor=\"start\" x=\"1205\" y=\"-402.3\" font-family=\"Helvetica,sans-Serif\" font-size=\"14.00\">entropy = 0.0</text>\n<text text-anchor=\"start\" x=\"1207.5\" y=\"-387.3\" font-family=\"Helvetica,sans-Serif\" font-size=\"14.00\">samples = 2</text>\n<text text-anchor=\"start\" x=\"1205.5\" y=\"-372.3\" font-family=\"Helvetica,sans-Serif\" font-size=\"14.00\">value = [0, 2]</text>\n<text text-anchor=\"start\" x=\"1217.5\" y=\"-357.3\" font-family=\"Helvetica,sans-Serif\" font-size=\"14.00\">class = 1</text>\n</g>\n<!-- 40&#45;&gt;41 -->\n<g id=\"edge41\" class=\"edge\">\n<title>40&#45;&gt;41</title>\n<path fill=\"none\" stroke=\"black\" d=\"M1322.06,-460.91C1310.26,-449.21 1297.4,-436.46 1285.62,-424.78\"/>\n<polygon fill=\"black\" stroke=\"black\" points=\"1288.02,-422.22 1278.45,-417.67 1283.09,-427.19 1288.02,-422.22\"/>\n</g>\n<!-- 42 -->\n<g id=\"node43\" class=\"node\">\n<title>42</title>\n<path fill=\"#fae6d7\" stroke=\"black\" d=\"M1410.5,-425C1410.5,-425 1323.5,-425 1323.5,-425 1317.5,-425 1311.5,-419 1311.5,-413 1311.5,-413 1311.5,-354 1311.5,-354 1311.5,-348 1317.5,-342 1323.5,-342 1323.5,-342 1410.5,-342 1410.5,-342 1416.5,-342 1422.5,-348 1422.5,-354 1422.5,-354 1422.5,-413 1422.5,-413 1422.5,-419 1416.5,-425 1410.5,-425\"/>\n<text text-anchor=\"start\" x=\"1335\" y=\"-409.8\" font-family=\"Helvetica,sans-Serif\" font-size=\"14.00\">age ≤ 49.0</text>\n<text text-anchor=\"start\" x=\"1319.5\" y=\"-394.8\" font-family=\"Helvetica,sans-Serif\" font-size=\"14.00\">entropy = 0.991</text>\n<text text-anchor=\"start\" x=\"1329.5\" y=\"-379.8\" font-family=\"Helvetica,sans-Serif\" font-size=\"14.00\">samples = 9</text>\n<text text-anchor=\"start\" x=\"1327.5\" y=\"-364.8\" font-family=\"Helvetica,sans-Serif\" font-size=\"14.00\">value = [5, 4]</text>\n<text text-anchor=\"start\" x=\"1339.5\" y=\"-349.8\" font-family=\"Helvetica,sans-Serif\" font-size=\"14.00\">class = 0</text>\n</g>\n<!-- 40&#45;&gt;42 -->\n<g id=\"edge42\" class=\"edge\">\n<title>40&#45;&gt;42</title>\n<path fill=\"none\" stroke=\"black\" d=\"M1364.39,-460.91C1364.67,-452.56 1364.98,-443.67 1365.27,-435.02\"/>\n<polygon fill=\"black\" stroke=\"black\" points=\"1368.77,-435.13 1365.61,-425.02 1361.77,-434.9 1368.77,-435.13\"/>\n</g>\n<!-- 43 -->\n<g id=\"node44\" class=\"node\">\n<title>43</title>\n<path fill=\"#e58139\" stroke=\"black\" d=\"M1342,-298.5C1342,-298.5 1270,-298.5 1270,-298.5 1264,-298.5 1258,-292.5 1258,-286.5 1258,-286.5 1258,-242.5 1258,-242.5 1258,-236.5 1264,-230.5 1270,-230.5 1270,-230.5 1342,-230.5 1342,-230.5 1348,-230.5 1354,-236.5 1354,-242.5 1354,-242.5 1354,-286.5 1354,-286.5 1354,-292.5 1348,-298.5 1342,-298.5\"/>\n<text text-anchor=\"start\" x=\"1266\" y=\"-283.3\" font-family=\"Helvetica,sans-Serif\" font-size=\"14.00\">entropy = 0.0</text>\n<text text-anchor=\"start\" x=\"1268.5\" y=\"-268.3\" font-family=\"Helvetica,sans-Serif\" font-size=\"14.00\">samples = 2</text>\n<text text-anchor=\"start\" x=\"1266.5\" y=\"-253.3\" font-family=\"Helvetica,sans-Serif\" font-size=\"14.00\">value = [2, 0]</text>\n<text text-anchor=\"start\" x=\"1278.5\" y=\"-238.3\" font-family=\"Helvetica,sans-Serif\" font-size=\"14.00\">class = 0</text>\n</g>\n<!-- 42&#45;&gt;43 -->\n<g id=\"edge43\" class=\"edge\">\n<title>42&#45;&gt;43</title>\n<path fill=\"none\" stroke=\"black\" d=\"M1345.84,-341.91C1340.08,-330.87 1333.84,-318.9 1328.04,-307.77\"/>\n<polygon fill=\"black\" stroke=\"black\" points=\"1331.02,-305.92 1323.29,-298.67 1324.81,-309.15 1331.02,-305.92\"/>\n</g>\n<!-- 44 -->\n<g id=\"node45\" class=\"node\">\n<title>44</title>\n<path fill=\"#cee6f8\" stroke=\"black\" d=\"M1473.5,-306C1473.5,-306 1384.5,-306 1384.5,-306 1378.5,-306 1372.5,-300 1372.5,-294 1372.5,-294 1372.5,-235 1372.5,-235 1372.5,-229 1378.5,-223 1384.5,-223 1384.5,-223 1473.5,-223 1473.5,-223 1479.5,-223 1485.5,-229 1485.5,-235 1485.5,-235 1485.5,-294 1485.5,-294 1485.5,-300 1479.5,-306 1473.5,-306\"/>\n<text text-anchor=\"start\" x=\"1380.5\" y=\"-290.8\" font-family=\"Helvetica,sans-Serif\" font-size=\"14.00\">trestbps ≤ 125.0</text>\n<text text-anchor=\"start\" x=\"1381.5\" y=\"-275.8\" font-family=\"Helvetica,sans-Serif\" font-size=\"14.00\">entropy = 0.985</text>\n<text text-anchor=\"start\" x=\"1391.5\" y=\"-260.8\" font-family=\"Helvetica,sans-Serif\" font-size=\"14.00\">samples = 7</text>\n<text text-anchor=\"start\" x=\"1389.5\" y=\"-245.8\" font-family=\"Helvetica,sans-Serif\" font-size=\"14.00\">value = [3, 4]</text>\n<text text-anchor=\"start\" x=\"1401.5\" y=\"-230.8\" font-family=\"Helvetica,sans-Serif\" font-size=\"14.00\">class = 1</text>\n</g>\n<!-- 42&#45;&gt;44 -->\n<g id=\"edge44\" class=\"edge\">\n<title>42&#45;&gt;44</title>\n<path fill=\"none\" stroke=\"black\" d=\"M1388.51,-341.91C1393.13,-333.2 1398.05,-323.9 1402.83,-314.89\"/>\n<polygon fill=\"black\" stroke=\"black\" points=\"1405.94,-316.5 1407.53,-306.02 1399.75,-313.22 1405.94,-316.5\"/>\n</g>\n<!-- 45 -->\n<g id=\"node46\" class=\"node\">\n<title>45</title>\n<path fill=\"#399de5\" stroke=\"black\" d=\"M1404,-179.5C1404,-179.5 1332,-179.5 1332,-179.5 1326,-179.5 1320,-173.5 1320,-167.5 1320,-167.5 1320,-123.5 1320,-123.5 1320,-117.5 1326,-111.5 1332,-111.5 1332,-111.5 1404,-111.5 1404,-111.5 1410,-111.5 1416,-117.5 1416,-123.5 1416,-123.5 1416,-167.5 1416,-167.5 1416,-173.5 1410,-179.5 1404,-179.5\"/>\n<text text-anchor=\"start\" x=\"1328\" y=\"-164.3\" font-family=\"Helvetica,sans-Serif\" font-size=\"14.00\">entropy = 0.0</text>\n<text text-anchor=\"start\" x=\"1330.5\" y=\"-149.3\" font-family=\"Helvetica,sans-Serif\" font-size=\"14.00\">samples = 3</text>\n<text text-anchor=\"start\" x=\"1328.5\" y=\"-134.3\" font-family=\"Helvetica,sans-Serif\" font-size=\"14.00\">value = [0, 3]</text>\n<text text-anchor=\"start\" x=\"1340.5\" y=\"-119.3\" font-family=\"Helvetica,sans-Serif\" font-size=\"14.00\">class = 1</text>\n</g>\n<!-- 44&#45;&gt;45 -->\n<g id=\"edge45\" class=\"edge\">\n<title>44&#45;&gt;45</title>\n<path fill=\"none\" stroke=\"black\" d=\"M1407.84,-222.91C1402.08,-211.87 1395.84,-199.9 1390.04,-188.77\"/>\n<polygon fill=\"black\" stroke=\"black\" points=\"1393.02,-186.92 1385.29,-179.67 1386.81,-190.15 1393.02,-186.92\"/>\n</g>\n<!-- 46 -->\n<g id=\"node47\" class=\"node\">\n<title>46</title>\n<path fill=\"#eeab7b\" stroke=\"black\" d=\"M1533.5,-187C1533.5,-187 1446.5,-187 1446.5,-187 1440.5,-187 1434.5,-181 1434.5,-175 1434.5,-175 1434.5,-116 1434.5,-116 1434.5,-110 1440.5,-104 1446.5,-104 1446.5,-104 1533.5,-104 1533.5,-104 1539.5,-104 1545.5,-110 1545.5,-116 1545.5,-116 1545.5,-175 1545.5,-175 1545.5,-181 1539.5,-187 1533.5,-187\"/>\n<text text-anchor=\"start\" x=\"1458\" y=\"-171.8\" font-family=\"Helvetica,sans-Serif\" font-size=\"14.00\">age ≤ 68.5</text>\n<text text-anchor=\"start\" x=\"1442.5\" y=\"-156.8\" font-family=\"Helvetica,sans-Serif\" font-size=\"14.00\">entropy = 0.811</text>\n<text text-anchor=\"start\" x=\"1452.5\" y=\"-141.8\" font-family=\"Helvetica,sans-Serif\" font-size=\"14.00\">samples = 4</text>\n<text text-anchor=\"start\" x=\"1450.5\" y=\"-126.8\" font-family=\"Helvetica,sans-Serif\" font-size=\"14.00\">value = [3, 1]</text>\n<text text-anchor=\"start\" x=\"1462.5\" y=\"-111.8\" font-family=\"Helvetica,sans-Serif\" font-size=\"14.00\">class = 0</text>\n</g>\n<!-- 44&#45;&gt;46 -->\n<g id=\"edge46\" class=\"edge\">\n<title>44&#45;&gt;46</title>\n<path fill=\"none\" stroke=\"black\" d=\"M1450.16,-222.91C1454.71,-214.2 1459.55,-204.9 1464.25,-195.89\"/>\n<polygon fill=\"black\" stroke=\"black\" points=\"1467.35,-197.51 1468.87,-187.02 1461.15,-194.27 1467.35,-197.51\"/>\n</g>\n<!-- 47 -->\n<g id=\"node48\" class=\"node\">\n<title>47</title>\n<path fill=\"#e58139\" stroke=\"black\" d=\"M1469,-68C1469,-68 1397,-68 1397,-68 1391,-68 1385,-62 1385,-56 1385,-56 1385,-12 1385,-12 1385,-6 1391,0 1397,0 1397,0 1469,0 1469,0 1475,0 1481,-6 1481,-12 1481,-12 1481,-56 1481,-56 1481,-62 1475,-68 1469,-68\"/>\n<text text-anchor=\"start\" x=\"1393\" y=\"-52.8\" font-family=\"Helvetica,sans-Serif\" font-size=\"14.00\">entropy = 0.0</text>\n<text text-anchor=\"start\" x=\"1395.5\" y=\"-37.8\" font-family=\"Helvetica,sans-Serif\" font-size=\"14.00\">samples = 3</text>\n<text text-anchor=\"start\" x=\"1393.5\" y=\"-22.8\" font-family=\"Helvetica,sans-Serif\" font-size=\"14.00\">value = [3, 0]</text>\n<text text-anchor=\"start\" x=\"1405.5\" y=\"-7.8\" font-family=\"Helvetica,sans-Serif\" font-size=\"14.00\">class = 0</text>\n</g>\n<!-- 46&#45;&gt;47 -->\n<g id=\"edge47\" class=\"edge\">\n<title>46&#45;&gt;47</title>\n<path fill=\"none\" stroke=\"black\" d=\"M1468.78,-103.73C1464.26,-95.06 1459.49,-85.9 1454.96,-77.18\"/>\n<polygon fill=\"black\" stroke=\"black\" points=\"1458.06,-75.55 1450.33,-68.3 1451.85,-78.79 1458.06,-75.55\"/>\n</g>\n<!-- 48 -->\n<g id=\"node49\" class=\"node\">\n<title>48</title>\n<path fill=\"#399de5\" stroke=\"black\" d=\"M1583,-68C1583,-68 1511,-68 1511,-68 1505,-68 1499,-62 1499,-56 1499,-56 1499,-12 1499,-12 1499,-6 1505,0 1511,0 1511,0 1583,0 1583,0 1589,0 1595,-6 1595,-12 1595,-12 1595,-56 1595,-56 1595,-62 1589,-68 1583,-68\"/>\n<text text-anchor=\"start\" x=\"1507\" y=\"-52.8\" font-family=\"Helvetica,sans-Serif\" font-size=\"14.00\">entropy = 0.0</text>\n<text text-anchor=\"start\" x=\"1509.5\" y=\"-37.8\" font-family=\"Helvetica,sans-Serif\" font-size=\"14.00\">samples = 1</text>\n<text text-anchor=\"start\" x=\"1507.5\" y=\"-22.8\" font-family=\"Helvetica,sans-Serif\" font-size=\"14.00\">value = [0, 1]</text>\n<text text-anchor=\"start\" x=\"1519.5\" y=\"-7.8\" font-family=\"Helvetica,sans-Serif\" font-size=\"14.00\">class = 1</text>\n</g>\n<!-- 46&#45;&gt;48 -->\n<g id=\"edge48\" class=\"edge\">\n<title>46&#45;&gt;48</title>\n<path fill=\"none\" stroke=\"black\" d=\"M1511.22,-103.73C1515.74,-95.06 1520.51,-85.9 1525.04,-77.18\"/>\n<polygon fill=\"black\" stroke=\"black\" points=\"1528.15,-78.79 1529.67,-68.3 1521.94,-75.55 1528.15,-78.79\"/>\n</g>\n<!-- 50 -->\n<g id=\"node51\" class=\"node\">\n<title>50</title>\n<path fill=\"#399de5\" stroke=\"black\" d=\"M1503,-774.5C1503,-774.5 1425,-774.5 1425,-774.5 1419,-774.5 1413,-768.5 1413,-762.5 1413,-762.5 1413,-718.5 1413,-718.5 1413,-712.5 1419,-706.5 1425,-706.5 1425,-706.5 1503,-706.5 1503,-706.5 1509,-706.5 1515,-712.5 1515,-718.5 1515,-718.5 1515,-762.5 1515,-762.5 1515,-768.5 1509,-774.5 1503,-774.5\"/>\n<text text-anchor=\"start\" x=\"1424\" y=\"-759.3\" font-family=\"Helvetica,sans-Serif\" font-size=\"14.00\">entropy = 0.0</text>\n<text text-anchor=\"start\" x=\"1423\" y=\"-744.3\" font-family=\"Helvetica,sans-Serif\" font-size=\"14.00\">samples = 48</text>\n<text text-anchor=\"start\" x=\"1421\" y=\"-729.3\" font-family=\"Helvetica,sans-Serif\" font-size=\"14.00\">value = [0, 48]</text>\n<text text-anchor=\"start\" x=\"1436.5\" y=\"-714.3\" font-family=\"Helvetica,sans-Serif\" font-size=\"14.00\">class = 1</text>\n</g>\n<!-- 49&#45;&gt;50 -->\n<g id=\"edge50\" class=\"edge\">\n<title>49&#45;&gt;50</title>\n<path fill=\"none\" stroke=\"black\" d=\"M1464,-817.91C1464,-807.2 1464,-795.62 1464,-784.78\"/>\n<polygon fill=\"black\" stroke=\"black\" points=\"1467.5,-784.67 1464,-774.67 1460.5,-784.67 1467.5,-784.67\"/>\n</g>\n<!-- 51 -->\n<g id=\"node52\" class=\"node\">\n<title>51</title>\n<path fill=\"#76bbed\" stroke=\"black\" d=\"M1645.5,-782C1645.5,-782 1558.5,-782 1558.5,-782 1552.5,-782 1546.5,-776 1546.5,-770 1546.5,-770 1546.5,-711 1546.5,-711 1546.5,-705 1552.5,-699 1558.5,-699 1558.5,-699 1645.5,-699 1645.5,-699 1651.5,-699 1657.5,-705 1657.5,-711 1657.5,-711 1657.5,-770 1657.5,-770 1657.5,-776 1651.5,-782 1645.5,-782\"/>\n<text text-anchor=\"start\" x=\"1577.5\" y=\"-766.8\" font-family=\"Helvetica,sans-Serif\" font-size=\"14.00\">ca ≤ 0.5</text>\n<text text-anchor=\"start\" x=\"1554.5\" y=\"-751.8\" font-family=\"Helvetica,sans-Serif\" font-size=\"14.00\">entropy = 0.787</text>\n<text text-anchor=\"start\" x=\"1561\" y=\"-736.8\" font-family=\"Helvetica,sans-Serif\" font-size=\"14.00\">samples = 17</text>\n<text text-anchor=\"start\" x=\"1559\" y=\"-721.8\" font-family=\"Helvetica,sans-Serif\" font-size=\"14.00\">value = [4, 13]</text>\n<text text-anchor=\"start\" x=\"1574.5\" y=\"-706.8\" font-family=\"Helvetica,sans-Serif\" font-size=\"14.00\">class = 1</text>\n</g>\n<!-- 49&#45;&gt;51 -->\n<g id=\"edge51\" class=\"edge\">\n<title>49&#45;&gt;51</title>\n<path fill=\"none\" stroke=\"black\" d=\"M1511.88,-817.91C1523.01,-808.47 1534.95,-798.34 1546.39,-788.65\"/>\n<polygon fill=\"black\" stroke=\"black\" points=\"1548.84,-791.16 1554.21,-782.02 1544.32,-785.82 1548.84,-791.16\"/>\n</g>\n<!-- 52 -->\n<g id=\"node53\" class=\"node\">\n<title>52</title>\n<path fill=\"#4da7e8\" stroke=\"black\" d=\"M1645.5,-663C1645.5,-663 1558.5,-663 1558.5,-663 1552.5,-663 1546.5,-657 1546.5,-651 1546.5,-651 1546.5,-592 1546.5,-592 1546.5,-586 1552.5,-580 1558.5,-580 1558.5,-580 1645.5,-580 1645.5,-580 1651.5,-580 1657.5,-586 1657.5,-592 1657.5,-592 1657.5,-651 1657.5,-651 1657.5,-657 1651.5,-663 1645.5,-663\"/>\n<text text-anchor=\"start\" x=\"1565\" y=\"-647.8\" font-family=\"Helvetica,sans-Serif\" font-size=\"14.00\">chol ≤ 293.5</text>\n<text text-anchor=\"start\" x=\"1554.5\" y=\"-632.8\" font-family=\"Helvetica,sans-Serif\" font-size=\"14.00\">entropy = 0.439</text>\n<text text-anchor=\"start\" x=\"1561\" y=\"-617.8\" font-family=\"Helvetica,sans-Serif\" font-size=\"14.00\">samples = 11</text>\n<text text-anchor=\"start\" x=\"1559\" y=\"-602.8\" font-family=\"Helvetica,sans-Serif\" font-size=\"14.00\">value = [1, 10]</text>\n<text text-anchor=\"start\" x=\"1574.5\" y=\"-587.8\" font-family=\"Helvetica,sans-Serif\" font-size=\"14.00\">class = 1</text>\n</g>\n<!-- 51&#45;&gt;52 -->\n<g id=\"edge52\" class=\"edge\">\n<title>51&#45;&gt;52</title>\n<path fill=\"none\" stroke=\"black\" d=\"M1602,-698.91C1602,-690.65 1602,-681.86 1602,-673.3\"/>\n<polygon fill=\"black\" stroke=\"black\" points=\"1605.5,-673.02 1602,-663.02 1598.5,-673.02 1605.5,-673.02\"/>\n</g>\n<!-- 57 -->\n<g id=\"node58\" class=\"node\">\n<title>57</title>\n<path fill=\"#ffffff\" stroke=\"black\" d=\"M1774,-663C1774,-663 1702,-663 1702,-663 1696,-663 1690,-657 1690,-651 1690,-651 1690,-592 1690,-592 1690,-586 1696,-580 1702,-580 1702,-580 1774,-580 1774,-580 1780,-580 1786,-586 1786,-592 1786,-592 1786,-651 1786,-651 1786,-657 1780,-663 1774,-663\"/>\n<text text-anchor=\"start\" x=\"1701\" y=\"-647.8\" font-family=\"Helvetica,sans-Serif\" font-size=\"14.00\">chol ≤ 292.0</text>\n<text text-anchor=\"start\" x=\"1698\" y=\"-632.8\" font-family=\"Helvetica,sans-Serif\" font-size=\"14.00\">entropy = 1.0</text>\n<text text-anchor=\"start\" x=\"1700.5\" y=\"-617.8\" font-family=\"Helvetica,sans-Serif\" font-size=\"14.00\">samples = 6</text>\n<text text-anchor=\"start\" x=\"1698.5\" y=\"-602.8\" font-family=\"Helvetica,sans-Serif\" font-size=\"14.00\">value = [3, 3]</text>\n<text text-anchor=\"start\" x=\"1710.5\" y=\"-587.8\" font-family=\"Helvetica,sans-Serif\" font-size=\"14.00\">class = 0</text>\n</g>\n<!-- 51&#45;&gt;57 -->\n<g id=\"edge57\" class=\"edge\">\n<title>51&#45;&gt;57</title>\n<path fill=\"none\" stroke=\"black\" d=\"M1649.18,-698.91C1660.16,-689.47 1671.93,-679.34 1683.19,-669.65\"/>\n<polygon fill=\"black\" stroke=\"black\" points=\"1685.6,-672.2 1690.9,-663.02 1681.04,-666.89 1685.6,-672.2\"/>\n</g>\n<!-- 53 -->\n<g id=\"node54\" class=\"node\">\n<title>53</title>\n<path fill=\"#399de5\" stroke=\"black\" d=\"M1521,-536.5C1521,-536.5 1449,-536.5 1449,-536.5 1443,-536.5 1437,-530.5 1437,-524.5 1437,-524.5 1437,-480.5 1437,-480.5 1437,-474.5 1443,-468.5 1449,-468.5 1449,-468.5 1521,-468.5 1521,-468.5 1527,-468.5 1533,-474.5 1533,-480.5 1533,-480.5 1533,-524.5 1533,-524.5 1533,-530.5 1527,-536.5 1521,-536.5\"/>\n<text text-anchor=\"start\" x=\"1445\" y=\"-521.3\" font-family=\"Helvetica,sans-Serif\" font-size=\"14.00\">entropy = 0.0</text>\n<text text-anchor=\"start\" x=\"1447.5\" y=\"-506.3\" font-family=\"Helvetica,sans-Serif\" font-size=\"14.00\">samples = 8</text>\n<text text-anchor=\"start\" x=\"1445.5\" y=\"-491.3\" font-family=\"Helvetica,sans-Serif\" font-size=\"14.00\">value = [0, 8]</text>\n<text text-anchor=\"start\" x=\"1457.5\" y=\"-476.3\" font-family=\"Helvetica,sans-Serif\" font-size=\"14.00\">class = 1</text>\n</g>\n<!-- 52&#45;&gt;53 -->\n<g id=\"edge53\" class=\"edge\">\n<title>52&#45;&gt;53</title>\n<path fill=\"none\" stroke=\"black\" d=\"M1561.41,-579.91C1549.71,-568.21 1536.96,-555.46 1525.28,-543.78\"/>\n<polygon fill=\"black\" stroke=\"black\" points=\"1527.71,-541.26 1518.17,-536.67 1522.76,-546.21 1527.71,-541.26\"/>\n</g>\n<!-- 54 -->\n<g id=\"node55\" class=\"node\">\n<title>54</title>\n<path fill=\"#9ccef2\" stroke=\"black\" d=\"M1652.5,-544C1652.5,-544 1563.5,-544 1563.5,-544 1557.5,-544 1551.5,-538 1551.5,-532 1551.5,-532 1551.5,-473 1551.5,-473 1551.5,-467 1557.5,-461 1563.5,-461 1563.5,-461 1652.5,-461 1652.5,-461 1658.5,-461 1664.5,-467 1664.5,-473 1664.5,-473 1664.5,-532 1664.5,-532 1664.5,-538 1658.5,-544 1652.5,-544\"/>\n<text text-anchor=\"start\" x=\"1559.5\" y=\"-528.8\" font-family=\"Helvetica,sans-Serif\" font-size=\"14.00\">trestbps ≤ 130.0</text>\n<text text-anchor=\"start\" x=\"1560.5\" y=\"-513.8\" font-family=\"Helvetica,sans-Serif\" font-size=\"14.00\">entropy = 0.918</text>\n<text text-anchor=\"start\" x=\"1570.5\" y=\"-498.8\" font-family=\"Helvetica,sans-Serif\" font-size=\"14.00\">samples = 3</text>\n<text text-anchor=\"start\" x=\"1568.5\" y=\"-483.8\" font-family=\"Helvetica,sans-Serif\" font-size=\"14.00\">value = [1, 2]</text>\n<text text-anchor=\"start\" x=\"1580.5\" y=\"-468.8\" font-family=\"Helvetica,sans-Serif\" font-size=\"14.00\">class = 1</text>\n</g>\n<!-- 52&#45;&gt;54 -->\n<g id=\"edge54\" class=\"edge\">\n<title>52&#45;&gt;54</title>\n<path fill=\"none\" stroke=\"black\" d=\"M1604.08,-579.91C1604.51,-571.56 1604.97,-562.67 1605.41,-554.02\"/>\n<polygon fill=\"black\" stroke=\"black\" points=\"1608.91,-554.19 1605.92,-544.02 1601.91,-553.83 1608.91,-554.19\"/>\n</g>\n<!-- 55 -->\n<g id=\"node56\" class=\"node\">\n<title>55</title>\n<path fill=\"#399de5\" stroke=\"black\" d=\"M1537,-417.5C1537,-417.5 1465,-417.5 1465,-417.5 1459,-417.5 1453,-411.5 1453,-405.5 1453,-405.5 1453,-361.5 1453,-361.5 1453,-355.5 1459,-349.5 1465,-349.5 1465,-349.5 1537,-349.5 1537,-349.5 1543,-349.5 1549,-355.5 1549,-361.5 1549,-361.5 1549,-405.5 1549,-405.5 1549,-411.5 1543,-417.5 1537,-417.5\"/>\n<text text-anchor=\"start\" x=\"1461\" y=\"-402.3\" font-family=\"Helvetica,sans-Serif\" font-size=\"14.00\">entropy = 0.0</text>\n<text text-anchor=\"start\" x=\"1463.5\" y=\"-387.3\" font-family=\"Helvetica,sans-Serif\" font-size=\"14.00\">samples = 2</text>\n<text text-anchor=\"start\" x=\"1461.5\" y=\"-372.3\" font-family=\"Helvetica,sans-Serif\" font-size=\"14.00\">value = [0, 2]</text>\n<text text-anchor=\"start\" x=\"1473.5\" y=\"-357.3\" font-family=\"Helvetica,sans-Serif\" font-size=\"14.00\">class = 1</text>\n</g>\n<!-- 54&#45;&gt;55 -->\n<g id=\"edge55\" class=\"edge\">\n<title>54&#45;&gt;55</title>\n<path fill=\"none\" stroke=\"black\" d=\"M1570.88,-460.91C1560.28,-449.32 1548.74,-436.7 1538.14,-425.11\"/>\n<polygon fill=\"black\" stroke=\"black\" points=\"1540.66,-422.68 1531.33,-417.67 1535.5,-427.41 1540.66,-422.68\"/>\n</g>\n<!-- 56 -->\n<g id=\"node57\" class=\"node\">\n<title>56</title>\n<path fill=\"#e58139\" stroke=\"black\" d=\"M1651,-417.5C1651,-417.5 1579,-417.5 1579,-417.5 1573,-417.5 1567,-411.5 1567,-405.5 1567,-405.5 1567,-361.5 1567,-361.5 1567,-355.5 1573,-349.5 1579,-349.5 1579,-349.5 1651,-349.5 1651,-349.5 1657,-349.5 1663,-355.5 1663,-361.5 1663,-361.5 1663,-405.5 1663,-405.5 1663,-411.5 1657,-417.5 1651,-417.5\"/>\n<text text-anchor=\"start\" x=\"1575\" y=\"-402.3\" font-family=\"Helvetica,sans-Serif\" font-size=\"14.00\">entropy = 0.0</text>\n<text text-anchor=\"start\" x=\"1577.5\" y=\"-387.3\" font-family=\"Helvetica,sans-Serif\" font-size=\"14.00\">samples = 1</text>\n<text text-anchor=\"start\" x=\"1575.5\" y=\"-372.3\" font-family=\"Helvetica,sans-Serif\" font-size=\"14.00\">value = [1, 0]</text>\n<text text-anchor=\"start\" x=\"1587.5\" y=\"-357.3\" font-family=\"Helvetica,sans-Serif\" font-size=\"14.00\">class = 0</text>\n</g>\n<!-- 54&#45;&gt;56 -->\n<g id=\"edge56\" class=\"edge\">\n<title>54&#45;&gt;56</title>\n<path fill=\"none\" stroke=\"black\" d=\"M1610.43,-460.91C1611.07,-450.2 1611.76,-438.62 1612.41,-427.78\"/>\n<polygon fill=\"black\" stroke=\"black\" points=\"1615.91,-427.86 1613.02,-417.67 1608.92,-427.44 1615.91,-427.86\"/>\n</g>\n<!-- 58 -->\n<g id=\"node59\" class=\"node\">\n<title>58</title>\n<path fill=\"#eeab7b\" stroke=\"black\" d=\"M1781.5,-544C1781.5,-544 1694.5,-544 1694.5,-544 1688.5,-544 1682.5,-538 1682.5,-532 1682.5,-532 1682.5,-473 1682.5,-473 1682.5,-467 1688.5,-461 1694.5,-461 1694.5,-461 1781.5,-461 1781.5,-461 1787.5,-461 1793.5,-467 1793.5,-473 1793.5,-473 1793.5,-532 1793.5,-532 1793.5,-538 1787.5,-544 1781.5,-544\"/>\n<text text-anchor=\"start\" x=\"1701\" y=\"-528.8\" font-family=\"Helvetica,sans-Serif\" font-size=\"14.00\">chol ≤ 199.5</text>\n<text text-anchor=\"start\" x=\"1690.5\" y=\"-513.8\" font-family=\"Helvetica,sans-Serif\" font-size=\"14.00\">entropy = 0.811</text>\n<text text-anchor=\"start\" x=\"1700.5\" y=\"-498.8\" font-family=\"Helvetica,sans-Serif\" font-size=\"14.00\">samples = 4</text>\n<text text-anchor=\"start\" x=\"1698.5\" y=\"-483.8\" font-family=\"Helvetica,sans-Serif\" font-size=\"14.00\">value = [3, 1]</text>\n<text text-anchor=\"start\" x=\"1710.5\" y=\"-468.8\" font-family=\"Helvetica,sans-Serif\" font-size=\"14.00\">class = 0</text>\n</g>\n<!-- 57&#45;&gt;58 -->\n<g id=\"edge58\" class=\"edge\">\n<title>57&#45;&gt;58</title>\n<path fill=\"none\" stroke=\"black\" d=\"M1738,-579.91C1738,-571.65 1738,-562.86 1738,-554.3\"/>\n<polygon fill=\"black\" stroke=\"black\" points=\"1741.5,-554.02 1738,-544.02 1734.5,-554.02 1741.5,-554.02\"/>\n</g>\n<!-- 61 -->\n<g id=\"node62\" class=\"node\">\n<title>61</title>\n<path fill=\"#399de5\" stroke=\"black\" d=\"M1896,-536.5C1896,-536.5 1824,-536.5 1824,-536.5 1818,-536.5 1812,-530.5 1812,-524.5 1812,-524.5 1812,-480.5 1812,-480.5 1812,-474.5 1818,-468.5 1824,-468.5 1824,-468.5 1896,-468.5 1896,-468.5 1902,-468.5 1908,-474.5 1908,-480.5 1908,-480.5 1908,-524.5 1908,-524.5 1908,-530.5 1902,-536.5 1896,-536.5\"/>\n<text text-anchor=\"start\" x=\"1820\" y=\"-521.3\" font-family=\"Helvetica,sans-Serif\" font-size=\"14.00\">entropy = 0.0</text>\n<text text-anchor=\"start\" x=\"1822.5\" y=\"-506.3\" font-family=\"Helvetica,sans-Serif\" font-size=\"14.00\">samples = 2</text>\n<text text-anchor=\"start\" x=\"1820.5\" y=\"-491.3\" font-family=\"Helvetica,sans-Serif\" font-size=\"14.00\">value = [0, 2]</text>\n<text text-anchor=\"start\" x=\"1832.5\" y=\"-476.3\" font-family=\"Helvetica,sans-Serif\" font-size=\"14.00\">class = 1</text>\n</g>\n<!-- 57&#45;&gt;61 -->\n<g id=\"edge61\" class=\"edge\">\n<title>57&#45;&gt;61</title>\n<path fill=\"none\" stroke=\"black\" d=\"M1780.33,-579.91C1792.52,-568.21 1805.82,-555.46 1818,-543.78\"/>\n<polygon fill=\"black\" stroke=\"black\" points=\"1820.62,-546.11 1825.42,-536.67 1815.78,-541.06 1820.62,-546.11\"/>\n</g>\n<!-- 59 -->\n<g id=\"node60\" class=\"node\">\n<title>59</title>\n<path fill=\"#399de5\" stroke=\"black\" d=\"M1771,-417.5C1771,-417.5 1699,-417.5 1699,-417.5 1693,-417.5 1687,-411.5 1687,-405.5 1687,-405.5 1687,-361.5 1687,-361.5 1687,-355.5 1693,-349.5 1699,-349.5 1699,-349.5 1771,-349.5 1771,-349.5 1777,-349.5 1783,-355.5 1783,-361.5 1783,-361.5 1783,-405.5 1783,-405.5 1783,-411.5 1777,-417.5 1771,-417.5\"/>\n<text text-anchor=\"start\" x=\"1695\" y=\"-402.3\" font-family=\"Helvetica,sans-Serif\" font-size=\"14.00\">entropy = 0.0</text>\n<text text-anchor=\"start\" x=\"1697.5\" y=\"-387.3\" font-family=\"Helvetica,sans-Serif\" font-size=\"14.00\">samples = 1</text>\n<text text-anchor=\"start\" x=\"1695.5\" y=\"-372.3\" font-family=\"Helvetica,sans-Serif\" font-size=\"14.00\">value = [0, 1]</text>\n<text text-anchor=\"start\" x=\"1707.5\" y=\"-357.3\" font-family=\"Helvetica,sans-Serif\" font-size=\"14.00\">class = 1</text>\n</g>\n<!-- 58&#45;&gt;59 -->\n<g id=\"edge59\" class=\"edge\">\n<title>58&#45;&gt;59</title>\n<path fill=\"none\" stroke=\"black\" d=\"M1736.96,-460.91C1736.68,-450.2 1736.39,-438.62 1736.11,-427.78\"/>\n<polygon fill=\"black\" stroke=\"black\" points=\"1739.61,-427.57 1735.85,-417.67 1732.61,-427.75 1739.61,-427.57\"/>\n</g>\n<!-- 60 -->\n<g id=\"node61\" class=\"node\">\n<title>60</title>\n<path fill=\"#e58139\" stroke=\"black\" d=\"M1885,-417.5C1885,-417.5 1813,-417.5 1813,-417.5 1807,-417.5 1801,-411.5 1801,-405.5 1801,-405.5 1801,-361.5 1801,-361.5 1801,-355.5 1807,-349.5 1813,-349.5 1813,-349.5 1885,-349.5 1885,-349.5 1891,-349.5 1897,-355.5 1897,-361.5 1897,-361.5 1897,-405.5 1897,-405.5 1897,-411.5 1891,-417.5 1885,-417.5\"/>\n<text text-anchor=\"start\" x=\"1809\" y=\"-402.3\" font-family=\"Helvetica,sans-Serif\" font-size=\"14.00\">entropy = 0.0</text>\n<text text-anchor=\"start\" x=\"1811.5\" y=\"-387.3\" font-family=\"Helvetica,sans-Serif\" font-size=\"14.00\">samples = 3</text>\n<text text-anchor=\"start\" x=\"1809.5\" y=\"-372.3\" font-family=\"Helvetica,sans-Serif\" font-size=\"14.00\">value = [3, 0]</text>\n<text text-anchor=\"start\" x=\"1821.5\" y=\"-357.3\" font-family=\"Helvetica,sans-Serif\" font-size=\"14.00\">class = 0</text>\n</g>\n<!-- 58&#45;&gt;60 -->\n<g id=\"edge60\" class=\"edge\">\n<title>58&#45;&gt;60</title>\n<path fill=\"none\" stroke=\"black\" d=\"M1776.51,-460.91C1787.5,-449.32 1799.48,-436.7 1810.47,-425.11\"/>\n<polygon fill=\"black\" stroke=\"black\" points=\"1813.19,-427.33 1817.53,-417.67 1808.11,-422.51 1813.19,-427.33\"/>\n</g>\n<!-- 63 -->\n<g id=\"node64\" class=\"node\">\n<title>63</title>\n<path fill=\"#399de5\" stroke=\"black\" d=\"M1768,-893.5C1768,-893.5 1696,-893.5 1696,-893.5 1690,-893.5 1684,-887.5 1684,-881.5 1684,-881.5 1684,-837.5 1684,-837.5 1684,-831.5 1690,-825.5 1696,-825.5 1696,-825.5 1768,-825.5 1768,-825.5 1774,-825.5 1780,-831.5 1780,-837.5 1780,-837.5 1780,-881.5 1780,-881.5 1780,-887.5 1774,-893.5 1768,-893.5\"/>\n<text text-anchor=\"start\" x=\"1692\" y=\"-878.3\" font-family=\"Helvetica,sans-Serif\" font-size=\"14.00\">entropy = 0.0</text>\n<text text-anchor=\"start\" x=\"1694.5\" y=\"-863.3\" font-family=\"Helvetica,sans-Serif\" font-size=\"14.00\">samples = 4</text>\n<text text-anchor=\"start\" x=\"1692.5\" y=\"-848.3\" font-family=\"Helvetica,sans-Serif\" font-size=\"14.00\">value = [0, 4]</text>\n<text text-anchor=\"start\" x=\"1704.5\" y=\"-833.3\" font-family=\"Helvetica,sans-Serif\" font-size=\"14.00\">class = 1</text>\n</g>\n<!-- 62&#45;&gt;63 -->\n<g id=\"edge63\" class=\"edge\">\n<title>62&#45;&gt;63</title>\n<path fill=\"none\" stroke=\"black\" d=\"M1732,-936.91C1732,-926.2 1732,-914.62 1732,-903.78\"/>\n<polygon fill=\"black\" stroke=\"black\" points=\"1735.5,-903.67 1732,-893.67 1728.5,-903.67 1735.5,-903.67\"/>\n</g>\n<!-- 64 -->\n<g id=\"node65\" class=\"node\">\n<title>64</title>\n<path fill=\"#eeaf81\" stroke=\"black\" d=\"M2017.5,-901C2017.5,-901 1930.5,-901 1930.5,-901 1924.5,-901 1918.5,-895 1918.5,-889 1918.5,-889 1918.5,-830 1918.5,-830 1918.5,-824 1924.5,-818 1930.5,-818 1930.5,-818 2017.5,-818 2017.5,-818 2023.5,-818 2029.5,-824 2029.5,-830 2029.5,-830 2029.5,-889 2029.5,-889 2029.5,-895 2023.5,-901 2017.5,-901\"/>\n<text text-anchor=\"start\" x=\"1946\" y=\"-885.8\" font-family=\"Helvetica,sans-Serif\" font-size=\"14.00\">thal ≤ 2.5</text>\n<text text-anchor=\"start\" x=\"1926.5\" y=\"-870.8\" font-family=\"Helvetica,sans-Serif\" font-size=\"14.00\">entropy = 0.837</text>\n<text text-anchor=\"start\" x=\"1933\" y=\"-855.8\" font-family=\"Helvetica,sans-Serif\" font-size=\"14.00\">samples = 15</text>\n<text text-anchor=\"start\" x=\"1931\" y=\"-840.8\" font-family=\"Helvetica,sans-Serif\" font-size=\"14.00\">value = [11, 4]</text>\n<text text-anchor=\"start\" x=\"1946.5\" y=\"-825.8\" font-family=\"Helvetica,sans-Serif\" font-size=\"14.00\">class = 0</text>\n</g>\n<!-- 62&#45;&gt;64 -->\n<g id=\"edge64\" class=\"edge\">\n<title>62&#45;&gt;64</title>\n<path fill=\"none\" stroke=\"black\" d=\"M1787.52,-950.66C1823.67,-933.18 1870.97,-910.31 1908.89,-891.98\"/>\n<polygon fill=\"black\" stroke=\"black\" points=\"1910.84,-894.92 1918.32,-887.42 1907.79,-888.62 1910.84,-894.92\"/>\n</g>\n<!-- 65 -->\n<g id=\"node66\" class=\"node\">\n<title>65</title>\n<path fill=\"#fae6d7\" stroke=\"black\" d=\"M2017.5,-782C2017.5,-782 1930.5,-782 1930.5,-782 1924.5,-782 1918.5,-776 1918.5,-770 1918.5,-770 1918.5,-711 1918.5,-711 1918.5,-705 1924.5,-699 1930.5,-699 1930.5,-699 2017.5,-699 2017.5,-699 2023.5,-699 2029.5,-705 2029.5,-711 2029.5,-711 2029.5,-770 2029.5,-770 2029.5,-776 2023.5,-782 2017.5,-782\"/>\n<text text-anchor=\"start\" x=\"1933\" y=\"-766.8\" font-family=\"Helvetica,sans-Serif\" font-size=\"14.00\">oldpeak ≤ 2.5</text>\n<text text-anchor=\"start\" x=\"1926.5\" y=\"-751.8\" font-family=\"Helvetica,sans-Serif\" font-size=\"14.00\">entropy = 0.991</text>\n<text text-anchor=\"start\" x=\"1936.5\" y=\"-736.8\" font-family=\"Helvetica,sans-Serif\" font-size=\"14.00\">samples = 9</text>\n<text text-anchor=\"start\" x=\"1934.5\" y=\"-721.8\" font-family=\"Helvetica,sans-Serif\" font-size=\"14.00\">value = [5, 4]</text>\n<text text-anchor=\"start\" x=\"1946.5\" y=\"-706.8\" font-family=\"Helvetica,sans-Serif\" font-size=\"14.00\">class = 0</text>\n</g>\n<!-- 64&#45;&gt;65 -->\n<g id=\"edge65\" class=\"edge\">\n<title>64&#45;&gt;65</title>\n<path fill=\"none\" stroke=\"black\" d=\"M1974,-817.91C1974,-809.65 1974,-800.86 1974,-792.3\"/>\n<polygon fill=\"black\" stroke=\"black\" points=\"1977.5,-792.02 1974,-782.02 1970.5,-792.02 1977.5,-792.02\"/>\n</g>\n<!-- 72 -->\n<g id=\"node73\" class=\"node\">\n<title>72</title>\n<path fill=\"#e58139\" stroke=\"black\" d=\"M2132,-774.5C2132,-774.5 2060,-774.5 2060,-774.5 2054,-774.5 2048,-768.5 2048,-762.5 2048,-762.5 2048,-718.5 2048,-718.5 2048,-712.5 2054,-706.5 2060,-706.5 2060,-706.5 2132,-706.5 2132,-706.5 2138,-706.5 2144,-712.5 2144,-718.5 2144,-718.5 2144,-762.5 2144,-762.5 2144,-768.5 2138,-774.5 2132,-774.5\"/>\n<text text-anchor=\"start\" x=\"2056\" y=\"-759.3\" font-family=\"Helvetica,sans-Serif\" font-size=\"14.00\">entropy = 0.0</text>\n<text text-anchor=\"start\" x=\"2058.5\" y=\"-744.3\" font-family=\"Helvetica,sans-Serif\" font-size=\"14.00\">samples = 6</text>\n<text text-anchor=\"start\" x=\"2056.5\" y=\"-729.3\" font-family=\"Helvetica,sans-Serif\" font-size=\"14.00\">value = [6, 0]</text>\n<text text-anchor=\"start\" x=\"2068.5\" y=\"-714.3\" font-family=\"Helvetica,sans-Serif\" font-size=\"14.00\">class = 0</text>\n</g>\n<!-- 64&#45;&gt;72 -->\n<g id=\"edge72\" class=\"edge\">\n<title>64&#45;&gt;72</title>\n<path fill=\"none\" stroke=\"black\" d=\"M2016.33,-817.91C2028.52,-806.21 2041.82,-793.46 2054,-781.78\"/>\n<polygon fill=\"black\" stroke=\"black\" points=\"2056.62,-784.11 2061.42,-774.67 2051.78,-779.06 2056.62,-784.11\"/>\n</g>\n<!-- 66 -->\n<g id=\"node67\" class=\"node\">\n<title>66</title>\n<path fill=\"#9ccef2\" stroke=\"black\" d=\"M2017.5,-663C2017.5,-663 1930.5,-663 1930.5,-663 1924.5,-663 1918.5,-657 1918.5,-651 1918.5,-651 1918.5,-592 1918.5,-592 1918.5,-586 1924.5,-580 1930.5,-580 1930.5,-580 2017.5,-580 2017.5,-580 2023.5,-580 2029.5,-586 2029.5,-592 2029.5,-592 2029.5,-651 2029.5,-651 2029.5,-657 2023.5,-663 2017.5,-663\"/>\n<text text-anchor=\"start\" x=\"1927.5\" y=\"-647.8\" font-family=\"Helvetica,sans-Serif\" font-size=\"14.00\">thalach ≤ 139.0</text>\n<text text-anchor=\"start\" x=\"1926.5\" y=\"-632.8\" font-family=\"Helvetica,sans-Serif\" font-size=\"14.00\">entropy = 0.918</text>\n<text text-anchor=\"start\" x=\"1936.5\" y=\"-617.8\" font-family=\"Helvetica,sans-Serif\" font-size=\"14.00\">samples = 6</text>\n<text text-anchor=\"start\" x=\"1934.5\" y=\"-602.8\" font-family=\"Helvetica,sans-Serif\" font-size=\"14.00\">value = [2, 4]</text>\n<text text-anchor=\"start\" x=\"1946.5\" y=\"-587.8\" font-family=\"Helvetica,sans-Serif\" font-size=\"14.00\">class = 1</text>\n</g>\n<!-- 65&#45;&gt;66 -->\n<g id=\"edge66\" class=\"edge\">\n<title>65&#45;&gt;66</title>\n<path fill=\"none\" stroke=\"black\" d=\"M1974,-698.91C1974,-690.65 1974,-681.86 1974,-673.3\"/>\n<polygon fill=\"black\" stroke=\"black\" points=\"1977.5,-673.02 1974,-663.02 1970.5,-673.02 1977.5,-673.02\"/>\n</g>\n<!-- 71 -->\n<g id=\"node72\" class=\"node\">\n<title>71</title>\n<path fill=\"#e58139\" stroke=\"black\" d=\"M2132,-655.5C2132,-655.5 2060,-655.5 2060,-655.5 2054,-655.5 2048,-649.5 2048,-643.5 2048,-643.5 2048,-599.5 2048,-599.5 2048,-593.5 2054,-587.5 2060,-587.5 2060,-587.5 2132,-587.5 2132,-587.5 2138,-587.5 2144,-593.5 2144,-599.5 2144,-599.5 2144,-643.5 2144,-643.5 2144,-649.5 2138,-655.5 2132,-655.5\"/>\n<text text-anchor=\"start\" x=\"2056\" y=\"-640.3\" font-family=\"Helvetica,sans-Serif\" font-size=\"14.00\">entropy = 0.0</text>\n<text text-anchor=\"start\" x=\"2058.5\" y=\"-625.3\" font-family=\"Helvetica,sans-Serif\" font-size=\"14.00\">samples = 3</text>\n<text text-anchor=\"start\" x=\"2056.5\" y=\"-610.3\" font-family=\"Helvetica,sans-Serif\" font-size=\"14.00\">value = [3, 0]</text>\n<text text-anchor=\"start\" x=\"2068.5\" y=\"-595.3\" font-family=\"Helvetica,sans-Serif\" font-size=\"14.00\">class = 0</text>\n</g>\n<!-- 65&#45;&gt;71 -->\n<g id=\"edge71\" class=\"edge\">\n<title>65&#45;&gt;71</title>\n<path fill=\"none\" stroke=\"black\" d=\"M2016.33,-698.91C2028.52,-687.21 2041.82,-674.46 2054,-662.78\"/>\n<polygon fill=\"black\" stroke=\"black\" points=\"2056.62,-665.11 2061.42,-655.67 2051.78,-660.06 2056.62,-665.11\"/>\n</g>\n<!-- 67 -->\n<g id=\"node68\" class=\"node\">\n<title>67</title>\n<path fill=\"#e58139\" stroke=\"black\" d=\"M2010,-536.5C2010,-536.5 1938,-536.5 1938,-536.5 1932,-536.5 1926,-530.5 1926,-524.5 1926,-524.5 1926,-480.5 1926,-480.5 1926,-474.5 1932,-468.5 1938,-468.5 1938,-468.5 2010,-468.5 2010,-468.5 2016,-468.5 2022,-474.5 2022,-480.5 2022,-480.5 2022,-524.5 2022,-524.5 2022,-530.5 2016,-536.5 2010,-536.5\"/>\n<text text-anchor=\"start\" x=\"1934\" y=\"-521.3\" font-family=\"Helvetica,sans-Serif\" font-size=\"14.00\">entropy = 0.0</text>\n<text text-anchor=\"start\" x=\"1936.5\" y=\"-506.3\" font-family=\"Helvetica,sans-Serif\" font-size=\"14.00\">samples = 1</text>\n<text text-anchor=\"start\" x=\"1934.5\" y=\"-491.3\" font-family=\"Helvetica,sans-Serif\" font-size=\"14.00\">value = [1, 0]</text>\n<text text-anchor=\"start\" x=\"1946.5\" y=\"-476.3\" font-family=\"Helvetica,sans-Serif\" font-size=\"14.00\">class = 0</text>\n</g>\n<!-- 66&#45;&gt;67 -->\n<g id=\"edge67\" class=\"edge\">\n<title>66&#45;&gt;67</title>\n<path fill=\"none\" stroke=\"black\" d=\"M1974,-579.91C1974,-569.2 1974,-557.62 1974,-546.78\"/>\n<polygon fill=\"black\" stroke=\"black\" points=\"1977.5,-546.67 1974,-536.67 1970.5,-546.67 1977.5,-546.67\"/>\n</g>\n<!-- 68 -->\n<g id=\"node69\" class=\"node\">\n<title>68</title>\n<path fill=\"#6ab6ec\" stroke=\"black\" d=\"M2139.5,-544C2139.5,-544 2052.5,-544 2052.5,-544 2046.5,-544 2040.5,-538 2040.5,-532 2040.5,-532 2040.5,-473 2040.5,-473 2040.5,-467 2046.5,-461 2052.5,-461 2052.5,-461 2139.5,-461 2139.5,-461 2145.5,-461 2151.5,-467 2151.5,-473 2151.5,-473 2151.5,-532 2151.5,-532 2151.5,-538 2145.5,-544 2139.5,-544\"/>\n<text text-anchor=\"start\" x=\"2071.5\" y=\"-528.8\" font-family=\"Helvetica,sans-Serif\" font-size=\"14.00\">cp ≤ 1.5</text>\n<text text-anchor=\"start\" x=\"2048.5\" y=\"-513.8\" font-family=\"Helvetica,sans-Serif\" font-size=\"14.00\">entropy = 0.722</text>\n<text text-anchor=\"start\" x=\"2058.5\" y=\"-498.8\" font-family=\"Helvetica,sans-Serif\" font-size=\"14.00\">samples = 5</text>\n<text text-anchor=\"start\" x=\"2056.5\" y=\"-483.8\" font-family=\"Helvetica,sans-Serif\" font-size=\"14.00\">value = [1, 4]</text>\n<text text-anchor=\"start\" x=\"2068.5\" y=\"-468.8\" font-family=\"Helvetica,sans-Serif\" font-size=\"14.00\">class = 1</text>\n</g>\n<!-- 66&#45;&gt;68 -->\n<g id=\"edge68\" class=\"edge\">\n<title>66&#45;&gt;68</title>\n<path fill=\"none\" stroke=\"black\" d=\"M2016.33,-579.91C2025.98,-570.65 2036.32,-560.73 2046.25,-551.21\"/>\n<polygon fill=\"black\" stroke=\"black\" points=\"2048.95,-553.47 2053.75,-544.02 2044.11,-548.42 2048.95,-553.47\"/>\n</g>\n<!-- 69 -->\n<g id=\"node70\" class=\"node\">\n<title>69</title>\n<path fill=\"#e58139\" stroke=\"black\" d=\"M2075,-417.5C2075,-417.5 2003,-417.5 2003,-417.5 1997,-417.5 1991,-411.5 1991,-405.5 1991,-405.5 1991,-361.5 1991,-361.5 1991,-355.5 1997,-349.5 2003,-349.5 2003,-349.5 2075,-349.5 2075,-349.5 2081,-349.5 2087,-355.5 2087,-361.5 2087,-361.5 2087,-405.5 2087,-405.5 2087,-411.5 2081,-417.5 2075,-417.5\"/>\n<text text-anchor=\"start\" x=\"1999\" y=\"-402.3\" font-family=\"Helvetica,sans-Serif\" font-size=\"14.00\">entropy = 0.0</text>\n<text text-anchor=\"start\" x=\"2001.5\" y=\"-387.3\" font-family=\"Helvetica,sans-Serif\" font-size=\"14.00\">samples = 1</text>\n<text text-anchor=\"start\" x=\"1999.5\" y=\"-372.3\" font-family=\"Helvetica,sans-Serif\" font-size=\"14.00\">value = [1, 0]</text>\n<text text-anchor=\"start\" x=\"2011.5\" y=\"-357.3\" font-family=\"Helvetica,sans-Serif\" font-size=\"14.00\">class = 0</text>\n</g>\n<!-- 68&#45;&gt;69 -->\n<g id=\"edge69\" class=\"edge\">\n<title>68&#45;&gt;69</title>\n<path fill=\"none\" stroke=\"black\" d=\"M2076.22,-460.91C2070.85,-449.87 2065.01,-437.9 2059.59,-426.77\"/>\n<polygon fill=\"black\" stroke=\"black\" points=\"2062.68,-425.12 2055.16,-417.67 2056.39,-428.19 2062.68,-425.12\"/>\n</g>\n<!-- 70 -->\n<g id=\"node71\" class=\"node\">\n<title>70</title>\n<path fill=\"#399de5\" stroke=\"black\" d=\"M2189,-417.5C2189,-417.5 2117,-417.5 2117,-417.5 2111,-417.5 2105,-411.5 2105,-405.5 2105,-405.5 2105,-361.5 2105,-361.5 2105,-355.5 2111,-349.5 2117,-349.5 2117,-349.5 2189,-349.5 2189,-349.5 2195,-349.5 2201,-355.5 2201,-361.5 2201,-361.5 2201,-405.5 2201,-405.5 2201,-411.5 2195,-417.5 2189,-417.5\"/>\n<text text-anchor=\"start\" x=\"2113\" y=\"-402.3\" font-family=\"Helvetica,sans-Serif\" font-size=\"14.00\">entropy = 0.0</text>\n<text text-anchor=\"start\" x=\"2115.5\" y=\"-387.3\" font-family=\"Helvetica,sans-Serif\" font-size=\"14.00\">samples = 4</text>\n<text text-anchor=\"start\" x=\"2113.5\" y=\"-372.3\" font-family=\"Helvetica,sans-Serif\" font-size=\"14.00\">value = [0, 4]</text>\n<text text-anchor=\"start\" x=\"2125.5\" y=\"-357.3\" font-family=\"Helvetica,sans-Serif\" font-size=\"14.00\">class = 1</text>\n</g>\n<!-- 68&#45;&gt;70 -->\n<g id=\"edge70\" class=\"edge\">\n<title>68&#45;&gt;70</title>\n<path fill=\"none\" stroke=\"black\" d=\"M2115.78,-460.91C2121.15,-449.87 2126.99,-437.9 2132.41,-426.77\"/>\n<polygon fill=\"black\" stroke=\"black\" points=\"2135.61,-428.19 2136.84,-417.67 2129.32,-425.12 2135.61,-428.19\"/>\n</g>\n</g>\n</svg>\n",
            "text/plain": [
              "<graphviz.sources.Source at 0x794f60171600>"
            ]
          },
          "metadata": {},
          "execution_count": 154
        }
      ],
      "source": [
        "# TO DO: Plot the resulting tree\n",
        "dot_data = tree.export_graphviz(clf, out_file=None,\n",
        "                     feature_names=XTrain.columns,\n",
        "                     class_names=[str(class_label) for class_label in clf.classes_], rounded=True,\n",
        "                     special_characters=True, filled= True)  #___TO DO___\n",
        "\n",
        "# Create the graphviz graph\n",
        "graph = graphviz.Source(dot_data)\n",
        "# Display the DT graph\n",
        "graph"
      ]
    },
    {
      "cell_type": "markdown",
      "metadata": {
        "id": "iV_xtyRvJuc3"
      },
      "source": [
        "As we've just seen, the DT generated is quite deep and wide. This is because DT tend to overfit the data. To avoid this, we can change the maximum depth and minimum number of leaf nodes allowed. Try different values for each parameter and find the best result. **Which combination works best?**\n",
        "\n",
        "***Hint:* You might want to use a loop to try the different combinations**"
      ]
    },
    {
      "cell_type": "markdown",
      "source": [
        "<font color=\"red\">\n",
        "\n",
        "Max depth and Min samples leaf are the best combination to avoid the overfit of the data.\n",
        "Trying different values and evaluating the model's performance, find the Max Depth: 3, Min Samples Leaf: 5. The accuracy on testing data is 83.52%  \n",
        "</font>\n"
      ],
      "metadata": {
        "id": "nafEb1zRV9Ib"
      }
    },
    {
      "cell_type": "code",
      "execution_count": null,
      "metadata": {
        "id": "aYRcMG1RJZNw",
        "colab": {
          "base_uri": "https://localhost:8080/"
        },
        "outputId": "21cf7ed0-d5be-4c40-edb8-edc2212bc91a"
      },
      "outputs": [
        {
          "output_type": "stream",
          "name": "stdout",
          "text": [
            "Best combination - Max Depth: 3, Min Samples Leaf: 5\n",
            "Best accuracy on testing data: 83.52%\n"
          ]
        }
      ],
      "source": [
        "# TO DO: Create DT Classifiers with different maximum depths and minimum number of lead nodes allowed\n",
        "#________TO DO_________\n",
        "\n",
        "best_accuracy = 0\n",
        "best_depth = 0\n",
        "best_min_samples_leaf = 0\n",
        "\n",
        "for max_depth in range(1, 20):  # Try different values for maximum depth\n",
        "    for min_samples_leaf in range(1, 20):  # Try different values for minimum number of leaf nodes\n",
        "\n",
        "        # Create and fit DT classifier with current parameters\n",
        "        clf = tree.DecisionTreeClassifier(criterion=\"entropy\", max_depth=max_depth, min_samples_leaf=min_samples_leaf)\n",
        "        clf = clf.fit(XTrain, yTrain)\n",
        "\n",
        "        # Calculate accuracy on testing data\n",
        "        accuracy = clf.score(XTest, yTest)\n",
        "\n",
        "        # Check if the current combination gives a better accuracy\n",
        "        if accuracy > best_accuracy:\n",
        "            best_accuracy = accuracy\n",
        "            best_depth = max_depth\n",
        "            best_min_samples_leaf = min_samples_leaf\n",
        "\n",
        "print(\"Best combination - Max Depth: {}, Min Samples Leaf: {}\".format(best_depth, best_min_samples_leaf))\n",
        "print(\"Best accuracy on testing data: {:.2f}%\".format(best_accuracy * 100))"
      ]
    },
    {
      "cell_type": "markdown",
      "metadata": {
        "id": "RdRHik-xM0mn"
      },
      "source": [
        "Plot the best DT you found and compare it with the previous one. ***Is it easier to follow?***"
      ]
    },
    {
      "cell_type": "markdown",
      "source": [
        "<font color=\"red\"> It is easier to follow than previous one because of best maximum depth,minimum samples leaves, and accuracy. Most importantly, branching complexity is less than the previous one.\n",
        "\n",
        "</font>"
      ],
      "metadata": {
        "id": "lJTfcqrsaoRU"
      }
    },
    {
      "cell_type": "code",
      "execution_count": null,
      "metadata": {
        "id": "YoiFUhIyM5sy",
        "colab": {
          "base_uri": "https://localhost:8080/",
          "height": 599
        },
        "outputId": "cee241b7-828f-4f47-a6e3-c7df1e982a47"
      },
      "outputs": [
        {
          "output_type": "execute_result",
          "data": {
            "image/svg+xml": "<?xml version=\"1.0\" encoding=\"UTF-8\" standalone=\"no\"?>\n<!DOCTYPE svg PUBLIC \"-//W3C//DTD SVG 1.1//EN\"\n \"http://www.w3.org/Graphics/SVG/1.1/DTD/svg11.dtd\">\n<!-- Generated by graphviz version 2.43.0 (0)\n -->\n<!-- Title: Tree Pages: 1 -->\n<svg width=\"1014pt\" height=\"433pt\"\n viewBox=\"0.00 0.00 1014.00 433.00\" xmlns=\"http://www.w3.org/2000/svg\" xmlns:xlink=\"http://www.w3.org/1999/xlink\">\n<g id=\"graph0\" class=\"graph\" transform=\"scale(1 1) rotate(0) translate(4 429)\">\n<title>Tree</title>\n<polygon fill=\"white\" stroke=\"transparent\" points=\"-4,4 -4,-429 1010,-429 1010,4 -4,4\"/>\n<!-- 0 -->\n<g id=\"node1\" class=\"node\">\n<title>0</title>\n<path fill=\"#e0f0fb\" stroke=\"black\" d=\"M545,-425C545,-425 452,-425 452,-425 446,-425 440,-419 440,-413 440,-413 440,-354 440,-354 440,-348 446,-342 452,-342 452,-342 545,-342 545,-342 551,-342 557,-348 557,-354 557,-354 557,-413 557,-413 557,-419 551,-425 545,-425\"/>\n<text text-anchor=\"start\" x=\"474\" y=\"-409.8\" font-family=\"Helvetica,sans-Serif\" font-size=\"14.00\">cp ≤ 0.5</text>\n<text text-anchor=\"start\" x=\"451\" y=\"-394.8\" font-family=\"Helvetica,sans-Serif\" font-size=\"14.00\">entropy = 0.995</text>\n<text text-anchor=\"start\" x=\"453.5\" y=\"-379.8\" font-family=\"Helvetica,sans-Serif\" font-size=\"14.00\">samples = 212</text>\n<text text-anchor=\"start\" x=\"448\" y=\"-364.8\" font-family=\"Helvetica,sans-Serif\" font-size=\"14.00\">value = [97, 115]</text>\n<text text-anchor=\"start\" x=\"471\" y=\"-349.8\" font-family=\"Helvetica,sans-Serif\" font-size=\"14.00\">class = 1</text>\n</g>\n<!-- 1 -->\n<g id=\"node2\" class=\"node\">\n<title>1</title>\n<path fill=\"#eeae80\" stroke=\"black\" d=\"M417,-306C417,-306 330,-306 330,-306 324,-306 318,-300 318,-294 318,-294 318,-235 318,-235 318,-229 324,-223 330,-223 330,-223 417,-223 417,-223 423,-223 429,-229 429,-235 429,-235 429,-294 429,-294 429,-300 423,-306 417,-306\"/>\n<text text-anchor=\"start\" x=\"349\" y=\"-290.8\" font-family=\"Helvetica,sans-Serif\" font-size=\"14.00\">ca ≤ 0.5</text>\n<text text-anchor=\"start\" x=\"326\" y=\"-275.8\" font-family=\"Helvetica,sans-Serif\" font-size=\"14.00\">entropy = 0.831</text>\n<text text-anchor=\"start\" x=\"332.5\" y=\"-260.8\" font-family=\"Helvetica,sans-Serif\" font-size=\"14.00\">samples = 99</text>\n<text text-anchor=\"start\" x=\"326.5\" y=\"-245.8\" font-family=\"Helvetica,sans-Serif\" font-size=\"14.00\">value = [73, 26]</text>\n<text text-anchor=\"start\" x=\"346\" y=\"-230.8\" font-family=\"Helvetica,sans-Serif\" font-size=\"14.00\">class = 0</text>\n</g>\n<!-- 0&#45;&gt;1 -->\n<g id=\"edge1\" class=\"edge\">\n<title>0&#45;&gt;1</title>\n<path fill=\"none\" stroke=\"black\" d=\"M455.13,-341.91C445.15,-332.56 434.44,-322.54 424.17,-312.93\"/>\n<polygon fill=\"black\" stroke=\"black\" points=\"426.48,-310.3 416.79,-306.02 421.7,-315.41 426.48,-310.3\"/>\n<text text-anchor=\"middle\" x=\"417.62\" y=\"-327.31\" font-family=\"Helvetica,sans-Serif\" font-size=\"14.00\">True</text>\n</g>\n<!-- 8 -->\n<g id=\"node9\" class=\"node\">\n<title>8</title>\n<path fill=\"#6eb7ec\" stroke=\"black\" d=\"M671,-306C671,-306 584,-306 584,-306 578,-306 572,-300 572,-294 572,-294 572,-235 572,-235 572,-229 578,-223 584,-223 584,-223 671,-223 671,-223 677,-223 683,-229 683,-235 683,-235 683,-294 683,-294 683,-300 677,-306 671,-306\"/>\n<text text-anchor=\"start\" x=\"586.5\" y=\"-290.8\" font-family=\"Helvetica,sans-Serif\" font-size=\"14.00\">oldpeak ≤ 1.7</text>\n<text text-anchor=\"start\" x=\"580\" y=\"-275.8\" font-family=\"Helvetica,sans-Serif\" font-size=\"14.00\">entropy = 0.746</text>\n<text text-anchor=\"start\" x=\"582.5\" y=\"-260.8\" font-family=\"Helvetica,sans-Serif\" font-size=\"14.00\">samples = 113</text>\n<text text-anchor=\"start\" x=\"580.5\" y=\"-245.8\" font-family=\"Helvetica,sans-Serif\" font-size=\"14.00\">value = [24, 89]</text>\n<text text-anchor=\"start\" x=\"600\" y=\"-230.8\" font-family=\"Helvetica,sans-Serif\" font-size=\"14.00\">class = 1</text>\n</g>\n<!-- 0&#45;&gt;8 -->\n<g id=\"edge8\" class=\"edge\">\n<title>0&#45;&gt;8</title>\n<path fill=\"none\" stroke=\"black\" d=\"M543.26,-341.91C553.56,-332.56 564.61,-322.54 575.21,-312.93\"/>\n<polygon fill=\"black\" stroke=\"black\" points=\"577.77,-315.33 582.82,-306.02 573.06,-310.15 577.77,-315.33\"/>\n<text text-anchor=\"middle\" x=\"581.61\" y=\"-327.29\" font-family=\"Helvetica,sans-Serif\" font-size=\"14.00\">False</text>\n</g>\n<!-- 2 -->\n<g id=\"node3\" class=\"node\">\n<title>2</title>\n<path fill=\"#ffffff\" stroke=\"black\" d=\"M227.5,-187C227.5,-187 141.5,-187 141.5,-187 135.5,-187 129.5,-181 129.5,-175 129.5,-175 129.5,-116 129.5,-116 129.5,-110 135.5,-104 141.5,-104 141.5,-104 227.5,-104 227.5,-104 233.5,-104 239.5,-110 239.5,-116 239.5,-116 239.5,-175 239.5,-175 239.5,-181 233.5,-187 227.5,-187\"/>\n<text text-anchor=\"start\" x=\"156.5\" y=\"-171.8\" font-family=\"Helvetica,sans-Serif\" font-size=\"14.00\">thal ≤ 2.5</text>\n<text text-anchor=\"start\" x=\"144.5\" y=\"-156.8\" font-family=\"Helvetica,sans-Serif\" font-size=\"14.00\">entropy = 1.0</text>\n<text text-anchor=\"start\" x=\"143.5\" y=\"-141.8\" font-family=\"Helvetica,sans-Serif\" font-size=\"14.00\">samples = 44</text>\n<text text-anchor=\"start\" x=\"137.5\" y=\"-126.8\" font-family=\"Helvetica,sans-Serif\" font-size=\"14.00\">value = [22, 22]</text>\n<text text-anchor=\"start\" x=\"157\" y=\"-111.8\" font-family=\"Helvetica,sans-Serif\" font-size=\"14.00\">class = 0</text>\n</g>\n<!-- 1&#45;&gt;2 -->\n<g id=\"edge2\" class=\"edge\">\n<title>1&#45;&gt;2</title>\n<path fill=\"none\" stroke=\"black\" d=\"M317.82,-229.03C296.09,-215.58 271.05,-200.08 248.58,-186.17\"/>\n<polygon fill=\"black\" stroke=\"black\" points=\"250.13,-183.01 239.79,-180.72 246.45,-188.96 250.13,-183.01\"/>\n</g>\n<!-- 5 -->\n<g id=\"node6\" class=\"node\">\n<title>5</title>\n<path fill=\"#e78b49\" stroke=\"black\" d=\"M417,-187C417,-187 330,-187 330,-187 324,-187 318,-181 318,-175 318,-175 318,-116 318,-116 318,-110 324,-104 330,-104 330,-104 417,-104 417,-104 423,-104 429,-110 429,-116 429,-116 429,-175 429,-175 429,-181 423,-187 417,-187\"/>\n<text text-anchor=\"start\" x=\"338\" y=\"-171.8\" font-family=\"Helvetica,sans-Serif\" font-size=\"14.00\">exang ≤ 0.5</text>\n<text text-anchor=\"start\" x=\"326\" y=\"-156.8\" font-family=\"Helvetica,sans-Serif\" font-size=\"14.00\">entropy = 0.376</text>\n<text text-anchor=\"start\" x=\"332.5\" y=\"-141.8\" font-family=\"Helvetica,sans-Serif\" font-size=\"14.00\">samples = 55</text>\n<text text-anchor=\"start\" x=\"330.5\" y=\"-126.8\" font-family=\"Helvetica,sans-Serif\" font-size=\"14.00\">value = [51, 4]</text>\n<text text-anchor=\"start\" x=\"346\" y=\"-111.8\" font-family=\"Helvetica,sans-Serif\" font-size=\"14.00\">class = 0</text>\n</g>\n<!-- 1&#45;&gt;5 -->\n<g id=\"edge5\" class=\"edge\">\n<title>1&#45;&gt;5</title>\n<path fill=\"none\" stroke=\"black\" d=\"M373.5,-222.91C373.5,-214.65 373.5,-205.86 373.5,-197.3\"/>\n<polygon fill=\"black\" stroke=\"black\" points=\"377,-197.02 373.5,-187.02 370,-197.02 377,-197.02\"/>\n</g>\n<!-- 3 -->\n<g id=\"node4\" class=\"node\">\n<title>3</title>\n<path fill=\"#86c3ef\" stroke=\"black\" d=\"M99,-68C99,-68 12,-68 12,-68 6,-68 0,-62 0,-56 0,-56 0,-12 0,-12 0,-6 6,0 12,0 12,0 99,0 99,0 105,0 111,-6 111,-12 111,-12 111,-56 111,-56 111,-62 105,-68 99,-68\"/>\n<text text-anchor=\"start\" x=\"8\" y=\"-52.8\" font-family=\"Helvetica,sans-Serif\" font-size=\"14.00\">entropy = 0.855</text>\n<text text-anchor=\"start\" x=\"14.5\" y=\"-37.8\" font-family=\"Helvetica,sans-Serif\" font-size=\"14.00\">samples = 25</text>\n<text text-anchor=\"start\" x=\"12.5\" y=\"-22.8\" font-family=\"Helvetica,sans-Serif\" font-size=\"14.00\">value = [7, 18]</text>\n<text text-anchor=\"start\" x=\"28\" y=\"-7.8\" font-family=\"Helvetica,sans-Serif\" font-size=\"14.00\">class = 1</text>\n</g>\n<!-- 2&#45;&gt;3 -->\n<g id=\"edge3\" class=\"edge\">\n<title>2&#45;&gt;3</title>\n<path fill=\"none\" stroke=\"black\" d=\"M136.47,-103.73C125.4,-94.33 113.64,-84.35 102.61,-74.99\"/>\n<polygon fill=\"black\" stroke=\"black\" points=\"104.62,-72.1 94.73,-68.3 100.09,-77.44 104.62,-72.1\"/>\n</g>\n<!-- 4 -->\n<g id=\"node5\" class=\"node\">\n<title>4</title>\n<path fill=\"#eca36e\" stroke=\"black\" d=\"M228,-68C228,-68 141,-68 141,-68 135,-68 129,-62 129,-56 129,-56 129,-12 129,-12 129,-6 135,0 141,0 141,0 228,0 228,0 234,0 240,-6 240,-12 240,-12 240,-56 240,-56 240,-62 234,-68 228,-68\"/>\n<text text-anchor=\"start\" x=\"137\" y=\"-52.8\" font-family=\"Helvetica,sans-Serif\" font-size=\"14.00\">entropy = 0.742</text>\n<text text-anchor=\"start\" x=\"143.5\" y=\"-37.8\" font-family=\"Helvetica,sans-Serif\" font-size=\"14.00\">samples = 19</text>\n<text text-anchor=\"start\" x=\"141.5\" y=\"-22.8\" font-family=\"Helvetica,sans-Serif\" font-size=\"14.00\">value = [15, 4]</text>\n<text text-anchor=\"start\" x=\"157\" y=\"-7.8\" font-family=\"Helvetica,sans-Serif\" font-size=\"14.00\">class = 0</text>\n</g>\n<!-- 2&#45;&gt;4 -->\n<g id=\"edge4\" class=\"edge\">\n<title>2&#45;&gt;4</title>\n<path fill=\"none\" stroke=\"black\" d=\"M184.5,-103.73C184.5,-95.52 184.5,-86.86 184.5,-78.56\"/>\n<polygon fill=\"black\" stroke=\"black\" points=\"188,-78.3 184.5,-68.3 181,-78.3 188,-78.3\"/>\n</g>\n<!-- 6 -->\n<g id=\"node7\" class=\"node\">\n<title>6</title>\n<path fill=\"#eca06a\" stroke=\"black\" d=\"M357,-68C357,-68 270,-68 270,-68 264,-68 258,-62 258,-56 258,-56 258,-12 258,-12 258,-6 264,0 270,0 270,0 357,0 357,0 363,0 369,-6 369,-12 369,-12 369,-56 369,-56 369,-62 363,-68 357,-68\"/>\n<text text-anchor=\"start\" x=\"266\" y=\"-52.8\" font-family=\"Helvetica,sans-Serif\" font-size=\"14.00\">entropy = 0.722</text>\n<text text-anchor=\"start\" x=\"272.5\" y=\"-37.8\" font-family=\"Helvetica,sans-Serif\" font-size=\"14.00\">samples = 20</text>\n<text text-anchor=\"start\" x=\"270.5\" y=\"-22.8\" font-family=\"Helvetica,sans-Serif\" font-size=\"14.00\">value = [16, 4]</text>\n<text text-anchor=\"start\" x=\"286\" y=\"-7.8\" font-family=\"Helvetica,sans-Serif\" font-size=\"14.00\">class = 0</text>\n</g>\n<!-- 5&#45;&gt;6 -->\n<g id=\"edge6\" class=\"edge\">\n<title>5&#45;&gt;6</title>\n<path fill=\"none\" stroke=\"black\" d=\"M351.16,-103.73C346.41,-95.06 341.39,-85.9 336.61,-77.18\"/>\n<polygon fill=\"black\" stroke=\"black\" points=\"339.62,-75.39 331.75,-68.3 333.48,-78.75 339.62,-75.39\"/>\n</g>\n<!-- 7 -->\n<g id=\"node8\" class=\"node\">\n<title>7</title>\n<path fill=\"#e58139\" stroke=\"black\" d=\"M477.5,-68C477.5,-68 399.5,-68 399.5,-68 393.5,-68 387.5,-62 387.5,-56 387.5,-56 387.5,-12 387.5,-12 387.5,-6 393.5,0 399.5,0 399.5,0 477.5,0 477.5,0 483.5,0 489.5,-6 489.5,-12 489.5,-12 489.5,-56 489.5,-56 489.5,-62 483.5,-68 477.5,-68\"/>\n<text text-anchor=\"start\" x=\"398.5\" y=\"-52.8\" font-family=\"Helvetica,sans-Serif\" font-size=\"14.00\">entropy = 0.0</text>\n<text text-anchor=\"start\" x=\"397.5\" y=\"-37.8\" font-family=\"Helvetica,sans-Serif\" font-size=\"14.00\">samples = 35</text>\n<text text-anchor=\"start\" x=\"395.5\" y=\"-22.8\" font-family=\"Helvetica,sans-Serif\" font-size=\"14.00\">value = [35, 0]</text>\n<text text-anchor=\"start\" x=\"411\" y=\"-7.8\" font-family=\"Helvetica,sans-Serif\" font-size=\"14.00\">class = 0</text>\n</g>\n<!-- 5&#45;&gt;7 -->\n<g id=\"edge7\" class=\"edge\">\n<title>5&#45;&gt;7</title>\n<path fill=\"none\" stroke=\"black\" d=\"M397.7,-103.73C402.9,-94.97 408.4,-85.7 413.62,-76.91\"/>\n<polygon fill=\"black\" stroke=\"black\" points=\"416.64,-78.69 418.73,-68.3 410.62,-75.11 416.64,-78.69\"/>\n</g>\n<!-- 9 -->\n<g id=\"node10\" class=\"node\">\n<title>9</title>\n<path fill=\"#59ade9\" stroke=\"black\" d=\"M670.5,-187C670.5,-187 584.5,-187 584.5,-187 578.5,-187 572.5,-181 572.5,-175 572.5,-175 572.5,-116 572.5,-116 572.5,-110 578.5,-104 584.5,-104 584.5,-104 670.5,-104 670.5,-104 676.5,-104 682.5,-110 682.5,-116 682.5,-116 682.5,-175 682.5,-175 682.5,-181 676.5,-187 670.5,-187\"/>\n<text text-anchor=\"start\" x=\"581\" y=\"-171.8\" font-family=\"Helvetica,sans-Serif\" font-size=\"14.00\">thalach ≤ 152.5</text>\n<text text-anchor=\"start\" x=\"583.5\" y=\"-156.8\" font-family=\"Helvetica,sans-Serif\" font-size=\"14.00\">entropy = 0.58</text>\n<text text-anchor=\"start\" x=\"586.5\" y=\"-141.8\" font-family=\"Helvetica,sans-Serif\" font-size=\"14.00\">samples = 94</text>\n<text text-anchor=\"start\" x=\"580.5\" y=\"-126.8\" font-family=\"Helvetica,sans-Serif\" font-size=\"14.00\">value = [13, 81]</text>\n<text text-anchor=\"start\" x=\"600\" y=\"-111.8\" font-family=\"Helvetica,sans-Serif\" font-size=\"14.00\">class = 1</text>\n</g>\n<!-- 8&#45;&gt;9 -->\n<g id=\"edge9\" class=\"edge\">\n<title>8&#45;&gt;9</title>\n<path fill=\"none\" stroke=\"black\" d=\"M627.5,-222.91C627.5,-214.65 627.5,-205.86 627.5,-197.3\"/>\n<polygon fill=\"black\" stroke=\"black\" points=\"631,-197.02 627.5,-187.02 624,-197.02 631,-197.02\"/>\n</g>\n<!-- 12 -->\n<g id=\"node13\" class=\"node\">\n<title>12</title>\n<path fill=\"#f8ddc9\" stroke=\"black\" d=\"M865,-187C865,-187 778,-187 778,-187 772,-187 766,-181 766,-175 766,-175 766,-116 766,-116 766,-110 772,-104 778,-104 778,-104 865,-104 865,-104 871,-104 877,-110 877,-116 877,-116 877,-175 877,-175 877,-181 871,-187 865,-187\"/>\n<text text-anchor=\"start\" x=\"797\" y=\"-171.8\" font-family=\"Helvetica,sans-Serif\" font-size=\"14.00\">cp ≤ 2.5</text>\n<text text-anchor=\"start\" x=\"774\" y=\"-156.8\" font-family=\"Helvetica,sans-Serif\" font-size=\"14.00\">entropy = 0.982</text>\n<text text-anchor=\"start\" x=\"780.5\" y=\"-141.8\" font-family=\"Helvetica,sans-Serif\" font-size=\"14.00\">samples = 19</text>\n<text text-anchor=\"start\" x=\"778.5\" y=\"-126.8\" font-family=\"Helvetica,sans-Serif\" font-size=\"14.00\">value = [11, 8]</text>\n<text text-anchor=\"start\" x=\"794\" y=\"-111.8\" font-family=\"Helvetica,sans-Serif\" font-size=\"14.00\">class = 0</text>\n</g>\n<!-- 8&#45;&gt;12 -->\n<g id=\"edge12\" class=\"edge\">\n<title>8&#45;&gt;12</title>\n<path fill=\"none\" stroke=\"black\" d=\"M683.09,-229.97C706.23,-216.02 733.23,-199.73 757.21,-185.27\"/>\n<polygon fill=\"black\" stroke=\"black\" points=\"759.14,-188.19 765.9,-180.03 755.53,-182.2 759.14,-188.19\"/>\n</g>\n<!-- 10 -->\n<g id=\"node11\" class=\"node\">\n<title>10</title>\n<path fill=\"#92c9f1\" stroke=\"black\" d=\"M607,-68C607,-68 520,-68 520,-68 514,-68 508,-62 508,-56 508,-56 508,-12 508,-12 508,-6 514,0 520,0 520,0 607,0 607,0 613,0 619,-6 619,-12 619,-12 619,-56 619,-56 619,-62 613,-68 607,-68\"/>\n<text text-anchor=\"start\" x=\"516\" y=\"-52.8\" font-family=\"Helvetica,sans-Serif\" font-size=\"14.00\">entropy = 0.894</text>\n<text text-anchor=\"start\" x=\"522.5\" y=\"-37.8\" font-family=\"Helvetica,sans-Serif\" font-size=\"14.00\">samples = 29</text>\n<text text-anchor=\"start\" x=\"520.5\" y=\"-22.8\" font-family=\"Helvetica,sans-Serif\" font-size=\"14.00\">value = [9, 20]</text>\n<text text-anchor=\"start\" x=\"536\" y=\"-7.8\" font-family=\"Helvetica,sans-Serif\" font-size=\"14.00\">class = 1</text>\n</g>\n<!-- 9&#45;&gt;10 -->\n<g id=\"edge10\" class=\"edge\">\n<title>9&#45;&gt;10</title>\n<path fill=\"none\" stroke=\"black\" d=\"M603.67,-103.73C598.6,-95.06 593.25,-85.9 588.15,-77.18\"/>\n<polygon fill=\"black\" stroke=\"black\" points=\"591.03,-75.17 582.96,-68.3 584.99,-78.7 591.03,-75.17\"/>\n</g>\n<!-- 11 -->\n<g id=\"node12\" class=\"node\">\n<title>11</title>\n<path fill=\"#46a3e7\" stroke=\"black\" d=\"M736,-68C736,-68 649,-68 649,-68 643,-68 637,-62 637,-56 637,-56 637,-12 637,-12 637,-6 643,0 649,0 649,0 736,0 736,0 742,0 748,-6 748,-12 748,-12 748,-56 748,-56 748,-62 742,-68 736,-68\"/>\n<text text-anchor=\"start\" x=\"645\" y=\"-52.8\" font-family=\"Helvetica,sans-Serif\" font-size=\"14.00\">entropy = 0.334</text>\n<text text-anchor=\"start\" x=\"651.5\" y=\"-37.8\" font-family=\"Helvetica,sans-Serif\" font-size=\"14.00\">samples = 65</text>\n<text text-anchor=\"start\" x=\"649.5\" y=\"-22.8\" font-family=\"Helvetica,sans-Serif\" font-size=\"14.00\">value = [4, 61]</text>\n<text text-anchor=\"start\" x=\"665\" y=\"-7.8\" font-family=\"Helvetica,sans-Serif\" font-size=\"14.00\">class = 1</text>\n</g>\n<!-- 9&#45;&gt;11 -->\n<g id=\"edge11\" class=\"edge\">\n<title>9&#45;&gt;11</title>\n<path fill=\"none\" stroke=\"black\" d=\"M651.7,-103.73C656.9,-94.97 662.4,-85.7 667.62,-76.91\"/>\n<polygon fill=\"black\" stroke=\"black\" points=\"670.64,-78.69 672.73,-68.3 664.62,-75.11 670.64,-78.69\"/>\n</g>\n<!-- 13 -->\n<g id=\"node14\" class=\"node\">\n<title>13</title>\n<path fill=\"#eeab7b\" stroke=\"black\" d=\"M865,-68C865,-68 778,-68 778,-68 772,-68 766,-62 766,-56 766,-56 766,-12 766,-12 766,-6 772,0 778,0 778,0 865,0 865,0 871,0 877,-6 877,-12 877,-12 877,-56 877,-56 877,-62 871,-68 865,-68\"/>\n<text text-anchor=\"start\" x=\"774\" y=\"-52.8\" font-family=\"Helvetica,sans-Serif\" font-size=\"14.00\">entropy = 0.811</text>\n<text text-anchor=\"start\" x=\"780.5\" y=\"-37.8\" font-family=\"Helvetica,sans-Serif\" font-size=\"14.00\">samples = 12</text>\n<text text-anchor=\"start\" x=\"782\" y=\"-22.8\" font-family=\"Helvetica,sans-Serif\" font-size=\"14.00\">value = [9, 3]</text>\n<text text-anchor=\"start\" x=\"794\" y=\"-7.8\" font-family=\"Helvetica,sans-Serif\" font-size=\"14.00\">class = 0</text>\n</g>\n<!-- 12&#45;&gt;13 -->\n<g id=\"edge13\" class=\"edge\">\n<title>12&#45;&gt;13</title>\n<path fill=\"none\" stroke=\"black\" d=\"M821.5,-103.73C821.5,-95.52 821.5,-86.86 821.5,-78.56\"/>\n<polygon fill=\"black\" stroke=\"black\" points=\"825,-78.3 821.5,-68.3 818,-78.3 825,-78.3\"/>\n</g>\n<!-- 14 -->\n<g id=\"node15\" class=\"node\">\n<title>14</title>\n<path fill=\"#88c4ef\" stroke=\"black\" d=\"M994,-68C994,-68 907,-68 907,-68 901,-68 895,-62 895,-56 895,-56 895,-12 895,-12 895,-6 901,0 907,0 907,0 994,0 994,0 1000,0 1006,-6 1006,-12 1006,-12 1006,-56 1006,-56 1006,-62 1000,-68 994,-68\"/>\n<text text-anchor=\"start\" x=\"903\" y=\"-52.8\" font-family=\"Helvetica,sans-Serif\" font-size=\"14.00\">entropy = 0.863</text>\n<text text-anchor=\"start\" x=\"913\" y=\"-37.8\" font-family=\"Helvetica,sans-Serif\" font-size=\"14.00\">samples = 7</text>\n<text text-anchor=\"start\" x=\"911\" y=\"-22.8\" font-family=\"Helvetica,sans-Serif\" font-size=\"14.00\">value = [2, 5]</text>\n<text text-anchor=\"start\" x=\"923\" y=\"-7.8\" font-family=\"Helvetica,sans-Serif\" font-size=\"14.00\">class = 1</text>\n</g>\n<!-- 12&#45;&gt;14 -->\n<g id=\"edge14\" class=\"edge\">\n<title>12&#45;&gt;14</title>\n<path fill=\"none\" stroke=\"black\" d=\"M869.53,-103.73C880.6,-94.33 892.36,-84.35 903.39,-74.99\"/>\n<polygon fill=\"black\" stroke=\"black\" points=\"905.91,-77.44 911.27,-68.3 901.38,-72.1 905.91,-77.44\"/>\n</g>\n</g>\n</svg>\n",
            "text/plain": [
              "<graphviz.sources.Source at 0x794f5c8494b0>"
            ]
          },
          "metadata": {},
          "execution_count": 162
        }
      ],
      "source": [
        "# TO DO: Plot the resulting tree\n",
        "#________TO DO_________\n",
        "# TO DO: Plot the resulting tree\n",
        "# Create and fit the best DT classifier\n",
        "best_clf = tree.DecisionTreeClassifier(criterion=\"entropy\", max_depth=best_depth, min_samples_leaf=best_min_samples_leaf)\n",
        "best_clf = best_clf.fit(XTrain, yTrain)\n",
        "\n",
        "# Plot the best DT\n",
        "dot_data = tree.export_graphviz(best_clf, out_file=None,\n",
        "                     feature_names=XTrain.columns,\n",
        "                     class_names=[str(class_label) for class_label in best_clf.classes_], rounded=True,\n",
        "                     special_characters=True, filled= True)  #___TO DO___\n",
        "\n",
        "# Create the graphviz graph\n",
        "graph = graphviz.Source(dot_data)\n",
        "# Display the DT graph\n",
        "graph\n",
        "#________TO DO_________"
      ]
    },
    {
      "cell_type": "code",
      "source": [],
      "metadata": {
        "id": "fSrFbBmLbmWp"
      },
      "execution_count": null,
      "outputs": []
    },
    {
      "cell_type": "markdown",
      "metadata": {
        "id": "w2y7rdYZjS5O"
      },
      "source": [
        "On this lab, we've been using a split of training/test, and we have been taking decisions and changing hyperparameters (e.g. depth) based on the test performance. **Is this the correct methodology?**"
      ]
    },
    {
      "cell_type": "markdown",
      "source": [
        "<font color=\"red\">I think this is not correct methodology by using a split of training/test and taking decisions and changing hyperparameters based on test performance. We should use a validation set and cross-validation techniques for more robust model assessment.\n",
        "\n",
        "</font>"
      ],
      "metadata": {
        "id": "vJnz3f2eajZw"
      }
    }
  ],
  "metadata": {
    "colab": {
      "provenance": [],
      "include_colab_link": true
    },
    "kernelspec": {
      "display_name": "Python 3",
      "name": "python3"
    },
    "language_info": {
      "name": "python"
    }
  },
  "nbformat": 4,
  "nbformat_minor": 0
}